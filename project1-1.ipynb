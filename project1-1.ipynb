{
 "cells": [
  {
   "cell_type": "markdown",
   "id": "8c2218d7",
   "metadata": {},
   "source": [
    "# <center>온라인 뉴스 분석</center>"
   ]
  },
  {
   "cell_type": "markdown",
   "id": "0037a472",
   "metadata": {},
   "source": [
    "### <div style=\"text-align: right\"> 2019212840 황민섭 </div>"
   ]
  },
  {
   "cell_type": "markdown",
   "id": "e2673594",
   "metadata": {},
   "source": [
    "# 분석 배경 및 목적"
   ]
  },
  {
   "cell_type": "markdown",
   "id": "3a8f5a72",
   "metadata": {},
   "source": [
    "### 인터넷의 영향력이 증가하고 있는 가운데, 신문-방송과 같은 전통적인 뉴스 포털보다 인터넷을 통해 제공되는 뉴스의 영향력이 커지고 있다. \n",
    "### 앞으로 더욱 더 많은신문사 닷컴의 온라인 뉴스가 증가 할 것이기에 어느 매체가 온라인 뉴스의 장점(상호작용성과 즉시성 등)을 더 가지고 있는 가에 대해 판단하기 위해 분석하였다.\n",
    "\n",
    "---"
   ]
  },
  {
   "cell_type": "markdown",
   "id": "42aa9c63",
   "metadata": {},
   "source": [
    "## 분석 자료\n",
    "1. 동아일보 최신 기사 200개 (6.9일 19:00 기준)"
   ]
  },
  {
   "cell_type": "markdown",
   "id": "e46fd5c9",
   "metadata": {},
   "source": [
    "# 분석 순서"
   ]
  },
  {
   "cell_type": "markdown",
   "id": "e621242a",
   "metadata": {},
   "source": [
    "### 1. 자료 스크래핑\n",
    "### 2. 기초 분석 및 교차표 생성\n",
    "### 3. 토픽 분석\n",
    "### 4. 계층적 군집 분석\n",
    "\n",
    "---"
   ]
  },
  {
   "cell_type": "markdown",
   "id": "2edf0c74",
   "metadata": {},
   "source": [
    "### 1-1 동아일보 최신 기사 순으로 스크래핑"
   ]
  },
  {
   "cell_type": "code",
   "execution_count": 2,
   "id": "29871abd",
   "metadata": {},
   "outputs": [],
   "source": [
    "# 라이브러리\n",
    "library(rvest)\n",
    "library(dplyr)\n",
    "library(stringr)"
   ]
  },
  {
   "cell_type": "code",
   "execution_count": 3,
   "id": "79e13902",
   "metadata": {},
   "outputs": [],
   "source": [
    "# 동아일보 url 읽기\n",
    "url = 'https://www.donga.com/news/List?p='\n",
    "\n",
    "news_page = read_html(url)"
   ]
  },
  {
   "cell_type": "code",
   "execution_count": 4,
   "id": "b5a9773a",
   "metadata": {},
   "outputs": [],
   "source": [
    "page_num = NULL\n",
    "urls = NULL"
   ]
  },
  {
   "cell_type": "code",
   "execution_count": 5,
   "id": "9c8c31a2",
   "metadata": {},
   "outputs": [
    {
     "data": {
      "text/html": [
       "<ol class=list-inline>\n",
       "\t<li>1</li>\n",
       "\t<li>21</li>\n",
       "\t<li>41</li>\n",
       "\t<li>61</li>\n",
       "\t<li>81</li>\n",
       "\t<li>101</li>\n",
       "\t<li>121</li>\n",
       "\t<li>141</li>\n",
       "\t<li>161</li>\n",
       "\t<li>181</li>\n",
       "\t<li>201</li>\n",
       "\t<li>221</li>\n",
       "\t<li>241</li>\n",
       "\t<li>261</li>\n",
       "\t<li>281</li>\n",
       "\t<li>301</li>\n",
       "\t<li>321</li>\n",
       "\t<li>341</li>\n",
       "\t<li>361</li>\n",
       "\t<li>381</li>\n",
       "\t<li>401</li>\n",
       "\t<li>421</li>\n",
       "\t<li>441</li>\n",
       "\t<li>461</li>\n",
       "\t<li>481</li>\n",
       "\t<li>501</li>\n",
       "\t<li>521</li>\n",
       "\t<li>541</li>\n",
       "\t<li>561</li>\n",
       "\t<li>581</li>\n",
       "\t<li>601</li>\n",
       "\t<li>621</li>\n",
       "\t<li>641</li>\n",
       "\t<li>661</li>\n",
       "\t<li>681</li>\n",
       "\t<li>701</li>\n",
       "\t<li>721</li>\n",
       "\t<li>741</li>\n",
       "\t<li>761</li>\n",
       "\t<li>781</li>\n",
       "\t<li>801</li>\n",
       "\t<li>821</li>\n",
       "\t<li>841</li>\n",
       "\t<li>861</li>\n",
       "\t<li>881</li>\n",
       "\t<li>901</li>\n",
       "\t<li>921</li>\n",
       "\t<li>941</li>\n",
       "\t<li>961</li>\n",
       "\t<li>981</li>\n",
       "</ol>\n"
      ],
      "text/latex": [
       "\\begin{enumerate*}\n",
       "\\item 1\n",
       "\\item 21\n",
       "\\item 41\n",
       "\\item 61\n",
       "\\item 81\n",
       "\\item 101\n",
       "\\item 121\n",
       "\\item 141\n",
       "\\item 161\n",
       "\\item 181\n",
       "\\item 201\n",
       "\\item 221\n",
       "\\item 241\n",
       "\\item 261\n",
       "\\item 281\n",
       "\\item 301\n",
       "\\item 321\n",
       "\\item 341\n",
       "\\item 361\n",
       "\\item 381\n",
       "\\item 401\n",
       "\\item 421\n",
       "\\item 441\n",
       "\\item 461\n",
       "\\item 481\n",
       "\\item 501\n",
       "\\item 521\n",
       "\\item 541\n",
       "\\item 561\n",
       "\\item 581\n",
       "\\item 601\n",
       "\\item 621\n",
       "\\item 641\n",
       "\\item 661\n",
       "\\item 681\n",
       "\\item 701\n",
       "\\item 721\n",
       "\\item 741\n",
       "\\item 761\n",
       "\\item 781\n",
       "\\item 801\n",
       "\\item 821\n",
       "\\item 841\n",
       "\\item 861\n",
       "\\item 881\n",
       "\\item 901\n",
       "\\item 921\n",
       "\\item 941\n",
       "\\item 961\n",
       "\\item 981\n",
       "\\end{enumerate*}\n"
      ],
      "text/markdown": [
       "1. 1\n",
       "2. 21\n",
       "3. 41\n",
       "4. 61\n",
       "5. 81\n",
       "6. 101\n",
       "7. 121\n",
       "8. 141\n",
       "9. 161\n",
       "10. 181\n",
       "11. 201\n",
       "12. 221\n",
       "13. 241\n",
       "14. 261\n",
       "15. 281\n",
       "16. 301\n",
       "17. 321\n",
       "18. 341\n",
       "19. 361\n",
       "20. 381\n",
       "21. 401\n",
       "22. 421\n",
       "23. 441\n",
       "24. 461\n",
       "25. 481\n",
       "26. 501\n",
       "27. 521\n",
       "28. 541\n",
       "29. 561\n",
       "30. 581\n",
       "31. 601\n",
       "32. 621\n",
       "33. 641\n",
       "34. 661\n",
       "35. 681\n",
       "36. 701\n",
       "37. 721\n",
       "38. 741\n",
       "39. 761\n",
       "40. 781\n",
       "41. 801\n",
       "42. 821\n",
       "43. 841\n",
       "44. 861\n",
       "45. 881\n",
       "46. 901\n",
       "47. 921\n",
       "48. 941\n",
       "49. 961\n",
       "50. 981\n",
       "\n",
       "\n"
      ],
      "text/plain": [
       " [1]   1  21  41  61  81 101 121 141 161 181 201 221 241 261 281 301 321 341 361\n",
       "[20] 381 401 421 441 461 481 501 521 541 561 581 601 621 641 661 681 701 721 741\n",
       "[39] 761 781 801 821 841 861 881 901 921 941 961 981"
      ]
     },
     "metadata": {},
     "output_type": "display_data"
    }
   ],
   "source": [
    "# 동아일보 pagenum 설정\n",
    "# ex) p=1, p=21, p=41. p=61...\n",
    "\n",
    "for (x in 1:50) {\n",
    "  page_num[x] = ((10*(x-1))*2)+1\n",
    "}\n",
    "page_num"
   ]
  },
  {
   "cell_type": "code",
   "execution_count": 6,
   "id": "da8e8ef2",
   "metadata": {
    "scrolled": true
   },
   "outputs": [
    {
     "data": {
      "text/html": [
       "<ol class=list-inline>\n",
       "\t<li>'https://www.donga.com/news/List?p=1'</li>\n",
       "\t<li>'https://www.donga.com/news/List?p=21'</li>\n",
       "\t<li>'https://www.donga.com/news/List?p=41'</li>\n",
       "\t<li>'https://www.donga.com/news/List?p=61'</li>\n",
       "\t<li>'https://www.donga.com/news/List?p=81'</li>\n",
       "\t<li>'https://www.donga.com/news/List?p=101'</li>\n",
       "\t<li>'https://www.donga.com/news/List?p=121'</li>\n",
       "\t<li>'https://www.donga.com/news/List?p=141'</li>\n",
       "\t<li>'https://www.donga.com/news/List?p=161'</li>\n",
       "\t<li>'https://www.donga.com/news/List?p=181'</li>\n",
       "</ol>\n"
      ],
      "text/latex": [
       "\\begin{enumerate*}\n",
       "\\item 'https://www.donga.com/news/List?p=1'\n",
       "\\item 'https://www.donga.com/news/List?p=21'\n",
       "\\item 'https://www.donga.com/news/List?p=41'\n",
       "\\item 'https://www.donga.com/news/List?p=61'\n",
       "\\item 'https://www.donga.com/news/List?p=81'\n",
       "\\item 'https://www.donga.com/news/List?p=101'\n",
       "\\item 'https://www.donga.com/news/List?p=121'\n",
       "\\item 'https://www.donga.com/news/List?p=141'\n",
       "\\item 'https://www.donga.com/news/List?p=161'\n",
       "\\item 'https://www.donga.com/news/List?p=181'\n",
       "\\end{enumerate*}\n"
      ],
      "text/markdown": [
       "1. 'https://www.donga.com/news/List?p=1'\n",
       "2. 'https://www.donga.com/news/List?p=21'\n",
       "3. 'https://www.donga.com/news/List?p=41'\n",
       "4. 'https://www.donga.com/news/List?p=61'\n",
       "5. 'https://www.donga.com/news/List?p=81'\n",
       "6. 'https://www.donga.com/news/List?p=101'\n",
       "7. 'https://www.donga.com/news/List?p=121'\n",
       "8. 'https://www.donga.com/news/List?p=141'\n",
       "9. 'https://www.donga.com/news/List?p=161'\n",
       "10. 'https://www.donga.com/news/List?p=181'\n",
       "\n",
       "\n"
      ],
      "text/plain": [
       " [1] \"https://www.donga.com/news/List?p=1\"  \n",
       " [2] \"https://www.donga.com/news/List?p=21\" \n",
       " [3] \"https://www.donga.com/news/List?p=41\" \n",
       " [4] \"https://www.donga.com/news/List?p=61\" \n",
       " [5] \"https://www.donga.com/news/List?p=81\" \n",
       " [6] \"https://www.donga.com/news/List?p=101\"\n",
       " [7] \"https://www.donga.com/news/List?p=121\"\n",
       " [8] \"https://www.donga.com/news/List?p=141\"\n",
       " [9] \"https://www.donga.com/news/List?p=161\"\n",
       "[10] \"https://www.donga.com/news/List?p=181\""
      ]
     },
     "metadata": {},
     "output_type": "display_data"
    }
   ],
   "source": [
    "for (y in 1:50) {\n",
    "  urls[y] = paste0(url,page_num[y])\n",
    "}\n",
    "urls[1:10]"
   ]
  },
  {
   "cell_type": "code",
   "execution_count": 7,
   "id": "a61bb32a",
   "metadata": {
    "scrolled": true
   },
   "outputs": [
    {
     "data": {
      "text/html": [
       "<ol class=list-inline>\n",
       "\t<li>'https://www.donga.com/news/Entertainment/article/all/20230617/119814445/1'</li>\n",
       "\t<li>'https://www.donga.com/news/Society/article/all/20230617/119814444/1'</li>\n",
       "\t<li>'https://www.donga.com/news/Society/article/all/20230617/119814443/1'</li>\n",
       "\t<li>'https://www.donga.com/news/Economy/article/all/20230617/119814440/1'</li>\n",
       "\t<li>'https://www.donga.com/news/Society/article/all/20230617/119814421/2'</li>\n",
       "\t<li>'https://www.donga.com/news/Society/article/all/20230617/119814329/2'</li>\n",
       "</ol>\n"
      ],
      "text/latex": [
       "\\begin{enumerate*}\n",
       "\\item 'https://www.donga.com/news/Entertainment/article/all/20230617/119814445/1'\n",
       "\\item 'https://www.donga.com/news/Society/article/all/20230617/119814444/1'\n",
       "\\item 'https://www.donga.com/news/Society/article/all/20230617/119814443/1'\n",
       "\\item 'https://www.donga.com/news/Economy/article/all/20230617/119814440/1'\n",
       "\\item 'https://www.donga.com/news/Society/article/all/20230617/119814421/2'\n",
       "\\item 'https://www.donga.com/news/Society/article/all/20230617/119814329/2'\n",
       "\\end{enumerate*}\n"
      ],
      "text/markdown": [
       "1. 'https://www.donga.com/news/Entertainment/article/all/20230617/119814445/1'\n",
       "2. 'https://www.donga.com/news/Society/article/all/20230617/119814444/1'\n",
       "3. 'https://www.donga.com/news/Society/article/all/20230617/119814443/1'\n",
       "4. 'https://www.donga.com/news/Economy/article/all/20230617/119814440/1'\n",
       "5. 'https://www.donga.com/news/Society/article/all/20230617/119814421/2'\n",
       "6. 'https://www.donga.com/news/Society/article/all/20230617/119814329/2'\n",
       "\n",
       "\n"
      ],
      "text/plain": [
       "[1] \"https://www.donga.com/news/Entertainment/article/all/20230617/119814445/1\"\n",
       "[2] \"https://www.donga.com/news/Society/article/all/20230617/119814444/1\"      \n",
       "[3] \"https://www.donga.com/news/Society/article/all/20230617/119814443/1\"      \n",
       "[4] \"https://www.donga.com/news/Economy/article/all/20230617/119814440/1\"      \n",
       "[5] \"https://www.donga.com/news/Society/article/all/20230617/119814421/2\"      \n",
       "[6] \"https://www.donga.com/news/Society/article/all/20230617/119814329/2\"      "
      ]
     },
     "metadata": {},
     "output_type": "display_data"
    },
    {
     "data": {
      "text/html": [
       "1000"
      ],
      "text/latex": [
       "1000"
      ],
      "text/markdown": [
       "1000"
      ],
      "text/plain": [
       "[1] 1000"
      ]
     },
     "metadata": {},
     "output_type": "display_data"
    }
   ],
   "source": [
    "# 기사 본문 url\n",
    "d_n_urls = NULL\n",
    "\n",
    "for (url in urls) {\n",
    "  donga = read_html(url, encoding='utf8')\n",
    "  d_n_urls = c(d_n_urls, donga %>% html_nodes('#content > div > div > span.tit > a:nth-child(1)')\n",
    "             %>% html_attr('href'))\n",
    "  \n",
    "\n",
    "} \n",
    "\n",
    "head(d_n_urls)\n",
    "length(d_n_urls)"
   ]
  },
  {
   "cell_type": "code",
   "execution_count": 9,
   "id": "8aa5205c",
   "metadata": {},
   "outputs": [
    {
     "data": {
      "text/html": [
       "<ol class=list-inline>\n",
       "\t<li>'한문철 변호사 “급발진 사고 원인 밝혀 해결하는 게 꿈이다”'</li>\n",
       "\t<li>'전세버스서 김밥 먹은 관광객 26명 집단 식중독 증세…병원 이송'</li>\n",
       "\t<li>'건설노조 “양회동 장례 마무리 후 2차 총파업 진행”'</li>\n",
       "\t<li>'尹공약 ‘청년도약계좌’… 어느 은행이 가장 유리할까? [김도형의 돈의 뒷면]'</li>\n",
       "\t<li>'“대통령 죽이겠다” 국정원에 협박전화 건 60대 긴급체포'</li>\n",
       "\t<li>'엘베 막은 자전거 치웠더니…“손대지마” 적반하장 쪽지 붙었다 [e글e글]'</li>\n",
       "</ol>\n"
      ],
      "text/latex": [
       "\\begin{enumerate*}\n",
       "\\item '한문철 변호사 “급발진 사고 원인 밝혀 해결하는 게 꿈이다”'\n",
       "\\item '전세버스서 김밥 먹은 관광객 26명 집단 식중독 증세…병원 이송'\n",
       "\\item '건설노조 “양회동 장례 마무리 후 2차 총파업 진행”'\n",
       "\\item '尹공약 ‘청년도약계좌’… 어느 은행이 가장 유리할까? {[}김도형의 돈의 뒷면{]}'\n",
       "\\item '“대통령 죽이겠다” 국정원에 협박전화 건 60대 긴급체포'\n",
       "\\item '엘베 막은 자전거 치웠더니…“손대지마” 적반하장 쪽지 붙었다 {[}e글e글{]}'\n",
       "\\end{enumerate*}\n"
      ],
      "text/markdown": [
       "1. '한문철 변호사 “급발진 사고 원인 밝혀 해결하는 게 꿈이다”'\n",
       "2. '전세버스서 김밥 먹은 관광객 26명 집단 식중독 증세…병원 이송'\n",
       "3. '건설노조 “양회동 장례 마무리 후 2차 총파업 진행”'\n",
       "4. '尹공약 ‘청년도약계좌’… 어느 은행이 가장 유리할까? [김도형의 돈의 뒷면]'\n",
       "5. '“대통령 죽이겠다” 국정원에 협박전화 건 60대 긴급체포'\n",
       "6. '엘베 막은 자전거 치웠더니…“손대지마” 적반하장 쪽지 붙었다 [e글e글]'\n",
       "\n",
       "\n"
      ],
      "text/plain": [
       "[1] \"한문철 변호사 “급발진 사고 원인 밝혀 해결하는 게 꿈이다”\"               \n",
       "[2] \"전세버스서 김밥 먹은 관광객 26명 집단 식중독 증세…병원 이송\"             \n",
       "[3] \"건설노조 “양회동 장례 마무리 후 2차 총파업 진행”\"                       \n",
       "[4] \"尹공약 ‘청년도약계좌’… 어느 은행이 가장 유리할까? [김도형의 돈의 뒷면]\"\n",
       "[5] \"“대통령 죽이겠다” 국정원에 협박전화 건 60대 긴급체포\"                   \n",
       "[6] \"엘베 막은 자전거 치웠더니…“손대지마” 적반하장 쪽지 붙었다 [e글e글]\"    "
      ]
     },
     "metadata": {},
     "output_type": "display_data"
    },
    {
     "data": {
      "text/html": [
       "1000"
      ],
      "text/latex": [
       "1000"
      ],
      "text/markdown": [
       "1000"
      ],
      "text/plain": [
       "[1] 1000"
      ]
     },
     "metadata": {},
     "output_type": "display_data"
    }
   ],
   "source": [
    "d_news_headline = NULL\n",
    "\n",
    "\n",
    "for (n_url in d_n_urls) {\n",
    "  \n",
    "  donga = read_html(n_url, encoding='utf8')\n",
    "  \n",
    "  \n",
    "  d_news_headline= c(d_news_headline, \n",
    "                   donga \n",
    "                   %>% html_nodes('#container > div.article_title > h1')\n",
    "                   %>% html_text())\n",
    "\n",
    "}\n",
    "\n",
    "head(d_news_headline)\n",
    "length(d_news_headline)"
   ]
  },
  {
   "cell_type": "code",
   "execution_count": 10,
   "id": "2442df84",
   "metadata": {
    "scrolled": false
   },
   "outputs": [
    {
     "data": {
      "text/html": [
       "<ol class=list-inline>\n",
       "\t<li>'한문철 변호사가 자신의 목표를 밝혔다. '</li>\n",
       "\t<li>'김밥을 먹은 승객들이 단체 식중독 의심 증세를 보여 소방, 방역 당국이 대응에 나서고 있다.'</li>\n",
       "\t<li><span style=white-space:pre-wrap>'\\r\\n            '</span></li>\n",
       "\t<li>'돈의 뒷면, 오늘은 15일부터 가입 신청을 받고 있는 청년도약계좌를 한번 뜯어보겠습니다.'</li>\n",
       "\t<li>'국가정보원에 전화해 “대통령을 살해하겠다”고 협박한 남성이 경찰에 붙잡혔다.'</li>\n",
       "\t<li>'공동주택 엘리베이터 앞에 세워져 있는 자전거를 치웠더니 자전거 주인으로부터 ‘파손되면 변상 조치하겠다’는 경고문을 받았다는 사연이 전해졌다.'</li>\n",
       "</ol>\n"
      ],
      "text/latex": [
       "\\begin{enumerate*}\n",
       "\\item '한문철 변호사가 자신의 목표를 밝혔다. '\n",
       "\\item '김밥을 먹은 승객들이 단체 식중독 의심 증세를 보여 소방, 방역 당국이 대응에 나서고 있다.'\n",
       "\\item '\\textbackslash{}r\\textbackslash{}n            '\n",
       "\\item '돈의 뒷면, 오늘은 15일부터 가입 신청을 받고 있는 청년도약계좌를 한번 뜯어보겠습니다.'\n",
       "\\item '국가정보원에 전화해 “대통령을 살해하겠다”고 협박한 남성이 경찰에 붙잡혔다.'\n",
       "\\item '공동주택 엘리베이터 앞에 세워져 있는 자전거를 치웠더니 자전거 주인으로부터 ‘파손되면 변상 조치하겠다’는 경고문을 받았다는 사연이 전해졌다.'\n",
       "\\end{enumerate*}\n"
      ],
      "text/markdown": [
       "1. '한문철 변호사가 자신의 목표를 밝혔다. '\n",
       "2. '김밥을 먹은 승객들이 단체 식중독 의심 증세를 보여 소방, 방역 당국이 대응에 나서고 있다.'\n",
       "3. <span style=white-space:pre-wrap>'\\r\\n            '</span>\n",
       "4. '돈의 뒷면, 오늘은 15일부터 가입 신청을 받고 있는 청년도약계좌를 한번 뜯어보겠습니다.'\n",
       "5. '국가정보원에 전화해 “대통령을 살해하겠다”고 협박한 남성이 경찰에 붙잡혔다.'\n",
       "6. '공동주택 엘리베이터 앞에 세워져 있는 자전거를 치웠더니 자전거 주인으로부터 ‘파손되면 변상 조치하겠다’는 경고문을 받았다는 사연이 전해졌다.'\n",
       "\n",
       "\n"
      ],
      "text/plain": [
       "[1] \"한문철 변호사가 자신의 목표를 밝혔다. \"                                                                                                      \n",
       "[2] \"김밥을 먹은 승객들이 단체 식중독 의심 증세를 보여 소방, 방역 당국이 대응에 나서고 있다.\"                                                     \n",
       "[3] \"\\r\\n            \"                                                                                                                            \n",
       "[4] \"돈의 뒷면, 오늘은 15일부터 가입 신청을 받고 있는 청년도약계좌를 한번 뜯어보겠습니다.\"                                                        \n",
       "[5] \"국가정보원에 전화해 “대통령을 살해하겠다”고 협박한 남성이 경찰에 붙잡혔다.\"                                                                \n",
       "[6] \"공동주택 엘리베이터 앞에 세워져 있는 자전거를 치웠더니 자전거 주인으로부터 ‘파손되면 변상 조치하겠다’는 경고문을 받았다는 사연이 전해졌다.\""
      ]
     },
     "metadata": {},
     "output_type": "display_data"
    },
    {
     "data": {
      "text/html": [
       "1000"
      ],
      "text/latex": [
       "1000"
      ],
      "text/markdown": [
       "1000"
      ],
      "text/plain": [
       "[1] 1000"
      ]
     },
     "metadata": {},
     "output_type": "display_data"
    }
   ],
   "source": [
    "d_news_maintext = NULL\n",
    "\n",
    "\n",
    "for (n_url in d_n_urls) {\n",
    "  \n",
    "  donga = read_html(n_url, encoding='utf8')\n",
    "  \n",
    "  \n",
    "  d_news_maintext= c(d_news_maintext, \n",
    "                   donga \n",
    "                   %>% html_nodes(xpath='//*[@id=\"article_txt\"]/text()[2]')\n",
    "                   %>% html_text())\n",
    "\n",
    "}\n",
    "\n",
    "head(d_news_maintext)\n",
    "length(d_news_maintext)"
   ]
  },
  {
   "cell_type": "code",
   "execution_count": 11,
   "id": "4b9ebadc",
   "metadata": {
    "scrolled": true
   },
   "outputs": [
    {
     "data": {
      "text/html": [
       "<ol class=list-inline>\n",
       "\t<li>'연예'</li>\n",
       "\t<li>'사회'</li>\n",
       "\t<li>'사회'</li>\n",
       "\t<li>'경제'</li>\n",
       "\t<li>'사회'</li>\n",
       "\t<li>'사회'</li>\n",
       "</ol>\n"
      ],
      "text/latex": [
       "\\begin{enumerate*}\n",
       "\\item '연예'\n",
       "\\item '사회'\n",
       "\\item '사회'\n",
       "\\item '경제'\n",
       "\\item '사회'\n",
       "\\item '사회'\n",
       "\\end{enumerate*}\n"
      ],
      "text/markdown": [
       "1. '연예'\n",
       "2. '사회'\n",
       "3. '사회'\n",
       "4. '경제'\n",
       "5. '사회'\n",
       "6. '사회'\n",
       "\n",
       "\n"
      ],
      "text/plain": [
       "[1] \"연예\" \"사회\" \"사회\" \"경제\" \"사회\" \"사회\""
      ]
     },
     "metadata": {},
     "output_type": "display_data"
    },
    {
     "data": {
      "text/html": [
       "998"
      ],
      "text/latex": [
       "998"
      ],
      "text/markdown": [
       "998"
      ],
      "text/plain": [
       "[1] 998"
      ]
     },
     "metadata": {},
     "output_type": "display_data"
    }
   ],
   "source": [
    "d_news_topic = NULL\n",
    "\n",
    "\n",
    "for (n_url in d_n_urls) {\n",
    "  \n",
    "  donga = read_html(n_url, encoding='utf8')\n",
    "  \n",
    "  \n",
    "  d_news_topic= c(d_news_topic, \n",
    "                   donga \n",
    "                   %>% html_nodes('#container > div.article_title > div.location > a')\n",
    "                   %>% html_text())\n",
    "  \n",
    "#container > div.article_title > div.location\n",
    "}\n",
    "\n",
    "head(d_news_topic)\n",
    "length(d_news_topic)"
   ]
  },
  {
   "cell_type": "markdown",
   "id": "a210a392",
   "metadata": {},
   "source": [
    "### 1-2. 데이터 전처리"
   ]
  },
  {
   "cell_type": "code",
   "execution_count": 36,
   "id": "1f7b8cc7",
   "metadata": {},
   "outputs": [],
   "source": [
    "d_news_headline = gsub(' PDF지면보기','',d_news_headline)\n",
    "d_news_maintext = str_replace_all(d_news_maintext,'\\r\\n            ','/') "
   ]
  },
  {
   "cell_type": "code",
   "execution_count": 37,
   "id": "84c9ecfe",
   "metadata": {
    "scrolled": true
   },
   "outputs": [
    {
     "data": {
      "text/html": [
       "<ol class=list-inline>\n",
       "\t<li>'한문철 변호사가 자신의 목표를 밝혔다. '</li>\n",
       "\t<li>'김밥을 먹은 승객들이 단체 식중독 의심 증세를 보여 소방, 방역 당국이 대응에 나서고 있다.'</li>\n",
       "\t<li>'/'</li>\n",
       "\t<li>'돈의 뒷면, 오늘은 15일부터 가입 신청을 받고 있는 청년도약계좌를 한번 뜯어보겠습니다.'</li>\n",
       "\t<li>'국가정보원에 전화해 “대통령을 살해하겠다”고 협박한 남성이 경찰에 붙잡혔다.'</li>\n",
       "\t<li>'공동주택 엘리베이터 앞에 세워져 있는 자전거를 치웠더니 자전거 주인으로부터 ‘파손되면 변상 조치하겠다’는 경고문을 받았다는 사연이 전해졌다.'</li>\n",
       "</ol>\n"
      ],
      "text/latex": [
       "\\begin{enumerate*}\n",
       "\\item '한문철 변호사가 자신의 목표를 밝혔다. '\n",
       "\\item '김밥을 먹은 승객들이 단체 식중독 의심 증세를 보여 소방, 방역 당국이 대응에 나서고 있다.'\n",
       "\\item '/'\n",
       "\\item '돈의 뒷면, 오늘은 15일부터 가입 신청을 받고 있는 청년도약계좌를 한번 뜯어보겠습니다.'\n",
       "\\item '국가정보원에 전화해 “대통령을 살해하겠다”고 협박한 남성이 경찰에 붙잡혔다.'\n",
       "\\item '공동주택 엘리베이터 앞에 세워져 있는 자전거를 치웠더니 자전거 주인으로부터 ‘파손되면 변상 조치하겠다’는 경고문을 받았다는 사연이 전해졌다.'\n",
       "\\end{enumerate*}\n"
      ],
      "text/markdown": [
       "1. '한문철 변호사가 자신의 목표를 밝혔다. '\n",
       "2. '김밥을 먹은 승객들이 단체 식중독 의심 증세를 보여 소방, 방역 당국이 대응에 나서고 있다.'\n",
       "3. '/'\n",
       "4. '돈의 뒷면, 오늘은 15일부터 가입 신청을 받고 있는 청년도약계좌를 한번 뜯어보겠습니다.'\n",
       "5. '국가정보원에 전화해 “대통령을 살해하겠다”고 협박한 남성이 경찰에 붙잡혔다.'\n",
       "6. '공동주택 엘리베이터 앞에 세워져 있는 자전거를 치웠더니 자전거 주인으로부터 ‘파손되면 변상 조치하겠다’는 경고문을 받았다는 사연이 전해졌다.'\n",
       "\n",
       "\n"
      ],
      "text/plain": [
       "[1] \"한문철 변호사가 자신의 목표를 밝혔다. \"                                                                                                      \n",
       "[2] \"김밥을 먹은 승객들이 단체 식중독 의심 증세를 보여 소방, 방역 당국이 대응에 나서고 있다.\"                                                     \n",
       "[3] \"/\"                                                                                                                                           \n",
       "[4] \"돈의 뒷면, 오늘은 15일부터 가입 신청을 받고 있는 청년도약계좌를 한번 뜯어보겠습니다.\"                                                        \n",
       "[5] \"국가정보원에 전화해 “대통령을 살해하겠다”고 협박한 남성이 경찰에 붙잡혔다.\"                                                                \n",
       "[6] \"공동주택 엘리베이터 앞에 세워져 있는 자전거를 치웠더니 자전거 주인으로부터 ‘파손되면 변상 조치하겠다’는 경고문을 받았다는 사연이 전해졌다.\""
      ]
     },
     "metadata": {},
     "output_type": "display_data"
    }
   ],
   "source": [
    "head(d_news_maintext)"
   ]
  },
  {
   "cell_type": "code",
   "execution_count": 39,
   "id": "b5729724",
   "metadata": {
    "scrolled": false
   },
   "outputs": [
    {
     "data": {
      "text/html": [
       "<ol class=list-inline>\n",
       "\t<li>'한문철 변호사 “급발진 사고 원인 밝혀 해결하는 게 꿈이다”한문철 변호사가 자신의 목표를 밝혔다. '</li>\n",
       "\t<li>'전세버스서 김밥 먹은 관광객 26명 집단 식중독 증세…병원 이송김밥을 먹은 승객들이 단체 식중독 의심 증세를 보여 소방, 방역 당국이 대응에 나서고 있다.'</li>\n",
       "\t<li>'건설노조 “양회동 장례 마무리 후 2차 총파업 진행”/'</li>\n",
       "\t<li>'尹공약 ‘청년도약계좌’… 어느 은행이 가장 유리할까? [김도형의 돈의 뒷면]돈의 뒷면, 오늘은 15일부터 가입 신청을 받고 있는 청년도약계좌를 한번 뜯어보겠습니다.'</li>\n",
       "\t<li>'“대통령 죽이겠다” 국정원에 협박전화 건 60대 긴급체포국가정보원에 전화해 “대통령을 살해하겠다”고 협박한 남성이 경찰에 붙잡혔다.'</li>\n",
       "\t<li>'엘베 막은 자전거 치웠더니…“손대지마” 적반하장 쪽지 붙었다 [e글e글]공동주택 엘리베이터 앞에 세워져 있는 자전거를 치웠더니 자전거 주인으로부터 ‘파손되면 변상 조치하겠다’는 경고문을 받았다는 사연이 전해졌다.'</li>\n",
       "</ol>\n"
      ],
      "text/latex": [
       "\\begin{enumerate*}\n",
       "\\item '한문철 변호사 “급발진 사고 원인 밝혀 해결하는 게 꿈이다”한문철 변호사가 자신의 목표를 밝혔다. '\n",
       "\\item '전세버스서 김밥 먹은 관광객 26명 집단 식중독 증세…병원 이송김밥을 먹은 승객들이 단체 식중독 의심 증세를 보여 소방, 방역 당국이 대응에 나서고 있다.'\n",
       "\\item '건설노조 “양회동 장례 마무리 후 2차 총파업 진행”/'\n",
       "\\item '尹공약 ‘청년도약계좌’… 어느 은행이 가장 유리할까? {[}김도형의 돈의 뒷면{]}돈의 뒷면, 오늘은 15일부터 가입 신청을 받고 있는 청년도약계좌를 한번 뜯어보겠습니다.'\n",
       "\\item '“대통령 죽이겠다” 국정원에 협박전화 건 60대 긴급체포국가정보원에 전화해 “대통령을 살해하겠다”고 협박한 남성이 경찰에 붙잡혔다.'\n",
       "\\item '엘베 막은 자전거 치웠더니…“손대지마” 적반하장 쪽지 붙었다 {[}e글e글{]}공동주택 엘리베이터 앞에 세워져 있는 자전거를 치웠더니 자전거 주인으로부터 ‘파손되면 변상 조치하겠다’는 경고문을 받았다는 사연이 전해졌다.'\n",
       "\\end{enumerate*}\n"
      ],
      "text/markdown": [
       "1. '한문철 변호사 “급발진 사고 원인 밝혀 해결하는 게 꿈이다”한문철 변호사가 자신의 목표를 밝혔다. '\n",
       "2. '전세버스서 김밥 먹은 관광객 26명 집단 식중독 증세…병원 이송김밥을 먹은 승객들이 단체 식중독 의심 증세를 보여 소방, 방역 당국이 대응에 나서고 있다.'\n",
       "3. '건설노조 “양회동 장례 마무리 후 2차 총파업 진행”/'\n",
       "4. '尹공약 ‘청년도약계좌’… 어느 은행이 가장 유리할까? [김도형의 돈의 뒷면]돈의 뒷면, 오늘은 15일부터 가입 신청을 받고 있는 청년도약계좌를 한번 뜯어보겠습니다.'\n",
       "5. '“대통령 죽이겠다” 국정원에 협박전화 건 60대 긴급체포국가정보원에 전화해 “대통령을 살해하겠다”고 협박한 남성이 경찰에 붙잡혔다.'\n",
       "6. '엘베 막은 자전거 치웠더니…“손대지마” 적반하장 쪽지 붙었다 [e글e글]공동주택 엘리베이터 앞에 세워져 있는 자전거를 치웠더니 자전거 주인으로부터 ‘파손되면 변상 조치하겠다’는 경고문을 받았다는 사연이 전해졌다.'\n",
       "\n",
       "\n"
      ],
      "text/plain": [
       "[1] \"한문철 변호사 “급발진 사고 원인 밝혀 해결하는 게 꿈이다”한문철 변호사가 자신의 목표를 밝혔다. \"                                                                                                                 \n",
       "[2] \"전세버스서 김밥 먹은 관광객 26명 집단 식중독 증세…병원 이송김밥을 먹은 승객들이 단체 식중독 의심 증세를 보여 소방, 방역 당국이 대응에 나서고 있다.\"                                                              \n",
       "[3] \"건설노조 “양회동 장례 마무리 후 2차 총파업 진행”/\"                                                                                                                                                              \n",
       "[4] \"尹공약 ‘청년도약계좌’… 어느 은행이 가장 유리할까? [김도형의 돈의 뒷면]돈의 뒷면, 오늘은 15일부터 가입 신청을 받고 있는 청년도약계좌를 한번 뜯어보겠습니다.\"                                                    \n",
       "[5] \"“대통령 죽이겠다” 국정원에 협박전화 건 60대 긴급체포국가정보원에 전화해 “대통령을 살해하겠다”고 협박한 남성이 경찰에 붙잡혔다.\"                                                                               \n",
       "[6] \"엘베 막은 자전거 치웠더니…“손대지마” 적반하장 쪽지 붙었다 [e글e글]공동주택 엘리베이터 앞에 세워져 있는 자전거를 치웠더니 자전거 주인으로부터 ‘파손되면 변상 조치하겠다’는 경고문을 받았다는 사연이 전해졌다.\""
      ]
     },
     "metadata": {},
     "output_type": "display_data"
    },
    {
     "data": {
      "text/html": [
       "998"
      ],
      "text/latex": [
       "998"
      ],
      "text/markdown": [
       "998"
      ],
      "text/plain": [
       "[1] 998"
      ]
     },
     "metadata": {},
     "output_type": "display_data"
    }
   ],
   "source": [
    "count_news <- 998\n",
    "\n",
    "d_all_df <- NULL\n",
    "for (x in 1:count_news) {\n",
    "  d_all_df[x] = paste0(d_news_headline[x], d_news_maintext[x], collapse = ' ') \n",
    "}\n",
    "\n",
    "head(d_all_df)\n",
    "length(d_all_df)"
   ]
  },
  {
   "cell_type": "code",
   "execution_count": 40,
   "id": "f3fcbed5",
   "metadata": {
    "scrolled": true
   },
   "outputs": [
    {
     "data": {
      "text/html": [
       "<table>\n",
       "<thead><tr><th scope=col>title</th><th scope=col>text</th><th scope=col>all</th><th scope=col>topic</th></tr></thead>\n",
       "<tbody>\n",
       "\t<tr><td>한문철 변호사 “급발진 사고 원인 밝혀 해결하는 게 꿈이다”                                                                                                                                                       </td><td>한문철 변호사가 자신의 목표를 밝혔다.                                                                                                                                                                            </td><td>한문철 변호사 “급발진 사고 원인 밝혀 해결하는 게 꿈이다”한문철 변호사가 자신의 목표를 밝혔다.                                                                                                                  </td><td>연예                                                                                                                                                                                                             </td></tr>\n",
       "\t<tr><td>전세버스서 김밥 먹은 관광객 26명 집단 식중독 증세…병원 이송                                                                                                                                                     </td><td>김밥을 먹은 승객들이 단체 식중독 의심 증세를 보여 소방, 방역 당국이 대응에 나서고 있다.                                                                                                                          </td><td>전세버스서 김밥 먹은 관광객 26명 집단 식중독 증세…병원 이송김밥을 먹은 승객들이 단체 식중독 의심 증세를 보여 소방, 방역 당국이 대응에 나서고 있다.                                                              </td><td>사회                                                                                                                                                                                                             </td></tr>\n",
       "\t<tr><td>건설노조 “양회동 장례 마무리 후 2차 총파업 진행”                                                                                                                                                               </td><td>/                                                                                                                                                                                                                </td><td>건설노조 “양회동 장례 마무리 후 2차 총파업 진행”/                                                                                                                                                              </td><td>사회                                                                                                                                                                                                             </td></tr>\n",
       "\t<tr><td>尹공약 ‘청년도약계좌’… 어느 은행이 가장 유리할까? [김도형의 돈의 뒷면]                                                                                                                                        </td><td>돈의 뒷면, 오늘은 15일부터 가입 신청을 받고 있는 청년도약계좌를 한번 뜯어보겠습니다.                                                                                                                             </td><td>尹공약 ‘청년도약계좌’… 어느 은행이 가장 유리할까? [김도형의 돈의 뒷면]돈의 뒷면, 오늘은 15일부터 가입 신청을 받고 있는 청년도약계좌를 한번 뜯어보겠습니다.                                                    </td><td>경제                                                                                                                                                                                                             </td></tr>\n",
       "\t<tr><td>“대통령 죽이겠다” 국정원에 협박전화 건 60대 긴급체포                                                                                                                                                           </td><td>국가정보원에 전화해 “대통령을 살해하겠다”고 협박한 남성이 경찰에 붙잡혔다.                                                                                                                                     </td><td>“대통령 죽이겠다” 국정원에 협박전화 건 60대 긴급체포국가정보원에 전화해 “대통령을 살해하겠다”고 협박한 남성이 경찰에 붙잡혔다.                                                                               </td><td>사회                                                                                                                                                                                                             </td></tr>\n",
       "\t<tr><td>엘베 막은 자전거 치웠더니…“손대지마” 적반하장 쪽지 붙었다 [e글e글]                                                                                                                                            </td><td>공동주택 엘리베이터 앞에 세워져 있는 자전거를 치웠더니 자전거 주인으로부터 ‘파손되면 변상 조치하겠다’는 경고문을 받았다는 사연이 전해졌다.                                                                     </td><td>엘베 막은 자전거 치웠더니…“손대지마” 적반하장 쪽지 붙었다 [e글e글]공동주택 엘리베이터 앞에 세워져 있는 자전거를 치웠더니 자전거 주인으로부터 ‘파손되면 변상 조치하겠다’는 경고문을 받았다는 사연이 전해졌다.</td><td>사회                                                                                                                                                                                                             </td></tr>\n",
       "</tbody>\n",
       "</table>\n"
      ],
      "text/latex": [
       "\\begin{tabular}{r|llll}\n",
       " title & text & all & topic\\\\\n",
       "\\hline\n",
       "\t 한문철 변호사 “급발진 사고 원인 밝혀 해결하는 게 꿈이다”                                                                                                                                                        & 한문철 변호사가 자신의 목표를 밝혔다.                                                                                                                                                                             & 한문철 변호사 “급발진 사고 원인 밝혀 해결하는 게 꿈이다”한문철 변호사가 자신의 목표를 밝혔다.                                                                                                                   & 연예                                                                                                                                                                                                             \\\\\n",
       "\t 전세버스서 김밥 먹은 관광객 26명 집단 식중독 증세…병원 이송                                                                                                                                                      & 김밥을 먹은 승객들이 단체 식중독 의심 증세를 보여 소방, 방역 당국이 대응에 나서고 있다.                                                                                                                           & 전세버스서 김밥 먹은 관광객 26명 집단 식중독 증세…병원 이송김밥을 먹은 승객들이 단체 식중독 의심 증세를 보여 소방, 방역 당국이 대응에 나서고 있다.                                                               & 사회                                                                                                                                                                                                             \\\\\n",
       "\t 건설노조 “양회동 장례 마무리 후 2차 총파업 진행”                                                                                                                                                                & /                                                                                                                                                                                                                 & 건설노조 “양회동 장례 마무리 후 2차 총파업 진행”/                                                                                                                                                               & 사회                                                                                                                                                                                                             \\\\\n",
       "\t 尹공약 ‘청년도약계좌’… 어느 은행이 가장 유리할까? {[}김도형의 돈의 뒷면{]}                                                                                                                                         & 돈의 뒷면, 오늘은 15일부터 가입 신청을 받고 있는 청년도약계좌를 한번 뜯어보겠습니다.                                                                                                                                  & 尹공약 ‘청년도약계좌’… 어느 은행이 가장 유리할까? {[}김도형의 돈의 뒷면{]}돈의 뒷면, 오늘은 15일부터 가입 신청을 받고 있는 청년도약계좌를 한번 뜯어보겠습니다.                                                     & 경제                                                                                                                                                                                                                 \\\\\n",
       "\t “대통령 죽이겠다” 국정원에 협박전화 건 60대 긴급체포                                                                                                                                                            & 국가정보원에 전화해 “대통령을 살해하겠다”고 협박한 남성이 경찰에 붙잡혔다.                                                                                                                                      & “대통령 죽이겠다” 국정원에 협박전화 건 60대 긴급체포국가정보원에 전화해 “대통령을 살해하겠다”고 협박한 남성이 경찰에 붙잡혔다.                                                                                & 사회                                                                                                                                                                                                             \\\\\n",
       "\t 엘베 막은 자전거 치웠더니…“손대지마” 적반하장 쪽지 붙었다 {[}e글e글{]}                                                                                                                                             & 공동주택 엘리베이터 앞에 세워져 있는 자전거를 치웠더니 자전거 주인으로부터 ‘파손되면 변상 조치하겠다’는 경고문을 받았다는 사연이 전해졌다.                                                                          & 엘베 막은 자전거 치웠더니…“손대지마” 적반하장 쪽지 붙었다 {[}e글e글{]}공동주택 엘리베이터 앞에 세워져 있는 자전거를 치웠더니 자전거 주인으로부터 ‘파손되면 변상 조치하겠다’는 경고문을 받았다는 사연이 전해졌다. & 사회                                                                                                                                                                                                                 \\\\\n",
       "\\end{tabular}\n"
      ],
      "text/markdown": [
       "\n",
       "| title | text | all | topic |\n",
       "|---|---|---|---|\n",
       "| 한문철 변호사 “급발진 사고 원인 밝혀 해결하는 게 꿈이다”                                                                                                                                                        | 한문철 변호사가 자신의 목표를 밝혔다.                                                                                                                                                                             | 한문철 변호사 “급발진 사고 원인 밝혀 해결하는 게 꿈이다”한문철 변호사가 자신의 목표를 밝혔다.                                                                                                                   | 연예                                                                                                                                                                                                              |\n",
       "| 전세버스서 김밥 먹은 관광객 26명 집단 식중독 증세…병원 이송                                                                                                                                                      | 김밥을 먹은 승객들이 단체 식중독 의심 증세를 보여 소방, 방역 당국이 대응에 나서고 있다.                                                                                                                           | 전세버스서 김밥 먹은 관광객 26명 집단 식중독 증세…병원 이송김밥을 먹은 승객들이 단체 식중독 의심 증세를 보여 소방, 방역 당국이 대응에 나서고 있다.                                                               | 사회                                                                                                                                                                                                              |\n",
       "| 건설노조 “양회동 장례 마무리 후 2차 총파업 진행”                                                                                                                                                                | /                                                                                                                                                                                                                 | 건설노조 “양회동 장례 마무리 후 2차 총파업 진행”/                                                                                                                                                               | 사회                                                                                                                                                                                                              |\n",
       "| 尹공약 ‘청년도약계좌’… 어느 은행이 가장 유리할까? [김도형의 돈의 뒷면]                                                                                                                                         | 돈의 뒷면, 오늘은 15일부터 가입 신청을 받고 있는 청년도약계좌를 한번 뜯어보겠습니다.                                                                                                                              | 尹공약 ‘청년도약계좌’… 어느 은행이 가장 유리할까? [김도형의 돈의 뒷면]돈의 뒷면, 오늘은 15일부터 가입 신청을 받고 있는 청년도약계좌를 한번 뜯어보겠습니다.                                                     | 경제                                                                                                                                                                                                              |\n",
       "| “대통령 죽이겠다” 국정원에 협박전화 건 60대 긴급체포                                                                                                                                                            | 국가정보원에 전화해 “대통령을 살해하겠다”고 협박한 남성이 경찰에 붙잡혔다.                                                                                                                                      | “대통령 죽이겠다” 국정원에 협박전화 건 60대 긴급체포국가정보원에 전화해 “대통령을 살해하겠다”고 협박한 남성이 경찰에 붙잡혔다.                                                                                | 사회                                                                                                                                                                                                              |\n",
       "| 엘베 막은 자전거 치웠더니…“손대지마” 적반하장 쪽지 붙었다 [e글e글]                                                                                                                                             | 공동주택 엘리베이터 앞에 세워져 있는 자전거를 치웠더니 자전거 주인으로부터 ‘파손되면 변상 조치하겠다’는 경고문을 받았다는 사연이 전해졌다.                                                                      | 엘베 막은 자전거 치웠더니…“손대지마” 적반하장 쪽지 붙었다 [e글e글]공동주택 엘리베이터 앞에 세워져 있는 자전거를 치웠더니 자전거 주인으로부터 ‘파손되면 변상 조치하겠다’는 경고문을 받았다는 사연이 전해졌다. | 사회                                                                                                                                                                                                              |\n",
       "\n"
      ],
      "text/plain": [
       "  title                                                                    \n",
       "1 한문철 변호사 “급발진 사고 원인 밝혀 해결하는 게 꿈이다”               \n",
       "2 전세버스서 김밥 먹은 관광객 26명 집단 식중독 증세…병원 이송             \n",
       "3 건설노조 “양회동 장례 마무리 후 2차 총파업 진행”                       \n",
       "4 尹공약 ‘청년도약계좌’… 어느 은행이 가장 유리할까? [김도형의 돈의 뒷면]\n",
       "5 “대통령 죽이겠다” 국정원에 협박전화 건 60대 긴급체포                   \n",
       "6 엘베 막은 자전거 치웠더니…“손대지마” 적반하장 쪽지 붙었다 [e글e글]    \n",
       "  text                                                                                                                                        \n",
       "1 한문철 변호사가 자신의 목표를 밝혔다.                                                                                                       \n",
       "2 김밥을 먹은 승객들이 단체 식중독 의심 증세를 보여 소방, 방역 당국이 대응에 나서고 있다.                                                     \n",
       "3 /                                                                                                                                           \n",
       "4 돈의 뒷면, 오늘은 15일부터 가입 신청을 받고 있는 청년도약계좌를 한번 뜯어보겠습니다.                                                        \n",
       "5 국가정보원에 전화해 “대통령을 살해하겠다”고 협박한 남성이 경찰에 붙잡혔다.                                                                \n",
       "6 공동주택 엘리베이터 앞에 세워져 있는 자전거를 치웠더니 자전거 주인으로부터 ‘파손되면 변상 조치하겠다’는 경고문을 받았다는 사연이 전해졌다.\n",
       "  all                                                                                                                                                                                                              \n",
       "1 한문철 변호사 “급발진 사고 원인 밝혀 해결하는 게 꿈이다”한문철 변호사가 자신의 목표를 밝혔다.                                                                                                                  \n",
       "2 전세버스서 김밥 먹은 관광객 26명 집단 식중독 증세…병원 이송김밥을 먹은 승객들이 단체 식중독 의심 증세를 보여 소방, 방역 당국이 대응에 나서고 있다.                                                              \n",
       "3 건설노조 “양회동 장례 마무리 후 2차 총파업 진행”/                                                                                                                                                              \n",
       "4 尹공약 ‘청년도약계좌’… 어느 은행이 가장 유리할까? [김도형의 돈의 뒷면]돈의 뒷면, 오늘은 15일부터 가입 신청을 받고 있는 청년도약계좌를 한번 뜯어보겠습니다.                                                    \n",
       "5 “대통령 죽이겠다” 국정원에 협박전화 건 60대 긴급체포국가정보원에 전화해 “대통령을 살해하겠다”고 협박한 남성이 경찰에 붙잡혔다.                                                                               \n",
       "6 엘베 막은 자전거 치웠더니…“손대지마” 적반하장 쪽지 붙었다 [e글e글]공동주택 엘리베이터 앞에 세워져 있는 자전거를 치웠더니 자전거 주인으로부터 ‘파손되면 변상 조치하겠다’는 경고문을 받았다는 사연이 전해졌다.\n",
       "  topic\n",
       "1 연예 \n",
       "2 사회 \n",
       "3 사회 \n",
       "4 경제 \n",
       "5 사회 \n",
       "6 사회 "
      ]
     },
     "metadata": {},
     "output_type": "display_data"
    }
   ],
   "source": [
    "d_tit_df = as.data.frame(d_news_headline)\n",
    "d_text_df = as.data.frame(d_news_maintext)\n",
    "d_topic_df = as.data.frame(d_news_topic)\n",
    "\n",
    "d_df = cbind(d_tit_df, d_text_df, d_all_df, d_topic_df)\n",
    "\n",
    "colnames(d_df) <- c('title','text','all','topic')\n",
    "\n",
    "head(d_df)"
   ]
  },
  {
   "cell_type": "code",
   "execution_count": 41,
   "id": "b0b92641",
   "metadata": {},
   "outputs": [],
   "source": [
    "write.csv(d_df,file=\"C:/Users/hmins/Desktop/project_df.csv\")"
   ]
  }
 ],
 "metadata": {
  "kernelspec": {
   "display_name": "R",
   "language": "R",
   "name": "ir"
  },
  "language_info": {
   "codemirror_mode": "r",
   "file_extension": ".r",
   "mimetype": "text/x-r-source",
   "name": "R",
   "pygments_lexer": "r",
   "version": "3.6.1"
  }
 },
 "nbformat": 4,
 "nbformat_minor": 5
}
