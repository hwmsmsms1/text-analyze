{
 "cells": [
  {
   "cell_type": "markdown",
   "id": "c0c05bc0",
   "metadata": {},
   "source": [
    "## 3. 토픽 분석"
   ]
  },
  {
   "cell_type": "markdown",
   "id": "dc1dc2af",
   "metadata": {},
   "source": [
    "### 3-1. 불용어 제거"
   ]
  },
  {
   "cell_type": "code",
   "execution_count": 24,
   "id": "d9fc4296",
   "metadata": {},
   "outputs": [],
   "source": [
    "options(scipen=999)"
   ]
  },
  {
   "cell_type": "code",
   "execution_count": 25,
   "id": "c051327e",
   "metadata": {},
   "outputs": [],
   "source": [
    "library(tm)\n",
    "library(topicmodels)\n",
    "library(ggplot2)\n",
    "library(tidytext)\n",
    "library(dplyr)"
   ]
  },
  {
   "cell_type": "code",
   "execution_count": 67,
   "id": "0a824c94",
   "metadata": {},
   "outputs": [
    {
     "data": {
      "text/html": [
       "913"
      ],
      "text/latex": [
       "913"
      ],
      "text/markdown": [
       "913"
      ],
      "text/plain": [
       "[1] 913"
      ]
     },
     "metadata": {},
     "output_type": "display_data"
    },
    {
     "data": {
      "text/html": [
       "3510"
      ],
      "text/latex": [
       "3510"
      ],
      "text/markdown": [
       "3510"
      ],
      "text/plain": [
       "[1] 3510"
      ]
     },
     "metadata": {},
     "output_type": "display_data"
    }
   ],
   "source": [
    "df = read.csv(file='C:/Users/hmins/Desktop/project_chart.csv', encoding='utf-8')\n",
    "\n",
    "nrow(df)\n",
    "ncol(df)"
   ]
  },
  {
   "cell_type": "code",
   "execution_count": 68,
   "id": "f69cbc79",
   "metadata": {
    "scrolled": true
   },
   "outputs": [
    {
     "data": {
      "text/html": [
       "913"
      ],
      "text/latex": [
       "913"
      ],
      "text/markdown": [
       "913"
      ],
      "text/plain": [
       "[1] 913"
      ]
     },
     "metadata": {},
     "output_type": "display_data"
    },
    {
     "data": {
      "text/html": [
       "3403"
      ],
      "text/latex": [
       "3403"
      ],
      "text/markdown": [
       "3403"
      ],
      "text/plain": [
       "[1] 3403"
      ]
     },
     "metadata": {},
     "output_type": "display_data"
    }
   ],
   "source": [
    "df = df[ , !colnames(df)%in%c('것','게','명','중','개','안','배','법','도','전','일','심','세','등','옆',\n",
    "                              '원','위','살','명','제','첫','주','세','값','쇼','장','도','전','년','물','타',\n",
    "                              '전','또','첫','오른','승','권','전','등','건','책','호','해','왜','안','발','후',\n",
    "                              '일','영','타','분','페스','석','환','국','돈','중','수','중','괌','여','불','당',\n",
    "                              '친','등','행','전','내','등','급','날','달','왜','준','서도','오늘','설','차','준',\n",
    "                              '딸','규','황보','승희','집','층','아이','향기','게이츠','만난','때','김은경','무',\n",
    "                              '낮','땐','통','그','더','줄','앞','클린스만','페루','비','이','의','령','범','알',\n",
    "                              '나','통해','그','팀','곳','임','재','주년','연내','선','말','속','새','클럽','꿈',\n",
    "                              '진짜','데이','블','링컨')]\n",
    "\n",
    "nrow(df)\n",
    "ncol(df)"
   ]
  },
  {
   "cell_type": "code",
   "execution_count": 69,
   "id": "08add046",
   "metadata": {},
   "outputs": [
    {
     "data": {
      "text/html": [
       "<table>\n",
       "<thead><tr><th></th><th scope=col>사고</th><th scope=col>병원</th><th scope=col>건설</th><th scope=col>노조</th><th scope=col>청년</th><th scope=col>도약</th><th scope=col>계좌</th><th scope=col>은행</th><th scope=col>대통령</th><th scope=col>국정원</th><th scope=col>...</th><th scope=col>대학</th><th scope=col>파업</th><th scope=col>저지</th><th scope=col>단지</th><th scope=col>금감원</th><th scope=col>의원</th><th scope=col>소송</th><th scope=col>전자</th><th scope=col>구속영장</th><th scope=col>포착</th></tr></thead>\n",
       "<tbody>\n",
       "\t<tr><th scope=row>909</th><td>0  </td><td>0  </td><td>0  </td><td> 0 </td><td> 0 </td><td>0  </td><td>0  </td><td>0  </td><td>0  </td><td>0  </td><td>...</td><td>0  </td><td>0  </td><td>0  </td><td>0  </td><td>0  </td><td>0  </td><td>0  </td><td>0  </td><td>0  </td><td>0  </td></tr>\n",
       "\t<tr><th scope=row>910</th><td>0  </td><td>0  </td><td>0  </td><td> 0 </td><td> 0 </td><td>0  </td><td>0  </td><td>0  </td><td>0  </td><td>0  </td><td>...</td><td>0  </td><td>0  </td><td>0  </td><td>0  </td><td>0  </td><td>0  </td><td>0  </td><td>0  </td><td>0  </td><td>0  </td></tr>\n",
       "\t<tr><th scope=row>911</th><td>0  </td><td>0  </td><td>0  </td><td> 0 </td><td> 0 </td><td>0  </td><td>0  </td><td>0  </td><td>0  </td><td>0  </td><td>...</td><td>0  </td><td>0  </td><td>0  </td><td>0  </td><td>0  </td><td>1  </td><td>0  </td><td>0  </td><td>0  </td><td>0  </td></tr>\n",
       "\t<tr><th scope=row>912</th><td>0  </td><td>0  </td><td>0  </td><td> 0 </td><td> 0 </td><td>0  </td><td>0  </td><td>0  </td><td>0  </td><td>0  </td><td>...</td><td>0  </td><td>0  </td><td>0  </td><td>0  </td><td>0  </td><td>0  </td><td>0  </td><td>0  </td><td>0  </td><td>0  </td></tr>\n",
       "\t<tr><th scope=row>913</th><td>0  </td><td>0  </td><td>0  </td><td> 0 </td><td> 0 </td><td>0  </td><td>0  </td><td>0  </td><td>0  </td><td>0  </td><td>...</td><td>0  </td><td>0  </td><td>0  </td><td>0  </td><td>0  </td><td>0  </td><td>0  </td><td>0  </td><td>0  </td><td>0  </td></tr>\n",
       "\t<tr><th scope=row>914</th><td>7  </td><td>6  </td><td>9  </td><td>10 </td><td>12 </td><td>8  </td><td>8  </td><td>5  </td><td>9  </td><td>7  </td><td>...</td><td>5  </td><td>5  </td><td>4  </td><td>4  </td><td>4  </td><td>6  </td><td>4  </td><td>4  </td><td>4  </td><td>4  </td></tr>\n",
       "</tbody>\n",
       "</table>\n"
      ],
      "text/latex": [
       "\\begin{tabular}{r|lllllllllllllllllllllllllllllllllllllllllllllllllllllllllllllllllllllllllllllllllllllllllllllllllllllllllllllllllllllllllllllllllllllllllllllllllllllllllllllllllllllllllllllllllllllllllllllllllllllllllllllllllllllllllllllllllllllllllllllllllllllllllllllllllllllllllllllllllllllllllllllllllllllllllllllllllllllllllllllllllllllllllllllllllllllllllllllll}\n",
       "  & 사고 & 병원 & 건설 & 노조 & 청년 & 도약 & 계좌 & 은행 & 대통령 & 국정원 & ... & 대학 & 파업 & 저지 & 단지 & 금감원 & 의원 & 소송 & 전자 & 구속영장 & 포착\\\\\n",
       "\\hline\n",
       "\t909 & 0   & 0   & 0   &  0  &  0  & 0   & 0   & 0   & 0   & 0   & ... & 0   & 0   & 0   & 0   & 0   & 0   & 0   & 0   & 0   & 0  \\\\\n",
       "\t910 & 0   & 0   & 0   &  0  &  0  & 0   & 0   & 0   & 0   & 0   & ... & 0   & 0   & 0   & 0   & 0   & 0   & 0   & 0   & 0   & 0  \\\\\n",
       "\t911 & 0   & 0   & 0   &  0  &  0  & 0   & 0   & 0   & 0   & 0   & ... & 0   & 0   & 0   & 0   & 0   & 1   & 0   & 0   & 0   & 0  \\\\\n",
       "\t912 & 0   & 0   & 0   &  0  &  0  & 0   & 0   & 0   & 0   & 0   & ... & 0   & 0   & 0   & 0   & 0   & 0   & 0   & 0   & 0   & 0  \\\\\n",
       "\t913 & 0   & 0   & 0   &  0  &  0  & 0   & 0   & 0   & 0   & 0   & ... & 0   & 0   & 0   & 0   & 0   & 0   & 0   & 0   & 0   & 0  \\\\\n",
       "\t914 & 7   & 6   & 9   & 10  & 12  & 8   & 8   & 5   & 9   & 7   & ... & 5   & 5   & 4   & 4   & 4   & 6   & 4   & 4   & 4   & 4  \\\\\n",
       "\\end{tabular}\n"
      ],
      "text/markdown": [
       "\n",
       "| <!--/--> | 사고 | 병원 | 건설 | 노조 | 청년 | 도약 | 계좌 | 은행 | 대통령 | 국정원 | ... | 대학 | 파업 | 저지 | 단지 | 금감원 | 의원 | 소송 | 전자 | 구속영장 | 포착 |\n",
       "|---|---|---|---|---|---|---|---|---|---|---|---|---|---|---|---|---|---|---|---|---|---|\n",
       "| 909 | 0   | 0   | 0   |  0  |  0  | 0   | 0   | 0   | 0   | 0   | ... | 0   | 0   | 0   | 0   | 0   | 0   | 0   | 0   | 0   | 0   |\n",
       "| 910 | 0   | 0   | 0   |  0  |  0  | 0   | 0   | 0   | 0   | 0   | ... | 0   | 0   | 0   | 0   | 0   | 0   | 0   | 0   | 0   | 0   |\n",
       "| 911 | 0   | 0   | 0   |  0  |  0  | 0   | 0   | 0   | 0   | 0   | ... | 0   | 0   | 0   | 0   | 0   | 1   | 0   | 0   | 0   | 0   |\n",
       "| 912 | 0   | 0   | 0   |  0  |  0  | 0   | 0   | 0   | 0   | 0   | ... | 0   | 0   | 0   | 0   | 0   | 0   | 0   | 0   | 0   | 0   |\n",
       "| 913 | 0   | 0   | 0   |  0  |  0  | 0   | 0   | 0   | 0   | 0   | ... | 0   | 0   | 0   | 0   | 0   | 0   | 0   | 0   | 0   | 0   |\n",
       "| 914 | 7   | 6   | 9   | 10  | 12  | 8   | 8   | 5   | 9   | 7   | ... | 5   | 5   | 4   | 4   | 4   | 6   | 4   | 4   | 4   | 4   |\n",
       "\n"
      ],
      "text/plain": [
       "    사고 병원 건설 노조 청년 도약 계좌 은행 대통령 국정원 ... 대학 파업 저지\n",
       "909 0    0    0     0    0   0    0    0    0      0      ... 0    0    0   \n",
       "910 0    0    0     0    0   0    0    0    0      0      ... 0    0    0   \n",
       "911 0    0    0     0    0   0    0    0    0      0      ... 0    0    0   \n",
       "912 0    0    0     0    0   0    0    0    0      0      ... 0    0    0   \n",
       "913 0    0    0     0    0   0    0    0    0      0      ... 0    0    0   \n",
       "914 7    6    9    10   12   8    8    5    9      7      ... 5    5    4   \n",
       "    단지 금감원 의원 소송 전자 구속영장 포착\n",
       "909 0    0      0    0    0    0        0   \n",
       "910 0    0      0    0    0    0        0   \n",
       "911 0    0      1    0    0    0        0   \n",
       "912 0    0      0    0    0    0        0   \n",
       "913 0    0      0    0    0    0        0   \n",
       "914 4    4      6    4    4    4        4   "
      ]
     },
     "metadata": {},
     "output_type": "display_data"
    }
   ],
   "source": [
    "a = apply(df,2,sum)\n",
    "a = as.integer(a)\n",
    "\n",
    "df[914,] <- a\n",
    "\n",
    "main_df = df[,df[914,]>3]\n",
    "main_df[909:914,]"
   ]
  },
  {
   "cell_type": "code",
   "execution_count": 70,
   "id": "0b83fd12",
   "metadata": {
    "scrolled": true
   },
   "outputs": [
    {
     "data": {
      "text/html": [
       "914"
      ],
      "text/latex": [
       "914"
      ],
      "text/markdown": [
       "914"
      ],
      "text/plain": [
       "[1] 914"
      ]
     },
     "metadata": {},
     "output_type": "display_data"
    },
    {
     "data": {
      "text/html": [
       "351"
      ],
      "text/latex": [
       "351"
      ],
      "text/markdown": [
       "351"
      ],
      "text/plain": [
       "[1] 351"
      ]
     },
     "metadata": {},
     "output_type": "display_data"
    }
   ],
   "source": [
    "nrow(main_df)\n",
    "ncol(main_df)"
   ]
  },
  {
   "cell_type": "code",
   "execution_count": 71,
   "id": "87e39adb",
   "metadata": {
    "scrolled": true
   },
   "outputs": [],
   "source": [
    "b = apply(main_df,1,sum)\n",
    "b = as.integer(b)\n",
    "\n",
    "main_df[,352] <- b\n",
    "\n",
    "main_df = main_df[main_df[,352]>0,]"
   ]
  },
  {
   "cell_type": "code",
   "execution_count": 72,
   "id": "cbb4d790",
   "metadata": {
    "scrolled": true
   },
   "outputs": [
    {
     "data": {
      "text/html": [
       "808"
      ],
      "text/latex": [
       "808"
      ],
      "text/markdown": [
       "808"
      ],
      "text/plain": [
       "[1] 808"
      ]
     },
     "metadata": {},
     "output_type": "display_data"
    },
    {
     "data": {
      "text/html": [
       "352"
      ],
      "text/latex": [
       "352"
      ],
      "text/markdown": [
       "352"
      ],
      "text/plain": [
       "[1] 352"
      ]
     },
     "metadata": {},
     "output_type": "display_data"
    }
   ],
   "source": [
    "nrow(main_df)\n",
    "ncol(main_df)"
   ]
  },
  {
   "cell_type": "code",
   "execution_count": 73,
   "id": "64ba157b",
   "metadata": {
    "scrolled": true
   },
   "outputs": [
    {
     "data": {
      "text/html": [
       "<table>\n",
       "<thead><tr><th></th><th scope=col>사고</th><th scope=col>병원</th><th scope=col>건설</th><th scope=col>노조</th><th scope=col>청년</th><th scope=col>도약</th><th scope=col>계좌</th><th scope=col>은행</th><th scope=col>대통령</th><th scope=col>국정원</th><th scope=col>...</th><th scope=col>대학</th><th scope=col>파업</th><th scope=col>저지</th><th scope=col>단지</th><th scope=col>금감원</th><th scope=col>의원</th><th scope=col>소송</th><th scope=col>전자</th><th scope=col>구속영장</th><th scope=col>포착</th></tr></thead>\n",
       "<tbody>\n",
       "\t<tr><th scope=row>1</th><td>1  </td><td>0  </td><td>0  </td><td>0  </td><td>0  </td><td>0  </td><td>0  </td><td>0  </td><td>0  </td><td>0  </td><td>...</td><td>0  </td><td>0  </td><td>0  </td><td>0  </td><td>0  </td><td>0  </td><td>0  </td><td>0  </td><td>0  </td><td>0  </td></tr>\n",
       "\t<tr><th scope=row>2</th><td>0  </td><td>1  </td><td>0  </td><td>0  </td><td>0  </td><td>0  </td><td>0  </td><td>0  </td><td>0  </td><td>0  </td><td>...</td><td>0  </td><td>0  </td><td>0  </td><td>0  </td><td>0  </td><td>0  </td><td>0  </td><td>0  </td><td>0  </td><td>0  </td></tr>\n",
       "\t<tr><th scope=row>3</th><td>0  </td><td>0  </td><td>1  </td><td>1  </td><td>0  </td><td>0  </td><td>0  </td><td>0  </td><td>0  </td><td>0  </td><td>...</td><td>0  </td><td>0  </td><td>0  </td><td>0  </td><td>0  </td><td>0  </td><td>0  </td><td>0  </td><td>0  </td><td>0  </td></tr>\n",
       "\t<tr><th scope=row>4</th><td>0  </td><td>0  </td><td>0  </td><td>0  </td><td>1  </td><td>1  </td><td>1  </td><td>1  </td><td>0  </td><td>0  </td><td>...</td><td>0  </td><td>0  </td><td>0  </td><td>0  </td><td>0  </td><td>0  </td><td>0  </td><td>0  </td><td>0  </td><td>0  </td></tr>\n",
       "\t<tr><th scope=row>5</th><td>0  </td><td>0  </td><td>0  </td><td>0  </td><td>0  </td><td>0  </td><td>0  </td><td>0  </td><td>1  </td><td>1  </td><td>...</td><td>0  </td><td>0  </td><td>0  </td><td>0  </td><td>0  </td><td>0  </td><td>0  </td><td>0  </td><td>0  </td><td>0  </td></tr>\n",
       "\t<tr><th scope=row>7</th><td>0  </td><td>0  </td><td>0  </td><td>0  </td><td>0  </td><td>0  </td><td>0  </td><td>0  </td><td>0  </td><td>0  </td><td>...</td><td>0  </td><td>0  </td><td>0  </td><td>0  </td><td>0  </td><td>0  </td><td>0  </td><td>0  </td><td>0  </td><td>0  </td></tr>\n",
       "\t<tr><th scope=row>8</th><td>0  </td><td>0  </td><td>0  </td><td>0  </td><td>0  </td><td>0  </td><td>0  </td><td>0  </td><td>0  </td><td>0  </td><td>...</td><td>0  </td><td>0  </td><td>0  </td><td>0  </td><td>0  </td><td>0  </td><td>0  </td><td>0  </td><td>0  </td><td>0  </td></tr>\n",
       "\t<tr><th scope=row>9</th><td>0  </td><td>0  </td><td>0  </td><td>0  </td><td>0  </td><td>0  </td><td>0  </td><td>0  </td><td>0  </td><td>0  </td><td>...</td><td>0  </td><td>0  </td><td>0  </td><td>0  </td><td>0  </td><td>0  </td><td>0  </td><td>0  </td><td>0  </td><td>0  </td></tr>\n",
       "\t<tr><th scope=row>10</th><td>0  </td><td>0  </td><td>0  </td><td>0  </td><td>0  </td><td>0  </td><td>0  </td><td>0  </td><td>0  </td><td>0  </td><td>...</td><td>0  </td><td>0  </td><td>0  </td><td>0  </td><td>0  </td><td>0  </td><td>0  </td><td>0  </td><td>0  </td><td>0  </td></tr>\n",
       "\t<tr><th scope=row>11</th><td>0  </td><td>0  </td><td>0  </td><td>0  </td><td>0  </td><td>0  </td><td>0  </td><td>0  </td><td>0  </td><td>0  </td><td>...</td><td>0  </td><td>0  </td><td>0  </td><td>0  </td><td>0  </td><td>0  </td><td>0  </td><td>0  </td><td>0  </td><td>0  </td></tr>\n",
       "\t<tr><th scope=row>12</th><td>0  </td><td>0  </td><td>0  </td><td>0  </td><td>0  </td><td>0  </td><td>0  </td><td>0  </td><td>0  </td><td>0  </td><td>...</td><td>0  </td><td>0  </td><td>0  </td><td>0  </td><td>0  </td><td>0  </td><td>0  </td><td>0  </td><td>0  </td><td>0  </td></tr>\n",
       "\t<tr><th scope=row>13</th><td>0  </td><td>0  </td><td>0  </td><td>0  </td><td>0  </td><td>0  </td><td>0  </td><td>0  </td><td>0  </td><td>0  </td><td>...</td><td>0  </td><td>0  </td><td>0  </td><td>0  </td><td>0  </td><td>0  </td><td>0  </td><td>0  </td><td>0  </td><td>0  </td></tr>\n",
       "\t<tr><th scope=row>14</th><td>0  </td><td>0  </td><td>0  </td><td>0  </td><td>0  </td><td>0  </td><td>0  </td><td>0  </td><td>0  </td><td>0  </td><td>...</td><td>0  </td><td>0  </td><td>0  </td><td>0  </td><td>0  </td><td>0  </td><td>0  </td><td>0  </td><td>0  </td><td>0  </td></tr>\n",
       "\t<tr><th scope=row>15</th><td>0  </td><td>0  </td><td>0  </td><td>0  </td><td>0  </td><td>0  </td><td>0  </td><td>0  </td><td>0  </td><td>0  </td><td>...</td><td>0  </td><td>0  </td><td>0  </td><td>0  </td><td>0  </td><td>0  </td><td>0  </td><td>0  </td><td>0  </td><td>0  </td></tr>\n",
       "\t<tr><th scope=row>16</th><td>0  </td><td>0  </td><td>0  </td><td>0  </td><td>0  </td><td>0  </td><td>0  </td><td>0  </td><td>0  </td><td>1  </td><td>...</td><td>0  </td><td>0  </td><td>0  </td><td>0  </td><td>0  </td><td>0  </td><td>0  </td><td>0  </td><td>0  </td><td>0  </td></tr>\n",
       "\t<tr><th scope=row>17</th><td>0  </td><td>0  </td><td>0  </td><td>0  </td><td>0  </td><td>0  </td><td>0  </td><td>0  </td><td>0  </td><td>0  </td><td>...</td><td>0  </td><td>0  </td><td>0  </td><td>0  </td><td>0  </td><td>0  </td><td>0  </td><td>0  </td><td>0  </td><td>0  </td></tr>\n",
       "\t<tr><th scope=row>18</th><td>0  </td><td>0  </td><td>0  </td><td>0  </td><td>0  </td><td>0  </td><td>0  </td><td>0  </td><td>0  </td><td>1  </td><td>...</td><td>0  </td><td>0  </td><td>0  </td><td>0  </td><td>0  </td><td>0  </td><td>0  </td><td>0  </td><td>0  </td><td>0  </td></tr>\n",
       "\t<tr><th scope=row>19</th><td>0  </td><td>0  </td><td>0  </td><td>0  </td><td>0  </td><td>0  </td><td>0  </td><td>0  </td><td>1  </td><td>0  </td><td>...</td><td>0  </td><td>0  </td><td>0  </td><td>0  </td><td>0  </td><td>0  </td><td>0  </td><td>0  </td><td>0  </td><td>0  </td></tr>\n",
       "\t<tr><th scope=row>20</th><td>0  </td><td>0  </td><td>0  </td><td>0  </td><td>0  </td><td>0  </td><td>0  </td><td>0  </td><td>0  </td><td>0  </td><td>...</td><td>0  </td><td>0  </td><td>0  </td><td>0  </td><td>0  </td><td>0  </td><td>0  </td><td>0  </td><td>0  </td><td>0  </td></tr>\n",
       "\t<tr><th scope=row>21</th><td>0  </td><td>0  </td><td>0  </td><td>0  </td><td>0  </td><td>0  </td><td>0  </td><td>0  </td><td>0  </td><td>0  </td><td>...</td><td>0  </td><td>0  </td><td>0  </td><td>0  </td><td>0  </td><td>0  </td><td>0  </td><td>0  </td><td>0  </td><td>0  </td></tr>\n",
       "\t<tr><th scope=row>22</th><td>0  </td><td>0  </td><td>0  </td><td>0  </td><td>0  </td><td>0  </td><td>0  </td><td>0  </td><td>0  </td><td>0  </td><td>...</td><td>0  </td><td>0  </td><td>0  </td><td>0  </td><td>0  </td><td>0  </td><td>0  </td><td>0  </td><td>0  </td><td>0  </td></tr>\n",
       "\t<tr><th scope=row>23</th><td>0  </td><td>0  </td><td>0  </td><td>0  </td><td>0  </td><td>0  </td><td>0  </td><td>0  </td><td>0  </td><td>0  </td><td>...</td><td>0  </td><td>0  </td><td>0  </td><td>0  </td><td>0  </td><td>0  </td><td>0  </td><td>0  </td><td>0  </td><td>0  </td></tr>\n",
       "\t<tr><th scope=row>24</th><td>0  </td><td>0  </td><td>0  </td><td>0  </td><td>0  </td><td>0  </td><td>0  </td><td>0  </td><td>0  </td><td>0  </td><td>...</td><td>0  </td><td>0  </td><td>0  </td><td>0  </td><td>0  </td><td>0  </td><td>0  </td><td>0  </td><td>0  </td><td>0  </td></tr>\n",
       "\t<tr><th scope=row>25</th><td>0  </td><td>0  </td><td>0  </td><td>0  </td><td>0  </td><td>0  </td><td>0  </td><td>0  </td><td>0  </td><td>0  </td><td>...</td><td>0  </td><td>0  </td><td>0  </td><td>0  </td><td>0  </td><td>0  </td><td>0  </td><td>0  </td><td>0  </td><td>0  </td></tr>\n",
       "\t<tr><th scope=row>26</th><td>0  </td><td>0  </td><td>0  </td><td>0  </td><td>0  </td><td>0  </td><td>0  </td><td>0  </td><td>0  </td><td>0  </td><td>...</td><td>0  </td><td>0  </td><td>0  </td><td>0  </td><td>0  </td><td>0  </td><td>0  </td><td>0  </td><td>0  </td><td>0  </td></tr>\n",
       "\t<tr><th scope=row>27</th><td>0  </td><td>0  </td><td>0  </td><td>0  </td><td>0  </td><td>0  </td><td>0  </td><td>0  </td><td>0  </td><td>0  </td><td>...</td><td>0  </td><td>0  </td><td>0  </td><td>0  </td><td>0  </td><td>0  </td><td>0  </td><td>0  </td><td>0  </td><td>0  </td></tr>\n",
       "\t<tr><th scope=row>28</th><td>0  </td><td>0  </td><td>0  </td><td>0  </td><td>0  </td><td>0  </td><td>0  </td><td>0  </td><td>0  </td><td>0  </td><td>...</td><td>0  </td><td>0  </td><td>0  </td><td>0  </td><td>0  </td><td>0  </td><td>0  </td><td>0  </td><td>0  </td><td>0  </td></tr>\n",
       "\t<tr><th scope=row>29</th><td>0  </td><td>0  </td><td>0  </td><td>0  </td><td>0  </td><td>0  </td><td>0  </td><td>0  </td><td>0  </td><td>0  </td><td>...</td><td>0  </td><td>0  </td><td>0  </td><td>0  </td><td>0  </td><td>0  </td><td>0  </td><td>0  </td><td>0  </td><td>0  </td></tr>\n",
       "\t<tr><th scope=row>32</th><td>0  </td><td>0  </td><td>0  </td><td>0  </td><td>0  </td><td>0  </td><td>0  </td><td>0  </td><td>0  </td><td>0  </td><td>...</td><td>0  </td><td>0  </td><td>0  </td><td>0  </td><td>0  </td><td>0  </td><td>0  </td><td>0  </td><td>0  </td><td>0  </td></tr>\n",
       "\t<tr><th scope=row>33</th><td>0  </td><td>0  </td><td>0  </td><td>0  </td><td>0  </td><td>0  </td><td>0  </td><td>0  </td><td>0  </td><td>0  </td><td>...</td><td>0  </td><td>0  </td><td>0  </td><td>0  </td><td>0  </td><td>0  </td><td>0  </td><td>0  </td><td>0  </td><td>0  </td></tr>\n",
       "\t<tr><th scope=row>...</th><td>...</td><td>...</td><td>...</td><td>...</td><td>...</td><td>...</td><td>...</td><td>...</td><td>...</td><td>...</td><td>   </td><td>...</td><td>...</td><td>...</td><td>...</td><td>...</td><td>...</td><td>...</td><td>...</td><td>...</td><td>...</td></tr>\n",
       "\t<tr><th scope=row>882</th><td>1  </td><td>0  </td><td>0  </td><td>0  </td><td>0  </td><td>0  </td><td>0  </td><td>0  </td><td>0  </td><td>0  </td><td>...</td><td>0  </td><td>0  </td><td>0  </td><td>0  </td><td>0  </td><td>0  </td><td>0  </td><td>0  </td><td>0  </td><td>0  </td></tr>\n",
       "\t<tr><th scope=row>883</th><td>0  </td><td>0  </td><td>0  </td><td>0  </td><td>0  </td><td>0  </td><td>0  </td><td>0  </td><td>0  </td><td>0  </td><td>...</td><td>0  </td><td>0  </td><td>0  </td><td>0  </td><td>0  </td><td>0  </td><td>0  </td><td>0  </td><td>0  </td><td>0  </td></tr>\n",
       "\t<tr><th scope=row>884</th><td>0  </td><td>0  </td><td>0  </td><td>0  </td><td>0  </td><td>0  </td><td>0  </td><td>0  </td><td>0  </td><td>0  </td><td>...</td><td>0  </td><td>0  </td><td>0  </td><td>0  </td><td>0  </td><td>0  </td><td>0  </td><td>0  </td><td>0  </td><td>0  </td></tr>\n",
       "\t<tr><th scope=row>885</th><td>0  </td><td>0  </td><td>0  </td><td>0  </td><td>0  </td><td>0  </td><td>0  </td><td>0  </td><td>0  </td><td>0  </td><td>...</td><td>0  </td><td>0  </td><td>0  </td><td>0  </td><td>0  </td><td>0  </td><td>0  </td><td>0  </td><td>0  </td><td>0  </td></tr>\n",
       "\t<tr><th scope=row>886</th><td>0  </td><td>0  </td><td>0  </td><td>0  </td><td>0  </td><td>0  </td><td>0  </td><td>0  </td><td>0  </td><td>0  </td><td>...</td><td>0  </td><td>0  </td><td>0  </td><td>0  </td><td>0  </td><td>0  </td><td>0  </td><td>0  </td><td>1  </td><td>0  </td></tr>\n",
       "\t<tr><th scope=row>888</th><td>0  </td><td>0  </td><td>0  </td><td>0  </td><td>0  </td><td>0  </td><td>0  </td><td>0  </td><td>0  </td><td>0  </td><td>...</td><td>0  </td><td>0  </td><td>0  </td><td>0  </td><td>0  </td><td>0  </td><td>0  </td><td>0  </td><td>0  </td><td>0  </td></tr>\n",
       "\t<tr><th scope=row>889</th><td>0  </td><td>0  </td><td>0  </td><td>0  </td><td>0  </td><td>0  </td><td>0  </td><td>0  </td><td>0  </td><td>0  </td><td>...</td><td>0  </td><td>0  </td><td>0  </td><td>0  </td><td>0  </td><td>0  </td><td>0  </td><td>0  </td><td>0  </td><td>1  </td></tr>\n",
       "\t<tr><th scope=row>890</th><td>0  </td><td>0  </td><td>0  </td><td>0  </td><td>0  </td><td>0  </td><td>0  </td><td>0  </td><td>0  </td><td>0  </td><td>...</td><td>0  </td><td>0  </td><td>0  </td><td>0  </td><td>0  </td><td>0  </td><td>0  </td><td>0  </td><td>0  </td><td>0  </td></tr>\n",
       "\t<tr><th scope=row>891</th><td>0  </td><td>0  </td><td>0  </td><td>0  </td><td>0  </td><td>0  </td><td>0  </td><td>0  </td><td>0  </td><td>0  </td><td>...</td><td>0  </td><td>0  </td><td>0  </td><td>0  </td><td>0  </td><td>0  </td><td>0  </td><td>0  </td><td>0  </td><td>0  </td></tr>\n",
       "\t<tr><th scope=row>892</th><td>0  </td><td>0  </td><td>0  </td><td>0  </td><td>0  </td><td>0  </td><td>0  </td><td>0  </td><td>0  </td><td>0  </td><td>...</td><td>0  </td><td>0  </td><td>0  </td><td>0  </td><td>0  </td><td>0  </td><td>0  </td><td>0  </td><td>0  </td><td>0  </td></tr>\n",
       "\t<tr><th scope=row>893</th><td>0  </td><td>0  </td><td>0  </td><td>0  </td><td>0  </td><td>0  </td><td>0  </td><td>0  </td><td>0  </td><td>0  </td><td>...</td><td>0  </td><td>0  </td><td>0  </td><td>0  </td><td>0  </td><td>0  </td><td>0  </td><td>0  </td><td>0  </td><td>0  </td></tr>\n",
       "\t<tr><th scope=row>894</th><td>0  </td><td>0  </td><td>0  </td><td>0  </td><td>0  </td><td>0  </td><td>0  </td><td>0  </td><td>0  </td><td>0  </td><td>...</td><td>0  </td><td>0  </td><td>0  </td><td>0  </td><td>0  </td><td>0  </td><td>0  </td><td>0  </td><td>0  </td><td>0  </td></tr>\n",
       "\t<tr><th scope=row>895</th><td>0  </td><td>0  </td><td>0  </td><td>0  </td><td>0  </td><td>0  </td><td>0  </td><td>0  </td><td>0  </td><td>0  </td><td>...</td><td>0  </td><td>0  </td><td>0  </td><td>0  </td><td>0  </td><td>0  </td><td>0  </td><td>0  </td><td>0  </td><td>0  </td></tr>\n",
       "\t<tr><th scope=row>896</th><td>0  </td><td>0  </td><td>0  </td><td>0  </td><td>0  </td><td>0  </td><td>0  </td><td>0  </td><td>0  </td><td>0  </td><td>...</td><td>0  </td><td>0  </td><td>0  </td><td>0  </td><td>0  </td><td>0  </td><td>1  </td><td>0  </td><td>0  </td><td>0  </td></tr>\n",
       "\t<tr><th scope=row>897</th><td>0  </td><td>0  </td><td>0  </td><td>0  </td><td>0  </td><td>0  </td><td>0  </td><td>0  </td><td>0  </td><td>0  </td><td>...</td><td>0  </td><td>0  </td><td>0  </td><td>0  </td><td>0  </td><td>0  </td><td>0  </td><td>0  </td><td>0  </td><td>0  </td></tr>\n",
       "\t<tr><th scope=row>898</th><td>0  </td><td>0  </td><td>0  </td><td>0  </td><td>0  </td><td>0  </td><td>0  </td><td>0  </td><td>0  </td><td>0  </td><td>...</td><td>0  </td><td>0  </td><td>0  </td><td>0  </td><td>0  </td><td>0  </td><td>0  </td><td>0  </td><td>0  </td><td>1  </td></tr>\n",
       "\t<tr><th scope=row>899</th><td>0  </td><td>0  </td><td>0  </td><td>0  </td><td>0  </td><td>0  </td><td>0  </td><td>0  </td><td>0  </td><td>0  </td><td>...</td><td>0  </td><td>0  </td><td>0  </td><td>0  </td><td>0  </td><td>0  </td><td>0  </td><td>0  </td><td>0  </td><td>0  </td></tr>\n",
       "\t<tr><th scope=row>900</th><td>0  </td><td>0  </td><td>0  </td><td>0  </td><td>0  </td><td>0  </td><td>0  </td><td>0  </td><td>0  </td><td>0  </td><td>...</td><td>0  </td><td>0  </td><td>0  </td><td>0  </td><td>0  </td><td>0  </td><td>0  </td><td>0  </td><td>0  </td><td>0  </td></tr>\n",
       "\t<tr><th scope=row>901</th><td>0  </td><td>0  </td><td>0  </td><td>0  </td><td>0  </td><td>0  </td><td>0  </td><td>0  </td><td>0  </td><td>0  </td><td>...</td><td>0  </td><td>0  </td><td>0  </td><td>0  </td><td>0  </td><td>0  </td><td>0  </td><td>0  </td><td>0  </td><td>0  </td></tr>\n",
       "\t<tr><th scope=row>902</th><td>0  </td><td>0  </td><td>0  </td><td>0  </td><td>0  </td><td>0  </td><td>0  </td><td>0  </td><td>0  </td><td>0  </td><td>...</td><td>0  </td><td>0  </td><td>0  </td><td>0  </td><td>0  </td><td>0  </td><td>0  </td><td>0  </td><td>0  </td><td>0  </td></tr>\n",
       "\t<tr><th scope=row>903</th><td>0  </td><td>0  </td><td>0  </td><td>0  </td><td>0  </td><td>0  </td><td>0  </td><td>0  </td><td>0  </td><td>0  </td><td>...</td><td>0  </td><td>0  </td><td>1  </td><td>0  </td><td>0  </td><td>0  </td><td>0  </td><td>0  </td><td>0  </td><td>0  </td></tr>\n",
       "\t<tr><th scope=row>904</th><td>0  </td><td>0  </td><td>0  </td><td>0  </td><td>0  </td><td>0  </td><td>0  </td><td>0  </td><td>0  </td><td>0  </td><td>...</td><td>0  </td><td>0  </td><td>0  </td><td>0  </td><td>0  </td><td>0  </td><td>0  </td><td>0  </td><td>0  </td><td>0  </td></tr>\n",
       "\t<tr><th scope=row>905</th><td>0  </td><td>0  </td><td>0  </td><td>0  </td><td>0  </td><td>0  </td><td>0  </td><td>0  </td><td>0  </td><td>0  </td><td>...</td><td>0  </td><td>0  </td><td>0  </td><td>0  </td><td>0  </td><td>0  </td><td>0  </td><td>0  </td><td>0  </td><td>0  </td></tr>\n",
       "\t<tr><th scope=row>906</th><td>0  </td><td>0  </td><td>0  </td><td>0  </td><td>0  </td><td>0  </td><td>0  </td><td>0  </td><td>0  </td><td>0  </td><td>...</td><td>0  </td><td>0  </td><td>0  </td><td>0  </td><td>0  </td><td>0  </td><td>0  </td><td>0  </td><td>0  </td><td>0  </td></tr>\n",
       "\t<tr><th scope=row>907</th><td>0  </td><td>0  </td><td>0  </td><td>0  </td><td>0  </td><td>0  </td><td>0  </td><td>0  </td><td>0  </td><td>0  </td><td>...</td><td>0  </td><td>0  </td><td>0  </td><td>0  </td><td>0  </td><td>0  </td><td>0  </td><td>0  </td><td>0  </td><td>0  </td></tr>\n",
       "\t<tr><th scope=row>908</th><td>0  </td><td>0  </td><td>0  </td><td>0  </td><td>0  </td><td>0  </td><td>0  </td><td>0  </td><td>0  </td><td>0  </td><td>...</td><td>0  </td><td>0  </td><td>0  </td><td>0  </td><td>0  </td><td>0  </td><td>0  </td><td>0  </td><td>0  </td><td>0  </td></tr>\n",
       "\t<tr><th scope=row>909</th><td>0  </td><td>0  </td><td>0  </td><td>0  </td><td>0  </td><td>0  </td><td>0  </td><td>0  </td><td>0  </td><td>0  </td><td>...</td><td>0  </td><td>0  </td><td>0  </td><td>0  </td><td>0  </td><td>0  </td><td>0  </td><td>0  </td><td>0  </td><td>0  </td></tr>\n",
       "\t<tr><th scope=row>911</th><td>0  </td><td>0  </td><td>0  </td><td>0  </td><td>0  </td><td>0  </td><td>0  </td><td>0  </td><td>0  </td><td>0  </td><td>...</td><td>0  </td><td>0  </td><td>0  </td><td>0  </td><td>0  </td><td>1  </td><td>0  </td><td>0  </td><td>0  </td><td>0  </td></tr>\n",
       "\t<tr><th scope=row>912</th><td>0  </td><td>0  </td><td>0  </td><td>0  </td><td>0  </td><td>0  </td><td>0  </td><td>0  </td><td>0  </td><td>0  </td><td>...</td><td>0  </td><td>0  </td><td>0  </td><td>0  </td><td>0  </td><td>0  </td><td>0  </td><td>0  </td><td>0  </td><td>0  </td></tr>\n",
       "\t<tr><th scope=row>913</th><td>0  </td><td>0  </td><td>0  </td><td>0  </td><td>0  </td><td>0  </td><td>0  </td><td>0  </td><td>0  </td><td>0  </td><td>...</td><td>0  </td><td>0  </td><td>0  </td><td>0  </td><td>0  </td><td>0  </td><td>0  </td><td>0  </td><td>0  </td><td>0  </td></tr>\n",
       "</tbody>\n",
       "</table>\n"
      ],
      "text/latex": [
       "\\begin{tabular}{r|lllllllllllllllllllllllllllllllllllllllllllllllllllllllllllllllllllllllllllllllllllllllllllllllllllllllllllllllllllllllllllllllllllllllllllllllllllllllllllllllllllllllllllllllllllllllllllllllllllllllllllllllllllllllllllllllllllllllllllllllllllllllllllllllllllllllllllllllllllllllllllllllllllllllllllllllllllllllllllllllllllllllllllllllllllllllllllllll}\n",
       "  & 사고 & 병원 & 건설 & 노조 & 청년 & 도약 & 계좌 & 은행 & 대통령 & 국정원 & ... & 대학 & 파업 & 저지 & 단지 & 금감원 & 의원 & 소송 & 전자 & 구속영장 & 포착\\\\\n",
       "\\hline\n",
       "\t1 & 1   & 0   & 0   & 0   & 0   & 0   & 0   & 0   & 0   & 0   & ... & 0   & 0   & 0   & 0   & 0   & 0   & 0   & 0   & 0   & 0  \\\\\n",
       "\t2 & 0   & 1   & 0   & 0   & 0   & 0   & 0   & 0   & 0   & 0   & ... & 0   & 0   & 0   & 0   & 0   & 0   & 0   & 0   & 0   & 0  \\\\\n",
       "\t3 & 0   & 0   & 1   & 1   & 0   & 0   & 0   & 0   & 0   & 0   & ... & 0   & 0   & 0   & 0   & 0   & 0   & 0   & 0   & 0   & 0  \\\\\n",
       "\t4 & 0   & 0   & 0   & 0   & 1   & 1   & 1   & 1   & 0   & 0   & ... & 0   & 0   & 0   & 0   & 0   & 0   & 0   & 0   & 0   & 0  \\\\\n",
       "\t5 & 0   & 0   & 0   & 0   & 0   & 0   & 0   & 0   & 1   & 1   & ... & 0   & 0   & 0   & 0   & 0   & 0   & 0   & 0   & 0   & 0  \\\\\n",
       "\t7 & 0   & 0   & 0   & 0   & 0   & 0   & 0   & 0   & 0   & 0   & ... & 0   & 0   & 0   & 0   & 0   & 0   & 0   & 0   & 0   & 0  \\\\\n",
       "\t8 & 0   & 0   & 0   & 0   & 0   & 0   & 0   & 0   & 0   & 0   & ... & 0   & 0   & 0   & 0   & 0   & 0   & 0   & 0   & 0   & 0  \\\\\n",
       "\t9 & 0   & 0   & 0   & 0   & 0   & 0   & 0   & 0   & 0   & 0   & ... & 0   & 0   & 0   & 0   & 0   & 0   & 0   & 0   & 0   & 0  \\\\\n",
       "\t10 & 0   & 0   & 0   & 0   & 0   & 0   & 0   & 0   & 0   & 0   & ... & 0   & 0   & 0   & 0   & 0   & 0   & 0   & 0   & 0   & 0  \\\\\n",
       "\t11 & 0   & 0   & 0   & 0   & 0   & 0   & 0   & 0   & 0   & 0   & ... & 0   & 0   & 0   & 0   & 0   & 0   & 0   & 0   & 0   & 0  \\\\\n",
       "\t12 & 0   & 0   & 0   & 0   & 0   & 0   & 0   & 0   & 0   & 0   & ... & 0   & 0   & 0   & 0   & 0   & 0   & 0   & 0   & 0   & 0  \\\\\n",
       "\t13 & 0   & 0   & 0   & 0   & 0   & 0   & 0   & 0   & 0   & 0   & ... & 0   & 0   & 0   & 0   & 0   & 0   & 0   & 0   & 0   & 0  \\\\\n",
       "\t14 & 0   & 0   & 0   & 0   & 0   & 0   & 0   & 0   & 0   & 0   & ... & 0   & 0   & 0   & 0   & 0   & 0   & 0   & 0   & 0   & 0  \\\\\n",
       "\t15 & 0   & 0   & 0   & 0   & 0   & 0   & 0   & 0   & 0   & 0   & ... & 0   & 0   & 0   & 0   & 0   & 0   & 0   & 0   & 0   & 0  \\\\\n",
       "\t16 & 0   & 0   & 0   & 0   & 0   & 0   & 0   & 0   & 0   & 1   & ... & 0   & 0   & 0   & 0   & 0   & 0   & 0   & 0   & 0   & 0  \\\\\n",
       "\t17 & 0   & 0   & 0   & 0   & 0   & 0   & 0   & 0   & 0   & 0   & ... & 0   & 0   & 0   & 0   & 0   & 0   & 0   & 0   & 0   & 0  \\\\\n",
       "\t18 & 0   & 0   & 0   & 0   & 0   & 0   & 0   & 0   & 0   & 1   & ... & 0   & 0   & 0   & 0   & 0   & 0   & 0   & 0   & 0   & 0  \\\\\n",
       "\t19 & 0   & 0   & 0   & 0   & 0   & 0   & 0   & 0   & 1   & 0   & ... & 0   & 0   & 0   & 0   & 0   & 0   & 0   & 0   & 0   & 0  \\\\\n",
       "\t20 & 0   & 0   & 0   & 0   & 0   & 0   & 0   & 0   & 0   & 0   & ... & 0   & 0   & 0   & 0   & 0   & 0   & 0   & 0   & 0   & 0  \\\\\n",
       "\t21 & 0   & 0   & 0   & 0   & 0   & 0   & 0   & 0   & 0   & 0   & ... & 0   & 0   & 0   & 0   & 0   & 0   & 0   & 0   & 0   & 0  \\\\\n",
       "\t22 & 0   & 0   & 0   & 0   & 0   & 0   & 0   & 0   & 0   & 0   & ... & 0   & 0   & 0   & 0   & 0   & 0   & 0   & 0   & 0   & 0  \\\\\n",
       "\t23 & 0   & 0   & 0   & 0   & 0   & 0   & 0   & 0   & 0   & 0   & ... & 0   & 0   & 0   & 0   & 0   & 0   & 0   & 0   & 0   & 0  \\\\\n",
       "\t24 & 0   & 0   & 0   & 0   & 0   & 0   & 0   & 0   & 0   & 0   & ... & 0   & 0   & 0   & 0   & 0   & 0   & 0   & 0   & 0   & 0  \\\\\n",
       "\t25 & 0   & 0   & 0   & 0   & 0   & 0   & 0   & 0   & 0   & 0   & ... & 0   & 0   & 0   & 0   & 0   & 0   & 0   & 0   & 0   & 0  \\\\\n",
       "\t26 & 0   & 0   & 0   & 0   & 0   & 0   & 0   & 0   & 0   & 0   & ... & 0   & 0   & 0   & 0   & 0   & 0   & 0   & 0   & 0   & 0  \\\\\n",
       "\t27 & 0   & 0   & 0   & 0   & 0   & 0   & 0   & 0   & 0   & 0   & ... & 0   & 0   & 0   & 0   & 0   & 0   & 0   & 0   & 0   & 0  \\\\\n",
       "\t28 & 0   & 0   & 0   & 0   & 0   & 0   & 0   & 0   & 0   & 0   & ... & 0   & 0   & 0   & 0   & 0   & 0   & 0   & 0   & 0   & 0  \\\\\n",
       "\t29 & 0   & 0   & 0   & 0   & 0   & 0   & 0   & 0   & 0   & 0   & ... & 0   & 0   & 0   & 0   & 0   & 0   & 0   & 0   & 0   & 0  \\\\\n",
       "\t32 & 0   & 0   & 0   & 0   & 0   & 0   & 0   & 0   & 0   & 0   & ... & 0   & 0   & 0   & 0   & 0   & 0   & 0   & 0   & 0   & 0  \\\\\n",
       "\t33 & 0   & 0   & 0   & 0   & 0   & 0   & 0   & 0   & 0   & 0   & ... & 0   & 0   & 0   & 0   & 0   & 0   & 0   & 0   & 0   & 0  \\\\\n",
       "\t... & ... & ... & ... & ... & ... & ... & ... & ... & ... & ... &     & ... & ... & ... & ... & ... & ... & ... & ... & ... & ...\\\\\n",
       "\t882 & 1   & 0   & 0   & 0   & 0   & 0   & 0   & 0   & 0   & 0   & ... & 0   & 0   & 0   & 0   & 0   & 0   & 0   & 0   & 0   & 0  \\\\\n",
       "\t883 & 0   & 0   & 0   & 0   & 0   & 0   & 0   & 0   & 0   & 0   & ... & 0   & 0   & 0   & 0   & 0   & 0   & 0   & 0   & 0   & 0  \\\\\n",
       "\t884 & 0   & 0   & 0   & 0   & 0   & 0   & 0   & 0   & 0   & 0   & ... & 0   & 0   & 0   & 0   & 0   & 0   & 0   & 0   & 0   & 0  \\\\\n",
       "\t885 & 0   & 0   & 0   & 0   & 0   & 0   & 0   & 0   & 0   & 0   & ... & 0   & 0   & 0   & 0   & 0   & 0   & 0   & 0   & 0   & 0  \\\\\n",
       "\t886 & 0   & 0   & 0   & 0   & 0   & 0   & 0   & 0   & 0   & 0   & ... & 0   & 0   & 0   & 0   & 0   & 0   & 0   & 0   & 1   & 0  \\\\\n",
       "\t888 & 0   & 0   & 0   & 0   & 0   & 0   & 0   & 0   & 0   & 0   & ... & 0   & 0   & 0   & 0   & 0   & 0   & 0   & 0   & 0   & 0  \\\\\n",
       "\t889 & 0   & 0   & 0   & 0   & 0   & 0   & 0   & 0   & 0   & 0   & ... & 0   & 0   & 0   & 0   & 0   & 0   & 0   & 0   & 0   & 1  \\\\\n",
       "\t890 & 0   & 0   & 0   & 0   & 0   & 0   & 0   & 0   & 0   & 0   & ... & 0   & 0   & 0   & 0   & 0   & 0   & 0   & 0   & 0   & 0  \\\\\n",
       "\t891 & 0   & 0   & 0   & 0   & 0   & 0   & 0   & 0   & 0   & 0   & ... & 0   & 0   & 0   & 0   & 0   & 0   & 0   & 0   & 0   & 0  \\\\\n",
       "\t892 & 0   & 0   & 0   & 0   & 0   & 0   & 0   & 0   & 0   & 0   & ... & 0   & 0   & 0   & 0   & 0   & 0   & 0   & 0   & 0   & 0  \\\\\n",
       "\t893 & 0   & 0   & 0   & 0   & 0   & 0   & 0   & 0   & 0   & 0   & ... & 0   & 0   & 0   & 0   & 0   & 0   & 0   & 0   & 0   & 0  \\\\\n",
       "\t894 & 0   & 0   & 0   & 0   & 0   & 0   & 0   & 0   & 0   & 0   & ... & 0   & 0   & 0   & 0   & 0   & 0   & 0   & 0   & 0   & 0  \\\\\n",
       "\t895 & 0   & 0   & 0   & 0   & 0   & 0   & 0   & 0   & 0   & 0   & ... & 0   & 0   & 0   & 0   & 0   & 0   & 0   & 0   & 0   & 0  \\\\\n",
       "\t896 & 0   & 0   & 0   & 0   & 0   & 0   & 0   & 0   & 0   & 0   & ... & 0   & 0   & 0   & 0   & 0   & 0   & 1   & 0   & 0   & 0  \\\\\n",
       "\t897 & 0   & 0   & 0   & 0   & 0   & 0   & 0   & 0   & 0   & 0   & ... & 0   & 0   & 0   & 0   & 0   & 0   & 0   & 0   & 0   & 0  \\\\\n",
       "\t898 & 0   & 0   & 0   & 0   & 0   & 0   & 0   & 0   & 0   & 0   & ... & 0   & 0   & 0   & 0   & 0   & 0   & 0   & 0   & 0   & 1  \\\\\n",
       "\t899 & 0   & 0   & 0   & 0   & 0   & 0   & 0   & 0   & 0   & 0   & ... & 0   & 0   & 0   & 0   & 0   & 0   & 0   & 0   & 0   & 0  \\\\\n",
       "\t900 & 0   & 0   & 0   & 0   & 0   & 0   & 0   & 0   & 0   & 0   & ... & 0   & 0   & 0   & 0   & 0   & 0   & 0   & 0   & 0   & 0  \\\\\n",
       "\t901 & 0   & 0   & 0   & 0   & 0   & 0   & 0   & 0   & 0   & 0   & ... & 0   & 0   & 0   & 0   & 0   & 0   & 0   & 0   & 0   & 0  \\\\\n",
       "\t902 & 0   & 0   & 0   & 0   & 0   & 0   & 0   & 0   & 0   & 0   & ... & 0   & 0   & 0   & 0   & 0   & 0   & 0   & 0   & 0   & 0  \\\\\n",
       "\t903 & 0   & 0   & 0   & 0   & 0   & 0   & 0   & 0   & 0   & 0   & ... & 0   & 0   & 1   & 0   & 0   & 0   & 0   & 0   & 0   & 0  \\\\\n",
       "\t904 & 0   & 0   & 0   & 0   & 0   & 0   & 0   & 0   & 0   & 0   & ... & 0   & 0   & 0   & 0   & 0   & 0   & 0   & 0   & 0   & 0  \\\\\n",
       "\t905 & 0   & 0   & 0   & 0   & 0   & 0   & 0   & 0   & 0   & 0   & ... & 0   & 0   & 0   & 0   & 0   & 0   & 0   & 0   & 0   & 0  \\\\\n",
       "\t906 & 0   & 0   & 0   & 0   & 0   & 0   & 0   & 0   & 0   & 0   & ... & 0   & 0   & 0   & 0   & 0   & 0   & 0   & 0   & 0   & 0  \\\\\n",
       "\t907 & 0   & 0   & 0   & 0   & 0   & 0   & 0   & 0   & 0   & 0   & ... & 0   & 0   & 0   & 0   & 0   & 0   & 0   & 0   & 0   & 0  \\\\\n",
       "\t908 & 0   & 0   & 0   & 0   & 0   & 0   & 0   & 0   & 0   & 0   & ... & 0   & 0   & 0   & 0   & 0   & 0   & 0   & 0   & 0   & 0  \\\\\n",
       "\t909 & 0   & 0   & 0   & 0   & 0   & 0   & 0   & 0   & 0   & 0   & ... & 0   & 0   & 0   & 0   & 0   & 0   & 0   & 0   & 0   & 0  \\\\\n",
       "\t911 & 0   & 0   & 0   & 0   & 0   & 0   & 0   & 0   & 0   & 0   & ... & 0   & 0   & 0   & 0   & 0   & 1   & 0   & 0   & 0   & 0  \\\\\n",
       "\t912 & 0   & 0   & 0   & 0   & 0   & 0   & 0   & 0   & 0   & 0   & ... & 0   & 0   & 0   & 0   & 0   & 0   & 0   & 0   & 0   & 0  \\\\\n",
       "\t913 & 0   & 0   & 0   & 0   & 0   & 0   & 0   & 0   & 0   & 0   & ... & 0   & 0   & 0   & 0   & 0   & 0   & 0   & 0   & 0   & 0  \\\\\n",
       "\\end{tabular}\n"
      ],
      "text/markdown": [
       "\n",
       "| <!--/--> | 사고 | 병원 | 건설 | 노조 | 청년 | 도약 | 계좌 | 은행 | 대통령 | 국정원 | ... | 대학 | 파업 | 저지 | 단지 | 금감원 | 의원 | 소송 | 전자 | 구속영장 | 포착 |\n",
       "|---|---|---|---|---|---|---|---|---|---|---|---|---|---|---|---|---|---|---|---|---|---|\n",
       "| 1 | 1   | 0   | 0   | 0   | 0   | 0   | 0   | 0   | 0   | 0   | ... | 0   | 0   | 0   | 0   | 0   | 0   | 0   | 0   | 0   | 0   |\n",
       "| 2 | 0   | 1   | 0   | 0   | 0   | 0   | 0   | 0   | 0   | 0   | ... | 0   | 0   | 0   | 0   | 0   | 0   | 0   | 0   | 0   | 0   |\n",
       "| 3 | 0   | 0   | 1   | 1   | 0   | 0   | 0   | 0   | 0   | 0   | ... | 0   | 0   | 0   | 0   | 0   | 0   | 0   | 0   | 0   | 0   |\n",
       "| 4 | 0   | 0   | 0   | 0   | 1   | 1   | 1   | 1   | 0   | 0   | ... | 0   | 0   | 0   | 0   | 0   | 0   | 0   | 0   | 0   | 0   |\n",
       "| 5 | 0   | 0   | 0   | 0   | 0   | 0   | 0   | 0   | 1   | 1   | ... | 0   | 0   | 0   | 0   | 0   | 0   | 0   | 0   | 0   | 0   |\n",
       "| 7 | 0   | 0   | 0   | 0   | 0   | 0   | 0   | 0   | 0   | 0   | ... | 0   | 0   | 0   | 0   | 0   | 0   | 0   | 0   | 0   | 0   |\n",
       "| 8 | 0   | 0   | 0   | 0   | 0   | 0   | 0   | 0   | 0   | 0   | ... | 0   | 0   | 0   | 0   | 0   | 0   | 0   | 0   | 0   | 0   |\n",
       "| 9 | 0   | 0   | 0   | 0   | 0   | 0   | 0   | 0   | 0   | 0   | ... | 0   | 0   | 0   | 0   | 0   | 0   | 0   | 0   | 0   | 0   |\n",
       "| 10 | 0   | 0   | 0   | 0   | 0   | 0   | 0   | 0   | 0   | 0   | ... | 0   | 0   | 0   | 0   | 0   | 0   | 0   | 0   | 0   | 0   |\n",
       "| 11 | 0   | 0   | 0   | 0   | 0   | 0   | 0   | 0   | 0   | 0   | ... | 0   | 0   | 0   | 0   | 0   | 0   | 0   | 0   | 0   | 0   |\n",
       "| 12 | 0   | 0   | 0   | 0   | 0   | 0   | 0   | 0   | 0   | 0   | ... | 0   | 0   | 0   | 0   | 0   | 0   | 0   | 0   | 0   | 0   |\n",
       "| 13 | 0   | 0   | 0   | 0   | 0   | 0   | 0   | 0   | 0   | 0   | ... | 0   | 0   | 0   | 0   | 0   | 0   | 0   | 0   | 0   | 0   |\n",
       "| 14 | 0   | 0   | 0   | 0   | 0   | 0   | 0   | 0   | 0   | 0   | ... | 0   | 0   | 0   | 0   | 0   | 0   | 0   | 0   | 0   | 0   |\n",
       "| 15 | 0   | 0   | 0   | 0   | 0   | 0   | 0   | 0   | 0   | 0   | ... | 0   | 0   | 0   | 0   | 0   | 0   | 0   | 0   | 0   | 0   |\n",
       "| 16 | 0   | 0   | 0   | 0   | 0   | 0   | 0   | 0   | 0   | 1   | ... | 0   | 0   | 0   | 0   | 0   | 0   | 0   | 0   | 0   | 0   |\n",
       "| 17 | 0   | 0   | 0   | 0   | 0   | 0   | 0   | 0   | 0   | 0   | ... | 0   | 0   | 0   | 0   | 0   | 0   | 0   | 0   | 0   | 0   |\n",
       "| 18 | 0   | 0   | 0   | 0   | 0   | 0   | 0   | 0   | 0   | 1   | ... | 0   | 0   | 0   | 0   | 0   | 0   | 0   | 0   | 0   | 0   |\n",
       "| 19 | 0   | 0   | 0   | 0   | 0   | 0   | 0   | 0   | 1   | 0   | ... | 0   | 0   | 0   | 0   | 0   | 0   | 0   | 0   | 0   | 0   |\n",
       "| 20 | 0   | 0   | 0   | 0   | 0   | 0   | 0   | 0   | 0   | 0   | ... | 0   | 0   | 0   | 0   | 0   | 0   | 0   | 0   | 0   | 0   |\n",
       "| 21 | 0   | 0   | 0   | 0   | 0   | 0   | 0   | 0   | 0   | 0   | ... | 0   | 0   | 0   | 0   | 0   | 0   | 0   | 0   | 0   | 0   |\n",
       "| 22 | 0   | 0   | 0   | 0   | 0   | 0   | 0   | 0   | 0   | 0   | ... | 0   | 0   | 0   | 0   | 0   | 0   | 0   | 0   | 0   | 0   |\n",
       "| 23 | 0   | 0   | 0   | 0   | 0   | 0   | 0   | 0   | 0   | 0   | ... | 0   | 0   | 0   | 0   | 0   | 0   | 0   | 0   | 0   | 0   |\n",
       "| 24 | 0   | 0   | 0   | 0   | 0   | 0   | 0   | 0   | 0   | 0   | ... | 0   | 0   | 0   | 0   | 0   | 0   | 0   | 0   | 0   | 0   |\n",
       "| 25 | 0   | 0   | 0   | 0   | 0   | 0   | 0   | 0   | 0   | 0   | ... | 0   | 0   | 0   | 0   | 0   | 0   | 0   | 0   | 0   | 0   |\n",
       "| 26 | 0   | 0   | 0   | 0   | 0   | 0   | 0   | 0   | 0   | 0   | ... | 0   | 0   | 0   | 0   | 0   | 0   | 0   | 0   | 0   | 0   |\n",
       "| 27 | 0   | 0   | 0   | 0   | 0   | 0   | 0   | 0   | 0   | 0   | ... | 0   | 0   | 0   | 0   | 0   | 0   | 0   | 0   | 0   | 0   |\n",
       "| 28 | 0   | 0   | 0   | 0   | 0   | 0   | 0   | 0   | 0   | 0   | ... | 0   | 0   | 0   | 0   | 0   | 0   | 0   | 0   | 0   | 0   |\n",
       "| 29 | 0   | 0   | 0   | 0   | 0   | 0   | 0   | 0   | 0   | 0   | ... | 0   | 0   | 0   | 0   | 0   | 0   | 0   | 0   | 0   | 0   |\n",
       "| 32 | 0   | 0   | 0   | 0   | 0   | 0   | 0   | 0   | 0   | 0   | ... | 0   | 0   | 0   | 0   | 0   | 0   | 0   | 0   | 0   | 0   |\n",
       "| 33 | 0   | 0   | 0   | 0   | 0   | 0   | 0   | 0   | 0   | 0   | ... | 0   | 0   | 0   | 0   | 0   | 0   | 0   | 0   | 0   | 0   |\n",
       "| ... | ... | ... | ... | ... | ... | ... | ... | ... | ... | ... |     | ... | ... | ... | ... | ... | ... | ... | ... | ... | ... |\n",
       "| 882 | 1   | 0   | 0   | 0   | 0   | 0   | 0   | 0   | 0   | 0   | ... | 0   | 0   | 0   | 0   | 0   | 0   | 0   | 0   | 0   | 0   |\n",
       "| 883 | 0   | 0   | 0   | 0   | 0   | 0   | 0   | 0   | 0   | 0   | ... | 0   | 0   | 0   | 0   | 0   | 0   | 0   | 0   | 0   | 0   |\n",
       "| 884 | 0   | 0   | 0   | 0   | 0   | 0   | 0   | 0   | 0   | 0   | ... | 0   | 0   | 0   | 0   | 0   | 0   | 0   | 0   | 0   | 0   |\n",
       "| 885 | 0   | 0   | 0   | 0   | 0   | 0   | 0   | 0   | 0   | 0   | ... | 0   | 0   | 0   | 0   | 0   | 0   | 0   | 0   | 0   | 0   |\n",
       "| 886 | 0   | 0   | 0   | 0   | 0   | 0   | 0   | 0   | 0   | 0   | ... | 0   | 0   | 0   | 0   | 0   | 0   | 0   | 0   | 1   | 0   |\n",
       "| 888 | 0   | 0   | 0   | 0   | 0   | 0   | 0   | 0   | 0   | 0   | ... | 0   | 0   | 0   | 0   | 0   | 0   | 0   | 0   | 0   | 0   |\n",
       "| 889 | 0   | 0   | 0   | 0   | 0   | 0   | 0   | 0   | 0   | 0   | ... | 0   | 0   | 0   | 0   | 0   | 0   | 0   | 0   | 0   | 1   |\n",
       "| 890 | 0   | 0   | 0   | 0   | 0   | 0   | 0   | 0   | 0   | 0   | ... | 0   | 0   | 0   | 0   | 0   | 0   | 0   | 0   | 0   | 0   |\n",
       "| 891 | 0   | 0   | 0   | 0   | 0   | 0   | 0   | 0   | 0   | 0   | ... | 0   | 0   | 0   | 0   | 0   | 0   | 0   | 0   | 0   | 0   |\n",
       "| 892 | 0   | 0   | 0   | 0   | 0   | 0   | 0   | 0   | 0   | 0   | ... | 0   | 0   | 0   | 0   | 0   | 0   | 0   | 0   | 0   | 0   |\n",
       "| 893 | 0   | 0   | 0   | 0   | 0   | 0   | 0   | 0   | 0   | 0   | ... | 0   | 0   | 0   | 0   | 0   | 0   | 0   | 0   | 0   | 0   |\n",
       "| 894 | 0   | 0   | 0   | 0   | 0   | 0   | 0   | 0   | 0   | 0   | ... | 0   | 0   | 0   | 0   | 0   | 0   | 0   | 0   | 0   | 0   |\n",
       "| 895 | 0   | 0   | 0   | 0   | 0   | 0   | 0   | 0   | 0   | 0   | ... | 0   | 0   | 0   | 0   | 0   | 0   | 0   | 0   | 0   | 0   |\n",
       "| 896 | 0   | 0   | 0   | 0   | 0   | 0   | 0   | 0   | 0   | 0   | ... | 0   | 0   | 0   | 0   | 0   | 0   | 1   | 0   | 0   | 0   |\n",
       "| 897 | 0   | 0   | 0   | 0   | 0   | 0   | 0   | 0   | 0   | 0   | ... | 0   | 0   | 0   | 0   | 0   | 0   | 0   | 0   | 0   | 0   |\n",
       "| 898 | 0   | 0   | 0   | 0   | 0   | 0   | 0   | 0   | 0   | 0   | ... | 0   | 0   | 0   | 0   | 0   | 0   | 0   | 0   | 0   | 1   |\n",
       "| 899 | 0   | 0   | 0   | 0   | 0   | 0   | 0   | 0   | 0   | 0   | ... | 0   | 0   | 0   | 0   | 0   | 0   | 0   | 0   | 0   | 0   |\n",
       "| 900 | 0   | 0   | 0   | 0   | 0   | 0   | 0   | 0   | 0   | 0   | ... | 0   | 0   | 0   | 0   | 0   | 0   | 0   | 0   | 0   | 0   |\n",
       "| 901 | 0   | 0   | 0   | 0   | 0   | 0   | 0   | 0   | 0   | 0   | ... | 0   | 0   | 0   | 0   | 0   | 0   | 0   | 0   | 0   | 0   |\n",
       "| 902 | 0   | 0   | 0   | 0   | 0   | 0   | 0   | 0   | 0   | 0   | ... | 0   | 0   | 0   | 0   | 0   | 0   | 0   | 0   | 0   | 0   |\n",
       "| 903 | 0   | 0   | 0   | 0   | 0   | 0   | 0   | 0   | 0   | 0   | ... | 0   | 0   | 1   | 0   | 0   | 0   | 0   | 0   | 0   | 0   |\n",
       "| 904 | 0   | 0   | 0   | 0   | 0   | 0   | 0   | 0   | 0   | 0   | ... | 0   | 0   | 0   | 0   | 0   | 0   | 0   | 0   | 0   | 0   |\n",
       "| 905 | 0   | 0   | 0   | 0   | 0   | 0   | 0   | 0   | 0   | 0   | ... | 0   | 0   | 0   | 0   | 0   | 0   | 0   | 0   | 0   | 0   |\n",
       "| 906 | 0   | 0   | 0   | 0   | 0   | 0   | 0   | 0   | 0   | 0   | ... | 0   | 0   | 0   | 0   | 0   | 0   | 0   | 0   | 0   | 0   |\n",
       "| 907 | 0   | 0   | 0   | 0   | 0   | 0   | 0   | 0   | 0   | 0   | ... | 0   | 0   | 0   | 0   | 0   | 0   | 0   | 0   | 0   | 0   |\n",
       "| 908 | 0   | 0   | 0   | 0   | 0   | 0   | 0   | 0   | 0   | 0   | ... | 0   | 0   | 0   | 0   | 0   | 0   | 0   | 0   | 0   | 0   |\n",
       "| 909 | 0   | 0   | 0   | 0   | 0   | 0   | 0   | 0   | 0   | 0   | ... | 0   | 0   | 0   | 0   | 0   | 0   | 0   | 0   | 0   | 0   |\n",
       "| 911 | 0   | 0   | 0   | 0   | 0   | 0   | 0   | 0   | 0   | 0   | ... | 0   | 0   | 0   | 0   | 0   | 1   | 0   | 0   | 0   | 0   |\n",
       "| 912 | 0   | 0   | 0   | 0   | 0   | 0   | 0   | 0   | 0   | 0   | ... | 0   | 0   | 0   | 0   | 0   | 0   | 0   | 0   | 0   | 0   |\n",
       "| 913 | 0   | 0   | 0   | 0   | 0   | 0   | 0   | 0   | 0   | 0   | ... | 0   | 0   | 0   | 0   | 0   | 0   | 0   | 0   | 0   | 0   |\n",
       "\n"
      ],
      "text/plain": [
       "    사고 병원 건설 노조 청년 도약 계좌 은행 대통령 국정원 ... 대학 파업 저지\n",
       "1   1    0    0    0    0    0    0    0    0      0      ... 0    0    0   \n",
       "2   0    1    0    0    0    0    0    0    0      0      ... 0    0    0   \n",
       "3   0    0    1    1    0    0    0    0    0      0      ... 0    0    0   \n",
       "4   0    0    0    0    1    1    1    1    0      0      ... 0    0    0   \n",
       "5   0    0    0    0    0    0    0    0    1      1      ... 0    0    0   \n",
       "7   0    0    0    0    0    0    0    0    0      0      ... 0    0    0   \n",
       "8   0    0    0    0    0    0    0    0    0      0      ... 0    0    0   \n",
       "9   0    0    0    0    0    0    0    0    0      0      ... 0    0    0   \n",
       "10  0    0    0    0    0    0    0    0    0      0      ... 0    0    0   \n",
       "11  0    0    0    0    0    0    0    0    0      0      ... 0    0    0   \n",
       "12  0    0    0    0    0    0    0    0    0      0      ... 0    0    0   \n",
       "13  0    0    0    0    0    0    0    0    0      0      ... 0    0    0   \n",
       "14  0    0    0    0    0    0    0    0    0      0      ... 0    0    0   \n",
       "15  0    0    0    0    0    0    0    0    0      0      ... 0    0    0   \n",
       "16  0    0    0    0    0    0    0    0    0      1      ... 0    0    0   \n",
       "17  0    0    0    0    0    0    0    0    0      0      ... 0    0    0   \n",
       "18  0    0    0    0    0    0    0    0    0      1      ... 0    0    0   \n",
       "19  0    0    0    0    0    0    0    0    1      0      ... 0    0    0   \n",
       "20  0    0    0    0    0    0    0    0    0      0      ... 0    0    0   \n",
       "21  0    0    0    0    0    0    0    0    0      0      ... 0    0    0   \n",
       "22  0    0    0    0    0    0    0    0    0      0      ... 0    0    0   \n",
       "23  0    0    0    0    0    0    0    0    0      0      ... 0    0    0   \n",
       "24  0    0    0    0    0    0    0    0    0      0      ... 0    0    0   \n",
       "25  0    0    0    0    0    0    0    0    0      0      ... 0    0    0   \n",
       "26  0    0    0    0    0    0    0    0    0      0      ... 0    0    0   \n",
       "27  0    0    0    0    0    0    0    0    0      0      ... 0    0    0   \n",
       "28  0    0    0    0    0    0    0    0    0      0      ... 0    0    0   \n",
       "29  0    0    0    0    0    0    0    0    0      0      ... 0    0    0   \n",
       "32  0    0    0    0    0    0    0    0    0      0      ... 0    0    0   \n",
       "33  0    0    0    0    0    0    0    0    0      0      ... 0    0    0   \n",
       "... ...  ...  ...  ...  ...  ...  ...  ...  ...    ...        ...  ...  ... \n",
       "882 1    0    0    0    0    0    0    0    0      0      ... 0    0    0   \n",
       "883 0    0    0    0    0    0    0    0    0      0      ... 0    0    0   \n",
       "884 0    0    0    0    0    0    0    0    0      0      ... 0    0    0   \n",
       "885 0    0    0    0    0    0    0    0    0      0      ... 0    0    0   \n",
       "886 0    0    0    0    0    0    0    0    0      0      ... 0    0    0   \n",
       "888 0    0    0    0    0    0    0    0    0      0      ... 0    0    0   \n",
       "889 0    0    0    0    0    0    0    0    0      0      ... 0    0    0   \n",
       "890 0    0    0    0    0    0    0    0    0      0      ... 0    0    0   \n",
       "891 0    0    0    0    0    0    0    0    0      0      ... 0    0    0   \n",
       "892 0    0    0    0    0    0    0    0    0      0      ... 0    0    0   \n",
       "893 0    0    0    0    0    0    0    0    0      0      ... 0    0    0   \n",
       "894 0    0    0    0    0    0    0    0    0      0      ... 0    0    0   \n",
       "895 0    0    0    0    0    0    0    0    0      0      ... 0    0    0   \n",
       "896 0    0    0    0    0    0    0    0    0      0      ... 0    0    0   \n",
       "897 0    0    0    0    0    0    0    0    0      0      ... 0    0    0   \n",
       "898 0    0    0    0    0    0    0    0    0      0      ... 0    0    0   \n",
       "899 0    0    0    0    0    0    0    0    0      0      ... 0    0    0   \n",
       "900 0    0    0    0    0    0    0    0    0      0      ... 0    0    0   \n",
       "901 0    0    0    0    0    0    0    0    0      0      ... 0    0    0   \n",
       "902 0    0    0    0    0    0    0    0    0      0      ... 0    0    0   \n",
       "903 0    0    0    0    0    0    0    0    0      0      ... 0    0    1   \n",
       "904 0    0    0    0    0    0    0    0    0      0      ... 0    0    0   \n",
       "905 0    0    0    0    0    0    0    0    0      0      ... 0    0    0   \n",
       "906 0    0    0    0    0    0    0    0    0      0      ... 0    0    0   \n",
       "907 0    0    0    0    0    0    0    0    0      0      ... 0    0    0   \n",
       "908 0    0    0    0    0    0    0    0    0      0      ... 0    0    0   \n",
       "909 0    0    0    0    0    0    0    0    0      0      ... 0    0    0   \n",
       "911 0    0    0    0    0    0    0    0    0      0      ... 0    0    0   \n",
       "912 0    0    0    0    0    0    0    0    0      0      ... 0    0    0   \n",
       "913 0    0    0    0    0    0    0    0    0      0      ... 0    0    0   \n",
       "    단지 금감원 의원 소송 전자 구속영장 포착\n",
       "1   0    0      0    0    0    0        0   \n",
       "2   0    0      0    0    0    0        0   \n",
       "3   0    0      0    0    0    0        0   \n",
       "4   0    0      0    0    0    0        0   \n",
       "5   0    0      0    0    0    0        0   \n",
       "7   0    0      0    0    0    0        0   \n",
       "8   0    0      0    0    0    0        0   \n",
       "9   0    0      0    0    0    0        0   \n",
       "10  0    0      0    0    0    0        0   \n",
       "11  0    0      0    0    0    0        0   \n",
       "12  0    0      0    0    0    0        0   \n",
       "13  0    0      0    0    0    0        0   \n",
       "14  0    0      0    0    0    0        0   \n",
       "15  0    0      0    0    0    0        0   \n",
       "16  0    0      0    0    0    0        0   \n",
       "17  0    0      0    0    0    0        0   \n",
       "18  0    0      0    0    0    0        0   \n",
       "19  0    0      0    0    0    0        0   \n",
       "20  0    0      0    0    0    0        0   \n",
       "21  0    0      0    0    0    0        0   \n",
       "22  0    0      0    0    0    0        0   \n",
       "23  0    0      0    0    0    0        0   \n",
       "24  0    0      0    0    0    0        0   \n",
       "25  0    0      0    0    0    0        0   \n",
       "26  0    0      0    0    0    0        0   \n",
       "27  0    0      0    0    0    0        0   \n",
       "28  0    0      0    0    0    0        0   \n",
       "29  0    0      0    0    0    0        0   \n",
       "32  0    0      0    0    0    0        0   \n",
       "33  0    0      0    0    0    0        0   \n",
       "... ...  ...    ...  ...  ...  ...      ... \n",
       "882 0    0      0    0    0    0        0   \n",
       "883 0    0      0    0    0    0        0   \n",
       "884 0    0      0    0    0    0        0   \n",
       "885 0    0      0    0    0    0        0   \n",
       "886 0    0      0    0    0    1        0   \n",
       "888 0    0      0    0    0    0        0   \n",
       "889 0    0      0    0    0    0        1   \n",
       "890 0    0      0    0    0    0        0   \n",
       "891 0    0      0    0    0    0        0   \n",
       "892 0    0      0    0    0    0        0   \n",
       "893 0    0      0    0    0    0        0   \n",
       "894 0    0      0    0    0    0        0   \n",
       "895 0    0      0    0    0    0        0   \n",
       "896 0    0      0    1    0    0        0   \n",
       "897 0    0      0    0    0    0        0   \n",
       "898 0    0      0    0    0    0        1   \n",
       "899 0    0      0    0    0    0        0   \n",
       "900 0    0      0    0    0    0        0   \n",
       "901 0    0      0    0    0    0        0   \n",
       "902 0    0      0    0    0    0        0   \n",
       "903 0    0      0    0    0    0        0   \n",
       "904 0    0      0    0    0    0        0   \n",
       "905 0    0      0    0    0    0        0   \n",
       "906 0    0      0    0    0    0        0   \n",
       "907 0    0      0    0    0    0        0   \n",
       "908 0    0      0    0    0    0        0   \n",
       "909 0    0      0    0    0    0        0   \n",
       "911 0    0      1    0    0    0        0   \n",
       "912 0    0      0    0    0    0        0   \n",
       "913 0    0      0    0    0    0        0   "
      ]
     },
     "metadata": {},
     "output_type": "display_data"
    }
   ],
   "source": [
    "main_df = main_df[1:807,]\n",
    "main_df = main_df[,1:351]\n",
    "main_df"
   ]
  },
  {
   "cell_type": "code",
   "execution_count": 74,
   "id": "b40ecd78",
   "metadata": {
    "scrolled": true
   },
   "outputs": [
    {
     "data": {
      "text/html": [
       "807"
      ],
      "text/latex": [
       "807"
      ],
      "text/markdown": [
       "807"
      ],
      "text/plain": [
       "[1] 807"
      ]
     },
     "metadata": {},
     "output_type": "display_data"
    },
    {
     "data": {
      "text/html": [
       "351"
      ],
      "text/latex": [
       "351"
      ],
      "text/markdown": [
       "351"
      ],
      "text/plain": [
       "[1] 351"
      ]
     },
     "metadata": {},
     "output_type": "display_data"
    }
   ],
   "source": [
    "nrow(main_df)\n",
    "ncol(main_df)"
   ]
  },
  {
   "cell_type": "code",
   "execution_count": 75,
   "id": "ba1425f7",
   "metadata": {},
   "outputs": [],
   "source": [
    "saveRDS(main_df,file='C:/Users/hmins/Desktop/data.rds')"
   ]
  },
  {
   "cell_type": "code",
   "execution_count": 76,
   "id": "e2af93dc",
   "metadata": {},
   "outputs": [],
   "source": [
    "df_rds = readRDS('C:/Users/hmins/Desktop/data.rds')"
   ]
  },
  {
   "cell_type": "markdown",
   "id": "2ce70017",
   "metadata": {},
   "source": [
    "### 3-3. LDA"
   ]
  },
  {
   "cell_type": "code",
   "execution_count": 56,
   "id": "dface5fc",
   "metadata": {},
   "outputs": [],
   "source": [
    "df2 = read.csv(file='C:/Users/hmins/Desktop/project_df.csv', encoding='utf-8')"
   ]
  },
  {
   "cell_type": "code",
   "execution_count": 2,
   "id": "59eefe05",
   "metadata": {},
   "outputs": [
    {
     "data": {
      "image/png": "[encoded data removed]",
      "text/plain": [
       "Plot with title \"동아일보 카테고리 파이그래프\""
      ]
     },
     "metadata": {},
     "output_type": "display_data"
    }
   ],
   "source": [
    "abc = c(39,20,19,15,7,7,10)\n",
    "labels=c('사회 39%', '경제 20%', '정치 19%', '국제 15%', '스포츠 10%', '연예 7%', '문화 10%')\n",
    "\n",
    "\n",
    "\n",
    "#mycolor=c(colors()[1],colors()[13],colors()[53],colors()[45],colors()[23],colors()[18])\n",
    "\n",
    "title=c(\"동아일보 카테고리 파이그래프\")\n",
    "\n",
    "\n",
    "\n",
    "pie(abc,labels,main=title)"
   ]
  },
  {
   "cell_type": "code",
   "execution_count": 57,
   "id": "e769c184",
   "metadata": {},
   "outputs": [
    {
     "data": {
      "text/plain": [
       "\n",
       "   e스포츠         IT    IT/의학       경제       국제       문화     부동산 \n",
       "         1          1         31        157        116         55          1 \n",
       "  브랜더쿠 사람속으로       사회     스포츠       야구       연예   오피니언 \n",
       "         1         20        303         77          1         60         25 \n",
       "      정치  주간 동아 \n",
       "       145          4 "
      ]
     },
     "metadata": {},
     "output_type": "display_data"
    }
   ],
   "source": [
    "table(df2$topic)\n",
    "# 경제 157, 20%\n",
    "# 국제 116, 15%\n",
    "# 문화 55,  7%\n",
    "# 사회 303, 39%\n",
    "# 스포츠 77,10%\n",
    "# 연예 60,   7%\n",
    "\n",
    "# 토픽 14개 적합"
   ]
  },
  {
   "cell_type": "code",
   "execution_count": 78,
   "id": "cd43fd07",
   "metadata": {},
   "outputs": [
    {
     "data": {
      "text/plain": [
       "A LDA_VEM topic model with 14 topics."
      ]
     },
     "metadata": {},
     "output_type": "display_data"
    }
   ],
   "source": [
    "rank_lda <- LDA(df_rds, k = 14, control=list(seed=12345))\n",
    "rank_lda"
   ]
  },
  {
   "cell_type": "code",
   "execution_count": 100,
   "id": "a1e3d048",
   "metadata": {
    "scrolled": true
   },
   "outputs": [
    {
     "data": {
      "text/html": [
       "<table>\n",
       "<thead><tr><th scope=col>topic</th><th scope=col>term</th><th scope=col>beta</th></tr></thead>\n",
       "<tbody>\n",
       "\t<tr><td> 1    </td><td>사고  </td><td>0.0050</td></tr>\n",
       "\t<tr><td> 2    </td><td>사고  </td><td>0.0059</td></tr>\n",
       "\t<tr><td> 3    </td><td>사고  </td><td>0.0015</td></tr>\n",
       "\t<tr><td> 4    </td><td>사고  </td><td>0.0034</td></tr>\n",
       "\t<tr><td> 5    </td><td>사고  </td><td>0.0063</td></tr>\n",
       "\t<tr><td> 6    </td><td>사고  </td><td>0.0043</td></tr>\n",
       "\t<tr><td> 7    </td><td>사고  </td><td>0.0004</td></tr>\n",
       "\t<tr><td> 8    </td><td>사고  </td><td>0.0012</td></tr>\n",
       "\t<tr><td> 9    </td><td>사고  </td><td>0.0083</td></tr>\n",
       "\t<tr><td>10    </td><td>사고  </td><td>0.0082</td></tr>\n",
       "\t<tr><td>11    </td><td>사고  </td><td>0.0006</td></tr>\n",
       "\t<tr><td>12    </td><td>사고  </td><td>0.0014</td></tr>\n",
       "\t<tr><td>13    </td><td>사고  </td><td>0.0001</td></tr>\n",
       "\t<tr><td>14    </td><td>사고  </td><td>0.0003</td></tr>\n",
       "</tbody>\n",
       "</table>\n"
      ],
      "text/latex": [
       "\\begin{tabular}{r|lll}\n",
       " topic & term & beta\\\\\n",
       "\\hline\n",
       "\t  1     & 사고   & 0.0050\\\\\n",
       "\t  2     & 사고   & 0.0059\\\\\n",
       "\t  3     & 사고   & 0.0015\\\\\n",
       "\t  4     & 사고   & 0.0034\\\\\n",
       "\t  5     & 사고   & 0.0063\\\\\n",
       "\t  6     & 사고   & 0.0043\\\\\n",
       "\t  7     & 사고   & 0.0004\\\\\n",
       "\t  8     & 사고   & 0.0012\\\\\n",
       "\t  9     & 사고   & 0.0083\\\\\n",
       "\t 10     & 사고   & 0.0082\\\\\n",
       "\t 11     & 사고   & 0.0006\\\\\n",
       "\t 12     & 사고   & 0.0014\\\\\n",
       "\t 13     & 사고   & 0.0001\\\\\n",
       "\t 14     & 사고   & 0.0003\\\\\n",
       "\\end{tabular}\n"
      ],
      "text/markdown": [
       "\n",
       "| topic | term | beta |\n",
       "|---|---|---|\n",
       "|  1     | 사고   | 0.0050 |\n",
       "|  2     | 사고   | 0.0059 |\n",
       "|  3     | 사고   | 0.0015 |\n",
       "|  4     | 사고   | 0.0034 |\n",
       "|  5     | 사고   | 0.0063 |\n",
       "|  6     | 사고   | 0.0043 |\n",
       "|  7     | 사고   | 0.0004 |\n",
       "|  8     | 사고   | 0.0012 |\n",
       "|  9     | 사고   | 0.0083 |\n",
       "| 10     | 사고   | 0.0082 |\n",
       "| 11     | 사고   | 0.0006 |\n",
       "| 12     | 사고   | 0.0014 |\n",
       "| 13     | 사고   | 0.0001 |\n",
       "| 14     | 사고   | 0.0003 |\n",
       "\n"
      ],
      "text/plain": [
       "   topic term beta  \n",
       "1   1    사고 0.0050\n",
       "2   2    사고 0.0059\n",
       "3   3    사고 0.0015\n",
       "4   4    사고 0.0034\n",
       "5   5    사고 0.0063\n",
       "6   6    사고 0.0043\n",
       "7   7    사고 0.0004\n",
       "8   8    사고 0.0012\n",
       "9   9    사고 0.0083\n",
       "10 10    사고 0.0082\n",
       "11 11    사고 0.0006\n",
       "12 12    사고 0.0014\n",
       "13 13    사고 0.0001\n",
       "14 14    사고 0.0003"
      ]
     },
     "metadata": {},
     "output_type": "display_data"
    }
   ],
   "source": [
    "rank_topics <- tidy(rank_lda,matrix='beta')\n",
    "rank_topics$beta <- round(rank_topics$beta,4)\n",
    "rank_topics[1:14,]"
   ]
  },
  {
   "cell_type": "code",
   "execution_count": 80,
   "id": "fd8ba631",
   "metadata": {
    "scrolled": true
   },
   "outputs": [
    {
     "data": {
      "text/html": [
       "<table>\n",
       "<thead><tr><th scope=col>topic</th><th scope=col>term</th><th scope=col>beta</th></tr></thead>\n",
       "<tbody>\n",
       "\t<tr><td>1       </td><td>논란    </td><td>0.0474  </td></tr>\n",
       "\t<tr><td>1       </td><td>경기    </td><td>0.0463  </td></tr>\n",
       "\t<tr><td>1       </td><td>유족    </td><td>0.0431  </td></tr>\n",
       "\t<tr><td>1       </td><td>이태원  </td><td>0.0400  </td></tr>\n",
       "\t<tr><td>1       </td><td>경찰    </td><td>0.0378  </td></tr>\n",
       "\t<tr><td>1       </td><td>음주운전</td><td>0.0313  </td></tr>\n",
       "\t<tr><td>1       </td><td>아들    </td><td>0.0311  </td></tr>\n",
       "\t<tr><td>1       </td><td>영상    </td><td>0.0310  </td></tr>\n",
       "\t<tr><td>1       </td><td>서비스  </td><td>0.0276  </td></tr>\n",
       "\t<tr><td>1       </td><td>집행유예</td><td>0.0271  </td></tr>\n",
       "\t<tr><td>2       </td><td>한미    </td><td>0.0598  </td></tr>\n",
       "\t<tr><td>2       </td><td>회의    </td><td>0.0471  </td></tr>\n",
       "\t<tr><td>2       </td><td>위반    </td><td>0.0466  </td></tr>\n",
       "\t<tr><td>2       </td><td>문제    </td><td>0.0399  </td></tr>\n",
       "\t<tr><td>2       </td><td>안보    </td><td>0.0337  </td></tr>\n",
       "\t<tr><td>2       </td><td>설치    </td><td>0.0337  </td></tr>\n",
       "\t<tr><td>2       </td><td>미사일  </td><td>0.0336  </td></tr>\n",
       "\t<tr><td>2       </td><td>공무원  </td><td>0.0336  </td></tr>\n",
       "\t<tr><td>2       </td><td>주의    </td><td>0.0335  </td></tr>\n",
       "\t<tr><td>2       </td><td>경영    </td><td>0.0323  </td></tr>\n",
       "\t<tr><td>3       </td><td>최고    </td><td>0.1040  </td></tr>\n",
       "\t<tr><td>3       </td><td>대구    </td><td>0.0936  </td></tr>\n",
       "\t<tr><td>3       </td><td>가능성  </td><td>0.0740  </td></tr>\n",
       "\t<tr><td>3       </td><td>불법    </td><td>0.0673  </td></tr>\n",
       "\t<tr><td>3       </td><td>폭염    </td><td>0.0538  </td></tr>\n",
       "\t<tr><td>3       </td><td>현대차  </td><td>0.0469  </td></tr>\n",
       "\t<tr><td>3       </td><td>특보    </td><td>0.0337  </td></tr>\n",
       "\t<tr><td>3       </td><td>수사    </td><td>0.0336  </td></tr>\n",
       "\t<tr><td>3       </td><td>파업    </td><td>0.0336  </td></tr>\n",
       "\t<tr><td>3       </td><td>사자    </td><td>0.0318  </td></tr>\n",
       "\t<tr><td>...</td><td>...</td><td>...</td></tr>\n",
       "\t<tr><td>12    </td><td>환자  </td><td>0.0520</td></tr>\n",
       "\t<tr><td>12    </td><td>징역  </td><td>0.0443</td></tr>\n",
       "\t<tr><td>12    </td><td>시장  </td><td>0.0402</td></tr>\n",
       "\t<tr><td>12    </td><td>인천  </td><td>0.0337</td></tr>\n",
       "\t<tr><td>12    </td><td>기술  </td><td>0.0335</td></tr>\n",
       "\t<tr><td>12    </td><td>분양  </td><td>0.0335</td></tr>\n",
       "\t<tr><td>12    </td><td>추가  </td><td>0.0325</td></tr>\n",
       "\t<tr><td>12    </td><td>조사  </td><td>0.0297</td></tr>\n",
       "\t<tr><td>12    </td><td>단지  </td><td>0.0268</td></tr>\n",
       "\t<tr><td>12    </td><td>편    </td><td>0.0267</td></tr>\n",
       "\t<tr><td>13    </td><td>서울  </td><td>0.0925</td></tr>\n",
       "\t<tr><td>13    </td><td>지원  </td><td>0.0822</td></tr>\n",
       "\t<tr><td>13    </td><td>세계  </td><td>0.0598</td></tr>\n",
       "\t<tr><td>13    </td><td>아파트</td><td>0.0466</td></tr>\n",
       "\t<tr><td>13    </td><td>규모  </td><td>0.0465</td></tr>\n",
       "\t<tr><td>13    </td><td>연속  </td><td>0.0462</td></tr>\n",
       "\t<tr><td>13    </td><td>최대  </td><td>0.0396</td></tr>\n",
       "\t<tr><td>13    </td><td>배터리</td><td>0.0322</td></tr>\n",
       "\t<tr><td>13    </td><td>상승  </td><td>0.0322</td></tr>\n",
       "\t<tr><td>13    </td><td>투자  </td><td>0.0303</td></tr>\n",
       "\t<tr><td>14    </td><td>청년  </td><td>0.0799</td></tr>\n",
       "\t<tr><td>14    </td><td>출시  </td><td>0.0720</td></tr>\n",
       "\t<tr><td>14    </td><td>의혹  </td><td>0.0556</td></tr>\n",
       "\t<tr><td>14    </td><td>도약  </td><td>0.0533</td></tr>\n",
       "\t<tr><td>14    </td><td>계좌  </td><td>0.0533</td></tr>\n",
       "\t<tr><td>14    </td><td>대표  </td><td>0.0472</td></tr>\n",
       "\t<tr><td>14    </td><td>신청  </td><td>0.0466</td></tr>\n",
       "\t<tr><td>14    </td><td>건강  </td><td>0.0433</td></tr>\n",
       "\t<tr><td>14    </td><td>이재명</td><td>0.0407</td></tr>\n",
       "\t<tr><td>14    </td><td>첫날  </td><td>0.0333</td></tr>\n",
       "</tbody>\n",
       "</table>\n"
      ],
      "text/latex": [
       "\\begin{tabular}{r|lll}\n",
       " topic & term & beta\\\\\n",
       "\\hline\n",
       "\t 1        & 논란     & 0.0474  \\\\\n",
       "\t 1        & 경기     & 0.0463  \\\\\n",
       "\t 1        & 유족     & 0.0431  \\\\\n",
       "\t 1        & 이태원   & 0.0400  \\\\\n",
       "\t 1        & 경찰     & 0.0378  \\\\\n",
       "\t 1        & 음주운전 & 0.0313  \\\\\n",
       "\t 1        & 아들     & 0.0311  \\\\\n",
       "\t 1        & 영상     & 0.0310  \\\\\n",
       "\t 1        & 서비스   & 0.0276  \\\\\n",
       "\t 1        & 집행유예 & 0.0271  \\\\\n",
       "\t 2        & 한미     & 0.0598  \\\\\n",
       "\t 2        & 회의     & 0.0471  \\\\\n",
       "\t 2        & 위반     & 0.0466  \\\\\n",
       "\t 2        & 문제     & 0.0399  \\\\\n",
       "\t 2        & 안보     & 0.0337  \\\\\n",
       "\t 2        & 설치     & 0.0337  \\\\\n",
       "\t 2        & 미사일   & 0.0336  \\\\\n",
       "\t 2        & 공무원   & 0.0336  \\\\\n",
       "\t 2        & 주의     & 0.0335  \\\\\n",
       "\t 2        & 경영     & 0.0323  \\\\\n",
       "\t 3        & 최고     & 0.1040  \\\\\n",
       "\t 3        & 대구     & 0.0936  \\\\\n",
       "\t 3        & 가능성   & 0.0740  \\\\\n",
       "\t 3        & 불법     & 0.0673  \\\\\n",
       "\t 3        & 폭염     & 0.0538  \\\\\n",
       "\t 3        & 현대차   & 0.0469  \\\\\n",
       "\t 3        & 특보     & 0.0337  \\\\\n",
       "\t 3        & 수사     & 0.0336  \\\\\n",
       "\t 3        & 파업     & 0.0336  \\\\\n",
       "\t 3        & 사자     & 0.0318  \\\\\n",
       "\t ... & ... & ...\\\\\n",
       "\t 12     & 환자   & 0.0520\\\\\n",
       "\t 12     & 징역   & 0.0443\\\\\n",
       "\t 12     & 시장   & 0.0402\\\\\n",
       "\t 12     & 인천   & 0.0337\\\\\n",
       "\t 12     & 기술   & 0.0335\\\\\n",
       "\t 12     & 분양   & 0.0335\\\\\n",
       "\t 12     & 추가   & 0.0325\\\\\n",
       "\t 12     & 조사   & 0.0297\\\\\n",
       "\t 12     & 단지   & 0.0268\\\\\n",
       "\t 12     & 편     & 0.0267\\\\\n",
       "\t 13     & 서울   & 0.0925\\\\\n",
       "\t 13     & 지원   & 0.0822\\\\\n",
       "\t 13     & 세계   & 0.0598\\\\\n",
       "\t 13     & 아파트 & 0.0466\\\\\n",
       "\t 13     & 규모   & 0.0465\\\\\n",
       "\t 13     & 연속   & 0.0462\\\\\n",
       "\t 13     & 최대   & 0.0396\\\\\n",
       "\t 13     & 배터리 & 0.0322\\\\\n",
       "\t 13     & 상승   & 0.0322\\\\\n",
       "\t 13     & 투자   & 0.0303\\\\\n",
       "\t 14     & 청년   & 0.0799\\\\\n",
       "\t 14     & 출시   & 0.0720\\\\\n",
       "\t 14     & 의혹   & 0.0556\\\\\n",
       "\t 14     & 도약   & 0.0533\\\\\n",
       "\t 14     & 계좌   & 0.0533\\\\\n",
       "\t 14     & 대표   & 0.0472\\\\\n",
       "\t 14     & 신청   & 0.0466\\\\\n",
       "\t 14     & 건강   & 0.0433\\\\\n",
       "\t 14     & 이재명 & 0.0407\\\\\n",
       "\t 14     & 첫날   & 0.0333\\\\\n",
       "\\end{tabular}\n"
      ],
      "text/markdown": [
       "\n",
       "| topic | term | beta |\n",
       "|---|---|---|\n",
       "| 1        | 논란     | 0.0474   |\n",
       "| 1        | 경기     | 0.0463   |\n",
       "| 1        | 유족     | 0.0431   |\n",
       "| 1        | 이태원   | 0.0400   |\n",
       "| 1        | 경찰     | 0.0378   |\n",
       "| 1        | 음주운전 | 0.0313   |\n",
       "| 1        | 아들     | 0.0311   |\n",
       "| 1        | 영상     | 0.0310   |\n",
       "| 1        | 서비스   | 0.0276   |\n",
       "| 1        | 집행유예 | 0.0271   |\n",
       "| 2        | 한미     | 0.0598   |\n",
       "| 2        | 회의     | 0.0471   |\n",
       "| 2        | 위반     | 0.0466   |\n",
       "| 2        | 문제     | 0.0399   |\n",
       "| 2        | 안보     | 0.0337   |\n",
       "| 2        | 설치     | 0.0337   |\n",
       "| 2        | 미사일   | 0.0336   |\n",
       "| 2        | 공무원   | 0.0336   |\n",
       "| 2        | 주의     | 0.0335   |\n",
       "| 2        | 경영     | 0.0323   |\n",
       "| 3        | 최고     | 0.1040   |\n",
       "| 3        | 대구     | 0.0936   |\n",
       "| 3        | 가능성   | 0.0740   |\n",
       "| 3        | 불법     | 0.0673   |\n",
       "| 3        | 폭염     | 0.0538   |\n",
       "| 3        | 현대차   | 0.0469   |\n",
       "| 3        | 특보     | 0.0337   |\n",
       "| 3        | 수사     | 0.0336   |\n",
       "| 3        | 파업     | 0.0336   |\n",
       "| 3        | 사자     | 0.0318   |\n",
       "| ... | ... | ... |\n",
       "| 12     | 환자   | 0.0520 |\n",
       "| 12     | 징역   | 0.0443 |\n",
       "| 12     | 시장   | 0.0402 |\n",
       "| 12     | 인천   | 0.0337 |\n",
       "| 12     | 기술   | 0.0335 |\n",
       "| 12     | 분양   | 0.0335 |\n",
       "| 12     | 추가   | 0.0325 |\n",
       "| 12     | 조사   | 0.0297 |\n",
       "| 12     | 단지   | 0.0268 |\n",
       "| 12     | 편     | 0.0267 |\n",
       "| 13     | 서울   | 0.0925 |\n",
       "| 13     | 지원   | 0.0822 |\n",
       "| 13     | 세계   | 0.0598 |\n",
       "| 13     | 아파트 | 0.0466 |\n",
       "| 13     | 규모   | 0.0465 |\n",
       "| 13     | 연속   | 0.0462 |\n",
       "| 13     | 최대   | 0.0396 |\n",
       "| 13     | 배터리 | 0.0322 |\n",
       "| 13     | 상승   | 0.0322 |\n",
       "| 13     | 투자   | 0.0303 |\n",
       "| 14     | 청년   | 0.0799 |\n",
       "| 14     | 출시   | 0.0720 |\n",
       "| 14     | 의혹   | 0.0556 |\n",
       "| 14     | 도약   | 0.0533 |\n",
       "| 14     | 계좌   | 0.0533 |\n",
       "| 14     | 대표   | 0.0472 |\n",
       "| 14     | 신청   | 0.0466 |\n",
       "| 14     | 건강   | 0.0433 |\n",
       "| 14     | 이재명 | 0.0407 |\n",
       "| 14     | 첫날   | 0.0333 |\n",
       "\n"
      ],
      "text/plain": [
       "    topic term     beta  \n",
       "1   1     논란     0.0474\n",
       "2   1     경기     0.0463\n",
       "3   1     유족     0.0431\n",
       "4   1     이태원   0.0400\n",
       "5   1     경찰     0.0378\n",
       "6   1     음주운전 0.0313\n",
       "7   1     아들     0.0311\n",
       "8   1     영상     0.0310\n",
       "9   1     서비스   0.0276\n",
       "10  1     집행유예 0.0271\n",
       "11  2     한미     0.0598\n",
       "12  2     회의     0.0471\n",
       "13  2     위반     0.0466\n",
       "14  2     문제     0.0399\n",
       "15  2     안보     0.0337\n",
       "16  2     설치     0.0337\n",
       "17  2     미사일   0.0336\n",
       "18  2     공무원   0.0336\n",
       "19  2     주의     0.0335\n",
       "20  2     경영     0.0323\n",
       "21  3     최고     0.1040\n",
       "22  3     대구     0.0936\n",
       "23  3     가능성   0.0740\n",
       "24  3     불법     0.0673\n",
       "25  3     폭염     0.0538\n",
       "26  3     현대차   0.0469\n",
       "27  3     특보     0.0337\n",
       "28  3     수사     0.0336\n",
       "29  3     파업     0.0336\n",
       "30  3     사자     0.0318\n",
       "... ...   ...      ...   \n",
       "115 12    환자     0.0520\n",
       "116 12    징역     0.0443\n",
       "117 12    시장     0.0402\n",
       "118 12    인천     0.0337\n",
       "119 12    기술     0.0335\n",
       "120 12    분양     0.0335\n",
       "121 12    추가     0.0325\n",
       "122 12    조사     0.0297\n",
       "123 12    단지     0.0268\n",
       "124 12    편       0.0267\n",
       "125 13    서울     0.0925\n",
       "126 13    지원     0.0822\n",
       "127 13    세계     0.0598\n",
       "128 13    아파트   0.0466\n",
       "129 13    규모     0.0465\n",
       "130 13    연속     0.0462\n",
       "131 13    최대     0.0396\n",
       "132 13    배터리   0.0322\n",
       "133 13    상승     0.0322\n",
       "134 13    투자     0.0303\n",
       "135 14    청년     0.0799\n",
       "136 14    출시     0.0720\n",
       "137 14    의혹     0.0556\n",
       "138 14    도약     0.0533\n",
       "139 14    계좌     0.0533\n",
       "140 14    대표     0.0472\n",
       "141 14    신청     0.0466\n",
       "142 14    건강     0.0433\n",
       "143 14    이재명   0.0407\n",
       "144 14    첫날     0.0333"
      ]
     },
     "metadata": {},
     "output_type": "display_data"
    }
   ],
   "source": [
    "rank_terms<- rank_topics %>%\n",
    "  group_by(topic) %>%\n",
    "  top_n(10, beta) %>%\n",
    "  arrange(topic, -beta)\n",
    "\n",
    "rank_terms"
   ]
  },
  {
   "cell_type": "code",
   "execution_count": 81,
   "id": "ad248d74",
   "metadata": {
    "scrolled": true
   },
   "outputs": [
    {
     "data": {
      "text/plain": [
       "$title\n",
       "[1] \"토픽 별 단어 랭킹\"\n",
       "\n",
       "attr(,\"class\")\n",
       "[1] \"labels\""
      ]
     },
     "metadata": {},
     "output_type": "display_data"
    },
    {
     "data": {
      "image/png": "[encoded data removed]",
      "text/plain": [
       "plot without title"
      ]
     },
     "metadata": {},
     "output_type": "display_data"
    }
   ],
   "source": [
    "# mutate : 파생 col,row 만드는 함수\n",
    "# reorder(x축변수, 기준변수) : 크기순으로 정렬\n",
    "# factor : 범주형\n",
    "# geom_col : 연속적 숫자 타입 y축 변수 지정 필수\n",
    "# facet_wrap(~기준,,,) : 색깔 별로 나눠줌 \n",
    "# facet_wrap( scales = ) : x축 y축 범위를 통일할지(fixed), 별개로 (free)\n",
    "# coord_filp() : 그래프 90도 돌리기, xy 바꾸기\n",
    "rank_terms %>%\n",
    "  mutate(term = reorder(term, beta)) %>%\n",
    "  ggplot(aes(term, beta, fill = factor(topic))) +\n",
    "  geom_col(show.legend = FALSE) +\n",
    "  facet_wrap(~ topic, scales = \"free\") +\n",
    "  coord_flip() + theme_bw() +\n",
    "  theme(axis.text.y = element_text(size=5,face='bold'))\n",
    "  ggtitle('토픽 별 단어 랭킹')"
   ]
  },
  {
   "cell_type": "code",
   "execution_count": 82,
   "id": "966eea46",
   "metadata": {},
   "outputs": [
    {
     "data": {
      "text/plain": [
       "main_topic\n",
       " 1  2  3  4  5  6  7  8  9 10 11 12 13 14 \n",
       "67 55 51 54 68 63 55 51 64 49 59 57 56 58 "
      ]
     },
     "metadata": {},
     "output_type": "display_data"
    }
   ],
   "source": [
    "main_topic <- apply(posterior(rank_lda)$topics, 1, which.max)\n",
    "table(main_topic)"
   ]
  },
  {
   "cell_type": "code",
   "execution_count": 85,
   "id": "034fe6c6",
   "metadata": {
    "scrolled": true
   },
   "outputs": [
    {
     "data": {
      "text/html": [
       "<table>\n",
       "<thead><tr><th scope=col>Topic 1</th><th scope=col>Topic 2</th><th scope=col>Topic 3</th><th scope=col>Topic 4</th><th scope=col>Topic 5</th><th scope=col>Topic 6</th><th scope=col>Topic 7</th><th scope=col>Topic 8</th><th scope=col>Topic 9</th><th scope=col>Topic 10</th><th scope=col>Topic 11</th><th scope=col>Topic 12</th><th scope=col>Topic 13</th><th scope=col>Topic 14</th></tr></thead>\n",
       "<tbody>\n",
       "\t<tr><td>논란    </td><td>한미    </td><td>최고    </td><td>역대    </td><td>공개    </td><td>대통령실</td><td>노조    </td><td>민주당  </td><td>법원    </td><td>정부    </td><td>개월    </td><td>환자    </td><td>서울    </td><td>청년    </td></tr>\n",
       "\t<tr><td>경기    </td><td>회의    </td><td>대구    </td><td>연장    </td><td>신문    </td><td>엄마    </td><td>내년    </td><td>민주    </td><td>기업    </td><td>오염수  </td><td>수능    </td><td>징역    </td><td>지원    </td><td>출시    </td></tr>\n",
       "\t<tr><td>유족    </td><td>위반    </td><td>가능성  </td><td>한국    </td><td>입      </td><td>국정원  </td><td>이상    </td><td>혁신    </td><td>체포    </td><td>올해    </td><td>검거    </td><td>시장    </td><td>세계    </td><td>의혹    </td></tr>\n",
       "\t<tr><td>이태원  </td><td>문제    </td><td>불법    </td><td>현장    </td><td>이재명  </td><td>강남    </td><td>회계    </td><td>교수    </td><td>의원    </td><td>방류    </td><td>마약    </td><td>인천    </td><td>아파트  </td><td>도약    </td></tr>\n",
       "\t<tr><td>경찰    </td><td>안보    </td><td>폭염    </td><td>운전    </td><td>증가    </td><td>폭행    </td><td>검토    </td><td>조국    </td><td>기각    </td><td>반대    </td><td>대통령  </td><td>기술    </td><td>규모    </td><td>계좌    </td></tr>\n",
       "</tbody>\n",
       "</table>\n"
      ],
      "text/latex": [
       "\\begin{tabular}{llllllllllllll}\n",
       " Topic 1 & Topic 2 & Topic 3 & Topic 4 & Topic 5 & Topic 6 & Topic 7 & Topic 8 & Topic 9 & Topic 10 & Topic 11 & Topic 12 & Topic 13 & Topic 14\\\\\n",
       "\\hline\n",
       "\t 논란     & 한미     & 최고     & 역대     & 공개     & 대통령실 & 노조     & 민주당   & 법원     & 정부     & 개월     & 환자     & 서울     & 청년    \\\\\n",
       "\t 경기     & 회의     & 대구     & 연장     & 신문     & 엄마     & 내년     & 민주     & 기업     & 오염수   & 수능     & 징역     & 지원     & 출시    \\\\\n",
       "\t 유족     & 위반     & 가능성   & 한국     & 입       & 국정원   & 이상     & 혁신     & 체포     & 올해     & 검거     & 시장     & 세계     & 의혹    \\\\\n",
       "\t 이태원   & 문제     & 불법     & 현장     & 이재명   & 강남     & 회계     & 교수     & 의원     & 방류     & 마약     & 인천     & 아파트   & 도약    \\\\\n",
       "\t 경찰     & 안보     & 폭염     & 운전     & 증가     & 폭행     & 검토     & 조국     & 기각     & 반대     & 대통령   & 기술     & 규모     & 계좌    \\\\\n",
       "\\end{tabular}\n"
      ],
      "text/markdown": [
       "\n",
       "| Topic 1 | Topic 2 | Topic 3 | Topic 4 | Topic 5 | Topic 6 | Topic 7 | Topic 8 | Topic 9 | Topic 10 | Topic 11 | Topic 12 | Topic 13 | Topic 14 |\n",
       "|---|---|---|---|---|---|---|---|---|---|---|---|---|---|\n",
       "| 논란     | 한미     | 최고     | 역대     | 공개     | 대통령실 | 노조     | 민주당   | 법원     | 정부     | 개월     | 환자     | 서울     | 청년     |\n",
       "| 경기     | 회의     | 대구     | 연장     | 신문     | 엄마     | 내년     | 민주     | 기업     | 오염수   | 수능     | 징역     | 지원     | 출시     |\n",
       "| 유족     | 위반     | 가능성   | 한국     | 입       | 국정원   | 이상     | 혁신     | 체포     | 올해     | 검거     | 시장     | 세계     | 의혹     |\n",
       "| 이태원   | 문제     | 불법     | 현장     | 이재명   | 강남     | 회계     | 교수     | 의원     | 방류     | 마약     | 인천     | 아파트   | 도약     |\n",
       "| 경찰     | 안보     | 폭염     | 운전     | 증가     | 폭행     | 검토     | 조국     | 기각     | 반대     | 대통령   | 기술     | 규모     | 계좌     |\n",
       "\n"
      ],
      "text/plain": [
       "     Topic 1 Topic 2 Topic 3 Topic 4 Topic 5 Topic 6  Topic 7 Topic 8 Topic 9\n",
       "[1,] 논란    한미    최고    역대    공개    대통령실 노조    민주당  법원   \n",
       "[2,] 경기    회의    대구    연장    신문    엄마     내년    민주    기업   \n",
       "[3,] 유족    위반    가능성  한국    입      국정원   이상    혁신    체포   \n",
       "[4,] 이태원  문제    불법    현장    이재명  강남     회계    교수    의원   \n",
       "[5,] 경찰    안보    폭염    운전    증가    폭행     검토    조국    기각   \n",
       "     Topic 10 Topic 11 Topic 12 Topic 13 Topic 14\n",
       "[1,] 정부     개월     환자     서울     청년    \n",
       "[2,] 오염수   수능     징역     지원     출시    \n",
       "[3,] 올해     검거     시장     세계     의혹    \n",
       "[4,] 방류     마약     인천     아파트   도약    \n",
       "[5,] 반대     대통령   기술     규모     계좌    "
      ]
     },
     "metadata": {},
     "output_type": "display_data"
    }
   ],
   "source": [
    "terms(rank_lda, 5) "
   ]
  },
  {
   "cell_type": "code",
   "execution_count": 86,
   "id": "dae9be07",
   "metadata": {
    "scrolled": true
   },
   "outputs": [],
   "source": [
    "m <- as.matrix(df_rds)[, 1:35]\n",
    "m = t(m)"
   ]
  },
  {
   "cell_type": "code",
   "execution_count": 88,
   "id": "c5245e8b",
   "metadata": {
    "scrolled": true
   },
   "outputs": [
    {
     "data": {
      "text/html": [
       "<table>\n",
       "<thead><tr><th></th><th scope=col>1</th><th scope=col>2</th><th scope=col>3</th><th scope=col>4</th><th scope=col>5</th><th scope=col>7</th><th scope=col>8</th><th scope=col>9</th><th scope=col>10</th><th scope=col>11</th><th scope=col>...</th><th scope=col>22</th><th scope=col>23</th><th scope=col>24</th><th scope=col>25</th><th scope=col>26</th><th scope=col>27</th><th scope=col>28</th><th scope=col>29</th><th scope=col>32</th><th scope=col>33</th></tr></thead>\n",
       "<tbody>\n",
       "\t<tr><th scope=row>사고</th><td>7.85</td><td>0.00</td><td>0.00</td><td>0.00</td><td>0.00</td><td>0.00</td><td>0.00</td><td>0.00</td><td>0.00</td><td>0.00</td><td>... </td><td>0   </td><td>0   </td><td>0   </td><td>0.00</td><td>0.00</td><td>0.00</td><td>0   </td><td>0.00</td><td>0.00</td><td>0   </td></tr>\n",
       "\t<tr><th scope=row>병원</th><td>0.00</td><td>8.07</td><td>0.00</td><td>0.00</td><td>0.00</td><td>0.00</td><td>0.00</td><td>0.00</td><td>0.00</td><td>0.00</td><td>... </td><td>0   </td><td>0   </td><td>0   </td><td>0.00</td><td>0.00</td><td>0.00</td><td>0   </td><td>0.00</td><td>0.00</td><td>0   </td></tr>\n",
       "\t<tr><th scope=row>건설</th><td>0.00</td><td>0.00</td><td>7.49</td><td>0.00</td><td>0.00</td><td>0.00</td><td>0.00</td><td>0.00</td><td>0.00</td><td>0.00</td><td>... </td><td>0   </td><td>0   </td><td>0   </td><td>0.00</td><td>0.00</td><td>0.00</td><td>0   </td><td>0.00</td><td>0.00</td><td>0   </td></tr>\n",
       "\t<tr><th scope=row>노조</th><td>0.00</td><td>0.00</td><td>7.33</td><td>0.00</td><td>0.00</td><td>0.00</td><td>0.00</td><td>0.00</td><td>0.00</td><td>0.00</td><td>... </td><td>0   </td><td>0   </td><td>0   </td><td>0.00</td><td>0.00</td><td>0.00</td><td>0   </td><td>0.00</td><td>0.00</td><td>0   </td></tr>\n",
       "\t<tr><th scope=row>청년</th><td>0.00</td><td>0.00</td><td>0.00</td><td>7.07</td><td>0.00</td><td>0.00</td><td>0.00</td><td>0.00</td><td>0.00</td><td>0.00</td><td>... </td><td>0   </td><td>0   </td><td>0   </td><td>0.00</td><td>0.00</td><td>0.00</td><td>0   </td><td>0.00</td><td>0.00</td><td>0   </td></tr>\n",
       "\t<tr><th scope=row>도약</th><td>0.00</td><td>0.00</td><td>0.00</td><td>7.66</td><td>0.00</td><td>0.00</td><td>0.00</td><td>0.00</td><td>0.00</td><td>0.00</td><td>... </td><td>0   </td><td>0   </td><td>0   </td><td>0.00</td><td>0.00</td><td>0.00</td><td>0   </td><td>0.00</td><td>0.00</td><td>0   </td></tr>\n",
       "\t<tr><th scope=row>계좌</th><td>0.00</td><td>0.00</td><td>0.00</td><td>7.66</td><td>0.00</td><td>0.00</td><td>0.00</td><td>0.00</td><td>0.00</td><td>0.00</td><td>... </td><td>0   </td><td>0   </td><td>0   </td><td>0.00</td><td>0.00</td><td>0.00</td><td>0   </td><td>0.00</td><td>0.00</td><td>0   </td></tr>\n",
       "\t<tr><th scope=row>은행</th><td>0.00</td><td>0.00</td><td>0.00</td><td>8.33</td><td>0.00</td><td>0.00</td><td>0.00</td><td>0.00</td><td>0.00</td><td>0.00</td><td>... </td><td>0   </td><td>0   </td><td>0   </td><td>0.00</td><td>0.00</td><td>0.00</td><td>0   </td><td>0.00</td><td>0.00</td><td>0   </td></tr>\n",
       "\t<tr><th scope=row>대통령</th><td>0.00</td><td>0.00</td><td>0.00</td><td>0.00</td><td>7.49</td><td>0.00</td><td>0.00</td><td>0.00</td><td>0.00</td><td>0.00</td><td>... </td><td>0   </td><td>0   </td><td>0   </td><td>0.00</td><td>0.00</td><td>0.00</td><td>0   </td><td>0.00</td><td>0.00</td><td>0   </td></tr>\n",
       "\t<tr><th scope=row>국정원</th><td>0.00</td><td>0.00</td><td>0.00</td><td>0.00</td><td>7.85</td><td>0.00</td><td>0.00</td><td>0.00</td><td>0.00</td><td>0.00</td><td>... </td><td>0   </td><td>0   </td><td>0   </td><td>0.00</td><td>0.00</td><td>0.00</td><td>0   </td><td>0.00</td><td>0.00</td><td>0   </td></tr>\n",
       "\t<tr><th scope=row>체포</th><td>0.00</td><td>0.00</td><td>0.00</td><td>0.00</td><td>8.07</td><td>0.00</td><td>0.00</td><td>0.00</td><td>0.00</td><td>0.00</td><td>... </td><td>0   </td><td>0   </td><td>0   </td><td>0.00</td><td>0.00</td><td>0.00</td><td>0   </td><td>0.00</td><td>0.00</td><td>0   </td></tr>\n",
       "\t<tr><th scope=row>공개</th><td>0.00</td><td>0.00</td><td>0.00</td><td>0.00</td><td>0.00</td><td>6.07</td><td>0.00</td><td>0.00</td><td>0.00</td><td>0.00</td><td>... </td><td>0   </td><td>0   </td><td>0   </td><td>0.00</td><td>0.00</td><td>0.00</td><td>0   </td><td>0.00</td><td>0.00</td><td>0   </td></tr>\n",
       "\t<tr><th scope=row>협력</th><td>0.00</td><td>0.00</td><td>0.00</td><td>0.00</td><td>0.00</td><td>0.00</td><td>8.33</td><td>0.00</td><td>0.00</td><td>0.00</td><td>... </td><td>0   </td><td>0   </td><td>0   </td><td>0.00</td><td>0.00</td><td>0.00</td><td>0   </td><td>0.00</td><td>0.00</td><td>0   </td></tr>\n",
       "\t<tr><th scope=row>확인</th><td>0.00</td><td>0.00</td><td>0.00</td><td>0.00</td><td>0.00</td><td>0.00</td><td>8.66</td><td>0.00</td><td>0.00</td><td>0.00</td><td>... </td><td>0   </td><td>0   </td><td>0   </td><td>0.00</td><td>0.00</td><td>0.00</td><td>0   </td><td>0.00</td><td>0.00</td><td>0   </td></tr>\n",
       "\t<tr><th scope=row>대구</th><td>0.00</td><td>0.00</td><td>0.00</td><td>0.00</td><td>0.00</td><td>0.00</td><td>0.00</td><td>6.85</td><td>0.00</td><td>0.00</td><td>... </td><td>0   </td><td>0   </td><td>0   </td><td>6.85</td><td>0.00</td><td>0.00</td><td>0   </td><td>0.00</td><td>0.00</td><td>0   </td></tr>\n",
       "\t<tr><th scope=row>전국</th><td>0.00</td><td>0.00</td><td>0.00</td><td>0.00</td><td>0.00</td><td>0.00</td><td>0.00</td><td>8.33</td><td>0.00</td><td>0.00</td><td>... </td><td>0   </td><td>0   </td><td>0   </td><td>0.00</td><td>8.33</td><td>0.00</td><td>0   </td><td>0.00</td><td>0.00</td><td>0   </td></tr>\n",
       "\t<tr><th scope=row>최고</th><td>0.00</td><td>0.00</td><td>0.00</td><td>0.00</td><td>0.00</td><td>0.00</td><td>0.00</td><td>6.66</td><td>0.00</td><td>0.00</td><td>... </td><td>0   </td><td>0   </td><td>0   </td><td>0.00</td><td>0.00</td><td>0.00</td><td>0   </td><td>0.00</td><td>0.00</td><td>0   </td></tr>\n",
       "\t<tr><th scope=row>이재명</th><td>0.00</td><td>0.00</td><td>0.00</td><td>0.00</td><td>0.00</td><td>0.00</td><td>0.00</td><td>0.00</td><td>6.85</td><td>0.00</td><td>... </td><td>0   </td><td>0   </td><td>0   </td><td>0.00</td><td>0.00</td><td>0.00</td><td>0   </td><td>0.00</td><td>0.00</td><td>0   </td></tr>\n",
       "\t<tr><th scope=row>조국</th><td>0.00</td><td>0.00</td><td>0.00</td><td>0.00</td><td>0.00</td><td>0.00</td><td>0.00</td><td>0.00</td><td>7.49</td><td>0.00</td><td>... </td><td>0   </td><td>0   </td><td>0   </td><td>0.00</td><td>0.00</td><td>0.00</td><td>0   </td><td>0.00</td><td>7.49</td><td>0   </td></tr>\n",
       "\t<tr><th scope=row>이강인</th><td>0.00</td><td>0.00</td><td>0.00</td><td>0.00</td><td>0.00</td><td>0.00</td><td>0.00</td><td>0.00</td><td>0.00</td><td>8.33</td><td>... </td><td>0   </td><td>0   </td><td>0   </td><td>0.00</td><td>0.00</td><td>0.00</td><td>0   </td><td>0.00</td><td>0.00</td><td>0   </td></tr>\n",
       "\t<tr><th scope=row>감독</th><td>0.00</td><td>0.00</td><td>0.00</td><td>0.00</td><td>0.00</td><td>0.00</td><td>0.00</td><td>0.00</td><td>0.00</td><td>7.66</td><td>... </td><td>0   </td><td>0   </td><td>0   </td><td>0.00</td><td>0.00</td><td>0.00</td><td>0   </td><td>0.00</td><td>0.00</td><td>0   </td></tr>\n",
       "\t<tr><th scope=row>협상</th><td>0.00</td><td>0.00</td><td>0.00</td><td>0.00</td><td>0.00</td><td>0.00</td><td>0.00</td><td>0.00</td><td>0.00</td><td>8.66</td><td>... </td><td>0   </td><td>0   </td><td>0   </td><td>0.00</td><td>0.00</td><td>0.00</td><td>0   </td><td>0.00</td><td>0.00</td><td>0   </td></tr>\n",
       "\t<tr><th scope=row>감사</th><td>0.00</td><td>0.00</td><td>0.00</td><td>0.00</td><td>0.00</td><td>0.00</td><td>0.00</td><td>0.00</td><td>0.00</td><td>0.00</td><td>... </td><td>0   </td><td>0   </td><td>0   </td><td>0.00</td><td>0.00</td><td>0.00</td><td>0   </td><td>0.00</td><td>0.00</td><td>0   </td></tr>\n",
       "\t<tr><th scope=row>바이든</th><td>0.00</td><td>0.00</td><td>0.00</td><td>0.00</td><td>0.00</td><td>0.00</td><td>0.00</td><td>0.00</td><td>0.00</td><td>0.00</td><td>... </td><td>0   </td><td>0   </td><td>0   </td><td>0.00</td><td>0.00</td><td>8.07</td><td>0   </td><td>0.00</td><td>0.00</td><td>0   </td></tr>\n",
       "\t<tr><th scope=row>반격</th><td>0.00</td><td>0.00</td><td>0.00</td><td>0.00</td><td>0.00</td><td>0.00</td><td>0.00</td><td>0.00</td><td>0.00</td><td>0.00</td><td>... </td><td>0   </td><td>0   </td><td>0   </td><td>0.00</td><td>0.00</td><td>0.00</td><td>0   </td><td>0.00</td><td>0.00</td><td>0   </td></tr>\n",
       "\t<tr><th scope=row>참석</th><td>0.00</td><td>0.00</td><td>0.00</td><td>0.00</td><td>0.00</td><td>0.00</td><td>0.00</td><td>0.00</td><td>0.00</td><td>0.00</td><td>... </td><td>0   </td><td>0   </td><td>0   </td><td>0.00</td><td>0.00</td><td>0.00</td><td>0   </td><td>0.00</td><td>0.00</td><td>0   </td></tr>\n",
       "\t<tr><th scope=row>홍준표</th><td>0.00</td><td>0.00</td><td>0.00</td><td>0.00</td><td>0.00</td><td>0.00</td><td>0.00</td><td>0.00</td><td>0.00</td><td>0.00</td><td>... </td><td>0   </td><td>0   </td><td>0   </td><td>0.00</td><td>0.00</td><td>0.00</td><td>0   </td><td>0.00</td><td>0.00</td><td>0   </td></tr>\n",
       "\t<tr><th scope=row>불법</th><td>0.00</td><td>0.00</td><td>0.00</td><td>0.00</td><td>0.00</td><td>0.00</td><td>0.00</td><td>0.00</td><td>0.00</td><td>0.00</td><td>... </td><td>0   </td><td>0   </td><td>0   </td><td>0.00</td><td>0.00</td><td>0.00</td><td>0   </td><td>0.00</td><td>0.00</td><td>0   </td></tr>\n",
       "\t<tr><th scope=row>경찰</th><td>0.00</td><td>0.00</td><td>0.00</td><td>0.00</td><td>0.00</td><td>0.00</td><td>0.00</td><td>0.00</td><td>0.00</td><td>0.00</td><td>... </td><td>0   </td><td>0   </td><td>0   </td><td>6.75</td><td>0.00</td><td>0.00</td><td>0   </td><td>0.00</td><td>0.00</td><td>0   </td></tr>\n",
       "\t<tr><th scope=row>민주</th><td>0.00</td><td>0.00</td><td>0.00</td><td>0.00</td><td>0.00</td><td>0.00</td><td>0.00</td><td>0.00</td><td>0.00</td><td>0.00</td><td>... </td><td>0   </td><td>0   </td><td>0   </td><td>0.00</td><td>0.00</td><td>0.00</td><td>0   </td><td>0.00</td><td>7.20</td><td>0   </td></tr>\n",
       "\t<tr><th scope=row>인사</th><td>0.00</td><td>0.00</td><td>0.00</td><td>0.00</td><td>0.00</td><td>0.00</td><td>0.00</td><td>0.00</td><td>0.00</td><td>0.00</td><td>... </td><td>0   </td><td>0   </td><td>0   </td><td>0.00</td><td>0.00</td><td>0.00</td><td>0   </td><td>0.00</td><td>0.00</td><td>0   </td></tr>\n",
       "\t<tr><th scope=row>수능</th><td>0.00</td><td>0.00</td><td>0.00</td><td>0.00</td><td>0.00</td><td>0.00</td><td>0.00</td><td>0.00</td><td>0.00</td><td>0.00</td><td>... </td><td>0   </td><td>0   </td><td>0   </td><td>0.00</td><td>0.00</td><td>0.00</td><td>0   </td><td>7.20</td><td>0.00</td><td>0   </td></tr>\n",
       "\t<tr><th scope=row>혼란</th><td>0.00</td><td>0.00</td><td>0.00</td><td>0.00</td><td>0.00</td><td>0.00</td><td>0.00</td><td>0.00</td><td>0.00</td><td>0.00</td><td>... </td><td>0   </td><td>0   </td><td>0   </td><td>0.00</td><td>0.00</td><td>0.00</td><td>0   </td><td>8.66</td><td>0.00</td><td>0   </td></tr>\n",
       "\t<tr><th scope=row>계속</th><td>0.00</td><td>0.00</td><td>0.00</td><td>0.00</td><td>0.00</td><td>0.00</td><td>0.00</td><td>0.00</td><td>0.00</td><td>0.00</td><td>... </td><td>0   </td><td>0   </td><td>0   </td><td>0.00</td><td>0.00</td><td>0.00</td><td>0   </td><td>0.00</td><td>0.00</td><td>0   </td></tr>\n",
       "\t<tr><th scope=row>출신</th><td>0.00</td><td>0.00</td><td>0.00</td><td>0.00</td><td>0.00</td><td>0.00</td><td>0.00</td><td>0.00</td><td>0.00</td><td>0.00</td><td>... </td><td>0   </td><td>0   </td><td>0   </td><td>0.00</td><td>0.00</td><td>0.00</td><td>0   </td><td>0.00</td><td>0.00</td><td>0   </td></tr>\n",
       "</tbody>\n",
       "</table>\n"
      ],
      "text/latex": [
       "\\begin{tabular}{r|llllllllllllllllllllllllllllll}\n",
       "  & 1 & 2 & 3 & 4 & 5 & 7 & 8 & 9 & 10 & 11 & ... & 22 & 23 & 24 & 25 & 26 & 27 & 28 & 29 & 32 & 33\\\\\n",
       "\\hline\n",
       "\t사고 & 7.85 & 0.00 & 0.00 & 0.00 & 0.00 & 0.00 & 0.00 & 0.00 & 0.00 & 0.00 & ...  & 0    & 0    & 0    & 0.00 & 0.00 & 0.00 & 0    & 0.00 & 0.00 & 0   \\\\\n",
       "\t병원 & 0.00 & 8.07 & 0.00 & 0.00 & 0.00 & 0.00 & 0.00 & 0.00 & 0.00 & 0.00 & ...  & 0    & 0    & 0    & 0.00 & 0.00 & 0.00 & 0    & 0.00 & 0.00 & 0   \\\\\n",
       "\t건설 & 0.00 & 0.00 & 7.49 & 0.00 & 0.00 & 0.00 & 0.00 & 0.00 & 0.00 & 0.00 & ...  & 0    & 0    & 0    & 0.00 & 0.00 & 0.00 & 0    & 0.00 & 0.00 & 0   \\\\\n",
       "\t노조 & 0.00 & 0.00 & 7.33 & 0.00 & 0.00 & 0.00 & 0.00 & 0.00 & 0.00 & 0.00 & ...  & 0    & 0    & 0    & 0.00 & 0.00 & 0.00 & 0    & 0.00 & 0.00 & 0   \\\\\n",
       "\t청년 & 0.00 & 0.00 & 0.00 & 7.07 & 0.00 & 0.00 & 0.00 & 0.00 & 0.00 & 0.00 & ...  & 0    & 0    & 0    & 0.00 & 0.00 & 0.00 & 0    & 0.00 & 0.00 & 0   \\\\\n",
       "\t도약 & 0.00 & 0.00 & 0.00 & 7.66 & 0.00 & 0.00 & 0.00 & 0.00 & 0.00 & 0.00 & ...  & 0    & 0    & 0    & 0.00 & 0.00 & 0.00 & 0    & 0.00 & 0.00 & 0   \\\\\n",
       "\t계좌 & 0.00 & 0.00 & 0.00 & 7.66 & 0.00 & 0.00 & 0.00 & 0.00 & 0.00 & 0.00 & ...  & 0    & 0    & 0    & 0.00 & 0.00 & 0.00 & 0    & 0.00 & 0.00 & 0   \\\\\n",
       "\t은행 & 0.00 & 0.00 & 0.00 & 8.33 & 0.00 & 0.00 & 0.00 & 0.00 & 0.00 & 0.00 & ...  & 0    & 0    & 0    & 0.00 & 0.00 & 0.00 & 0    & 0.00 & 0.00 & 0   \\\\\n",
       "\t대통령 & 0.00 & 0.00 & 0.00 & 0.00 & 7.49 & 0.00 & 0.00 & 0.00 & 0.00 & 0.00 & ...  & 0    & 0    & 0    & 0.00 & 0.00 & 0.00 & 0    & 0.00 & 0.00 & 0   \\\\\n",
       "\t국정원 & 0.00 & 0.00 & 0.00 & 0.00 & 7.85 & 0.00 & 0.00 & 0.00 & 0.00 & 0.00 & ...  & 0    & 0    & 0    & 0.00 & 0.00 & 0.00 & 0    & 0.00 & 0.00 & 0   \\\\\n",
       "\t체포 & 0.00 & 0.00 & 0.00 & 0.00 & 8.07 & 0.00 & 0.00 & 0.00 & 0.00 & 0.00 & ...  & 0    & 0    & 0    & 0.00 & 0.00 & 0.00 & 0    & 0.00 & 0.00 & 0   \\\\\n",
       "\t공개 & 0.00 & 0.00 & 0.00 & 0.00 & 0.00 & 6.07 & 0.00 & 0.00 & 0.00 & 0.00 & ...  & 0    & 0    & 0    & 0.00 & 0.00 & 0.00 & 0    & 0.00 & 0.00 & 0   \\\\\n",
       "\t협력 & 0.00 & 0.00 & 0.00 & 0.00 & 0.00 & 0.00 & 8.33 & 0.00 & 0.00 & 0.00 & ...  & 0    & 0    & 0    & 0.00 & 0.00 & 0.00 & 0    & 0.00 & 0.00 & 0   \\\\\n",
       "\t확인 & 0.00 & 0.00 & 0.00 & 0.00 & 0.00 & 0.00 & 8.66 & 0.00 & 0.00 & 0.00 & ...  & 0    & 0    & 0    & 0.00 & 0.00 & 0.00 & 0    & 0.00 & 0.00 & 0   \\\\\n",
       "\t대구 & 0.00 & 0.00 & 0.00 & 0.00 & 0.00 & 0.00 & 0.00 & 6.85 & 0.00 & 0.00 & ...  & 0    & 0    & 0    & 6.85 & 0.00 & 0.00 & 0    & 0.00 & 0.00 & 0   \\\\\n",
       "\t전국 & 0.00 & 0.00 & 0.00 & 0.00 & 0.00 & 0.00 & 0.00 & 8.33 & 0.00 & 0.00 & ...  & 0    & 0    & 0    & 0.00 & 8.33 & 0.00 & 0    & 0.00 & 0.00 & 0   \\\\\n",
       "\t최고 & 0.00 & 0.00 & 0.00 & 0.00 & 0.00 & 0.00 & 0.00 & 6.66 & 0.00 & 0.00 & ...  & 0    & 0    & 0    & 0.00 & 0.00 & 0.00 & 0    & 0.00 & 0.00 & 0   \\\\\n",
       "\t이재명 & 0.00 & 0.00 & 0.00 & 0.00 & 0.00 & 0.00 & 0.00 & 0.00 & 6.85 & 0.00 & ...  & 0    & 0    & 0    & 0.00 & 0.00 & 0.00 & 0    & 0.00 & 0.00 & 0   \\\\\n",
       "\t조국 & 0.00 & 0.00 & 0.00 & 0.00 & 0.00 & 0.00 & 0.00 & 0.00 & 7.49 & 0.00 & ...  & 0    & 0    & 0    & 0.00 & 0.00 & 0.00 & 0    & 0.00 & 7.49 & 0   \\\\\n",
       "\t이강인 & 0.00 & 0.00 & 0.00 & 0.00 & 0.00 & 0.00 & 0.00 & 0.00 & 0.00 & 8.33 & ...  & 0    & 0    & 0    & 0.00 & 0.00 & 0.00 & 0    & 0.00 & 0.00 & 0   \\\\\n",
       "\t감독 & 0.00 & 0.00 & 0.00 & 0.00 & 0.00 & 0.00 & 0.00 & 0.00 & 0.00 & 7.66 & ...  & 0    & 0    & 0    & 0.00 & 0.00 & 0.00 & 0    & 0.00 & 0.00 & 0   \\\\\n",
       "\t협상 & 0.00 & 0.00 & 0.00 & 0.00 & 0.00 & 0.00 & 0.00 & 0.00 & 0.00 & 8.66 & ...  & 0    & 0    & 0    & 0.00 & 0.00 & 0.00 & 0    & 0.00 & 0.00 & 0   \\\\\n",
       "\t감사 & 0.00 & 0.00 & 0.00 & 0.00 & 0.00 & 0.00 & 0.00 & 0.00 & 0.00 & 0.00 & ...  & 0    & 0    & 0    & 0.00 & 0.00 & 0.00 & 0    & 0.00 & 0.00 & 0   \\\\\n",
       "\t바이든 & 0.00 & 0.00 & 0.00 & 0.00 & 0.00 & 0.00 & 0.00 & 0.00 & 0.00 & 0.00 & ...  & 0    & 0    & 0    & 0.00 & 0.00 & 8.07 & 0    & 0.00 & 0.00 & 0   \\\\\n",
       "\t반격 & 0.00 & 0.00 & 0.00 & 0.00 & 0.00 & 0.00 & 0.00 & 0.00 & 0.00 & 0.00 & ...  & 0    & 0    & 0    & 0.00 & 0.00 & 0.00 & 0    & 0.00 & 0.00 & 0   \\\\\n",
       "\t참석 & 0.00 & 0.00 & 0.00 & 0.00 & 0.00 & 0.00 & 0.00 & 0.00 & 0.00 & 0.00 & ...  & 0    & 0    & 0    & 0.00 & 0.00 & 0.00 & 0    & 0.00 & 0.00 & 0   \\\\\n",
       "\t홍준표 & 0.00 & 0.00 & 0.00 & 0.00 & 0.00 & 0.00 & 0.00 & 0.00 & 0.00 & 0.00 & ...  & 0    & 0    & 0    & 0.00 & 0.00 & 0.00 & 0    & 0.00 & 0.00 & 0   \\\\\n",
       "\t불법 & 0.00 & 0.00 & 0.00 & 0.00 & 0.00 & 0.00 & 0.00 & 0.00 & 0.00 & 0.00 & ...  & 0    & 0    & 0    & 0.00 & 0.00 & 0.00 & 0    & 0.00 & 0.00 & 0   \\\\\n",
       "\t경찰 & 0.00 & 0.00 & 0.00 & 0.00 & 0.00 & 0.00 & 0.00 & 0.00 & 0.00 & 0.00 & ...  & 0    & 0    & 0    & 6.75 & 0.00 & 0.00 & 0    & 0.00 & 0.00 & 0   \\\\\n",
       "\t민주 & 0.00 & 0.00 & 0.00 & 0.00 & 0.00 & 0.00 & 0.00 & 0.00 & 0.00 & 0.00 & ...  & 0    & 0    & 0    & 0.00 & 0.00 & 0.00 & 0    & 0.00 & 7.20 & 0   \\\\\n",
       "\t인사 & 0.00 & 0.00 & 0.00 & 0.00 & 0.00 & 0.00 & 0.00 & 0.00 & 0.00 & 0.00 & ...  & 0    & 0    & 0    & 0.00 & 0.00 & 0.00 & 0    & 0.00 & 0.00 & 0   \\\\\n",
       "\t수능 & 0.00 & 0.00 & 0.00 & 0.00 & 0.00 & 0.00 & 0.00 & 0.00 & 0.00 & 0.00 & ...  & 0    & 0    & 0    & 0.00 & 0.00 & 0.00 & 0    & 7.20 & 0.00 & 0   \\\\\n",
       "\t혼란 & 0.00 & 0.00 & 0.00 & 0.00 & 0.00 & 0.00 & 0.00 & 0.00 & 0.00 & 0.00 & ...  & 0    & 0    & 0    & 0.00 & 0.00 & 0.00 & 0    & 8.66 & 0.00 & 0   \\\\\n",
       "\t계속 & 0.00 & 0.00 & 0.00 & 0.00 & 0.00 & 0.00 & 0.00 & 0.00 & 0.00 & 0.00 & ...  & 0    & 0    & 0    & 0.00 & 0.00 & 0.00 & 0    & 0.00 & 0.00 & 0   \\\\\n",
       "\t출신 & 0.00 & 0.00 & 0.00 & 0.00 & 0.00 & 0.00 & 0.00 & 0.00 & 0.00 & 0.00 & ...  & 0    & 0    & 0    & 0.00 & 0.00 & 0.00 & 0    & 0.00 & 0.00 & 0   \\\\\n",
       "\\end{tabular}\n"
      ],
      "text/markdown": [
       "\n",
       "| <!--/--> | 1 | 2 | 3 | 4 | 5 | 7 | 8 | 9 | 10 | 11 | ... | 22 | 23 | 24 | 25 | 26 | 27 | 28 | 29 | 32 | 33 |\n",
       "|---|---|---|---|---|---|---|---|---|---|---|---|---|---|---|---|---|---|---|---|---|---|\n",
       "| 사고 | 7.85 | 0.00 | 0.00 | 0.00 | 0.00 | 0.00 | 0.00 | 0.00 | 0.00 | 0.00 | ...  | 0    | 0    | 0    | 0.00 | 0.00 | 0.00 | 0    | 0.00 | 0.00 | 0    |\n",
       "| 병원 | 0.00 | 8.07 | 0.00 | 0.00 | 0.00 | 0.00 | 0.00 | 0.00 | 0.00 | 0.00 | ...  | 0    | 0    | 0    | 0.00 | 0.00 | 0.00 | 0    | 0.00 | 0.00 | 0    |\n",
       "| 건설 | 0.00 | 0.00 | 7.49 | 0.00 | 0.00 | 0.00 | 0.00 | 0.00 | 0.00 | 0.00 | ...  | 0    | 0    | 0    | 0.00 | 0.00 | 0.00 | 0    | 0.00 | 0.00 | 0    |\n",
       "| 노조 | 0.00 | 0.00 | 7.33 | 0.00 | 0.00 | 0.00 | 0.00 | 0.00 | 0.00 | 0.00 | ...  | 0    | 0    | 0    | 0.00 | 0.00 | 0.00 | 0    | 0.00 | 0.00 | 0    |\n",
       "| 청년 | 0.00 | 0.00 | 0.00 | 7.07 | 0.00 | 0.00 | 0.00 | 0.00 | 0.00 | 0.00 | ...  | 0    | 0    | 0    | 0.00 | 0.00 | 0.00 | 0    | 0.00 | 0.00 | 0    |\n",
       "| 도약 | 0.00 | 0.00 | 0.00 | 7.66 | 0.00 | 0.00 | 0.00 | 0.00 | 0.00 | 0.00 | ...  | 0    | 0    | 0    | 0.00 | 0.00 | 0.00 | 0    | 0.00 | 0.00 | 0    |\n",
       "| 계좌 | 0.00 | 0.00 | 0.00 | 7.66 | 0.00 | 0.00 | 0.00 | 0.00 | 0.00 | 0.00 | ...  | 0    | 0    | 0    | 0.00 | 0.00 | 0.00 | 0    | 0.00 | 0.00 | 0    |\n",
       "| 은행 | 0.00 | 0.00 | 0.00 | 8.33 | 0.00 | 0.00 | 0.00 | 0.00 | 0.00 | 0.00 | ...  | 0    | 0    | 0    | 0.00 | 0.00 | 0.00 | 0    | 0.00 | 0.00 | 0    |\n",
       "| 대통령 | 0.00 | 0.00 | 0.00 | 0.00 | 7.49 | 0.00 | 0.00 | 0.00 | 0.00 | 0.00 | ...  | 0    | 0    | 0    | 0.00 | 0.00 | 0.00 | 0    | 0.00 | 0.00 | 0    |\n",
       "| 국정원 | 0.00 | 0.00 | 0.00 | 0.00 | 7.85 | 0.00 | 0.00 | 0.00 | 0.00 | 0.00 | ...  | 0    | 0    | 0    | 0.00 | 0.00 | 0.00 | 0    | 0.00 | 0.00 | 0    |\n",
       "| 체포 | 0.00 | 0.00 | 0.00 | 0.00 | 8.07 | 0.00 | 0.00 | 0.00 | 0.00 | 0.00 | ...  | 0    | 0    | 0    | 0.00 | 0.00 | 0.00 | 0    | 0.00 | 0.00 | 0    |\n",
       "| 공개 | 0.00 | 0.00 | 0.00 | 0.00 | 0.00 | 6.07 | 0.00 | 0.00 | 0.00 | 0.00 | ...  | 0    | 0    | 0    | 0.00 | 0.00 | 0.00 | 0    | 0.00 | 0.00 | 0    |\n",
       "| 협력 | 0.00 | 0.00 | 0.00 | 0.00 | 0.00 | 0.00 | 8.33 | 0.00 | 0.00 | 0.00 | ...  | 0    | 0    | 0    | 0.00 | 0.00 | 0.00 | 0    | 0.00 | 0.00 | 0    |\n",
       "| 확인 | 0.00 | 0.00 | 0.00 | 0.00 | 0.00 | 0.00 | 8.66 | 0.00 | 0.00 | 0.00 | ...  | 0    | 0    | 0    | 0.00 | 0.00 | 0.00 | 0    | 0.00 | 0.00 | 0    |\n",
       "| 대구 | 0.00 | 0.00 | 0.00 | 0.00 | 0.00 | 0.00 | 0.00 | 6.85 | 0.00 | 0.00 | ...  | 0    | 0    | 0    | 6.85 | 0.00 | 0.00 | 0    | 0.00 | 0.00 | 0    |\n",
       "| 전국 | 0.00 | 0.00 | 0.00 | 0.00 | 0.00 | 0.00 | 0.00 | 8.33 | 0.00 | 0.00 | ...  | 0    | 0    | 0    | 0.00 | 8.33 | 0.00 | 0    | 0.00 | 0.00 | 0    |\n",
       "| 최고 | 0.00 | 0.00 | 0.00 | 0.00 | 0.00 | 0.00 | 0.00 | 6.66 | 0.00 | 0.00 | ...  | 0    | 0    | 0    | 0.00 | 0.00 | 0.00 | 0    | 0.00 | 0.00 | 0    |\n",
       "| 이재명 | 0.00 | 0.00 | 0.00 | 0.00 | 0.00 | 0.00 | 0.00 | 0.00 | 6.85 | 0.00 | ...  | 0    | 0    | 0    | 0.00 | 0.00 | 0.00 | 0    | 0.00 | 0.00 | 0    |\n",
       "| 조국 | 0.00 | 0.00 | 0.00 | 0.00 | 0.00 | 0.00 | 0.00 | 0.00 | 7.49 | 0.00 | ...  | 0    | 0    | 0    | 0.00 | 0.00 | 0.00 | 0    | 0.00 | 7.49 | 0    |\n",
       "| 이강인 | 0.00 | 0.00 | 0.00 | 0.00 | 0.00 | 0.00 | 0.00 | 0.00 | 0.00 | 8.33 | ...  | 0    | 0    | 0    | 0.00 | 0.00 | 0.00 | 0    | 0.00 | 0.00 | 0    |\n",
       "| 감독 | 0.00 | 0.00 | 0.00 | 0.00 | 0.00 | 0.00 | 0.00 | 0.00 | 0.00 | 7.66 | ...  | 0    | 0    | 0    | 0.00 | 0.00 | 0.00 | 0    | 0.00 | 0.00 | 0    |\n",
       "| 협상 | 0.00 | 0.00 | 0.00 | 0.00 | 0.00 | 0.00 | 0.00 | 0.00 | 0.00 | 8.66 | ...  | 0    | 0    | 0    | 0.00 | 0.00 | 0.00 | 0    | 0.00 | 0.00 | 0    |\n",
       "| 감사 | 0.00 | 0.00 | 0.00 | 0.00 | 0.00 | 0.00 | 0.00 | 0.00 | 0.00 | 0.00 | ...  | 0    | 0    | 0    | 0.00 | 0.00 | 0.00 | 0    | 0.00 | 0.00 | 0    |\n",
       "| 바이든 | 0.00 | 0.00 | 0.00 | 0.00 | 0.00 | 0.00 | 0.00 | 0.00 | 0.00 | 0.00 | ...  | 0    | 0    | 0    | 0.00 | 0.00 | 8.07 | 0    | 0.00 | 0.00 | 0    |\n",
       "| 반격 | 0.00 | 0.00 | 0.00 | 0.00 | 0.00 | 0.00 | 0.00 | 0.00 | 0.00 | 0.00 | ...  | 0    | 0    | 0    | 0.00 | 0.00 | 0.00 | 0    | 0.00 | 0.00 | 0    |\n",
       "| 참석 | 0.00 | 0.00 | 0.00 | 0.00 | 0.00 | 0.00 | 0.00 | 0.00 | 0.00 | 0.00 | ...  | 0    | 0    | 0    | 0.00 | 0.00 | 0.00 | 0    | 0.00 | 0.00 | 0    |\n",
       "| 홍준표 | 0.00 | 0.00 | 0.00 | 0.00 | 0.00 | 0.00 | 0.00 | 0.00 | 0.00 | 0.00 | ...  | 0    | 0    | 0    | 0.00 | 0.00 | 0.00 | 0    | 0.00 | 0.00 | 0    |\n",
       "| 불법 | 0.00 | 0.00 | 0.00 | 0.00 | 0.00 | 0.00 | 0.00 | 0.00 | 0.00 | 0.00 | ...  | 0    | 0    | 0    | 0.00 | 0.00 | 0.00 | 0    | 0.00 | 0.00 | 0    |\n",
       "| 경찰 | 0.00 | 0.00 | 0.00 | 0.00 | 0.00 | 0.00 | 0.00 | 0.00 | 0.00 | 0.00 | ...  | 0    | 0    | 0    | 6.75 | 0.00 | 0.00 | 0    | 0.00 | 0.00 | 0    |\n",
       "| 민주 | 0.00 | 0.00 | 0.00 | 0.00 | 0.00 | 0.00 | 0.00 | 0.00 | 0.00 | 0.00 | ...  | 0    | 0    | 0    | 0.00 | 0.00 | 0.00 | 0    | 0.00 | 7.20 | 0    |\n",
       "| 인사 | 0.00 | 0.00 | 0.00 | 0.00 | 0.00 | 0.00 | 0.00 | 0.00 | 0.00 | 0.00 | ...  | 0    | 0    | 0    | 0.00 | 0.00 | 0.00 | 0    | 0.00 | 0.00 | 0    |\n",
       "| 수능 | 0.00 | 0.00 | 0.00 | 0.00 | 0.00 | 0.00 | 0.00 | 0.00 | 0.00 | 0.00 | ...  | 0    | 0    | 0    | 0.00 | 0.00 | 0.00 | 0    | 7.20 | 0.00 | 0    |\n",
       "| 혼란 | 0.00 | 0.00 | 0.00 | 0.00 | 0.00 | 0.00 | 0.00 | 0.00 | 0.00 | 0.00 | ...  | 0    | 0    | 0    | 0.00 | 0.00 | 0.00 | 0    | 8.66 | 0.00 | 0    |\n",
       "| 계속 | 0.00 | 0.00 | 0.00 | 0.00 | 0.00 | 0.00 | 0.00 | 0.00 | 0.00 | 0.00 | ...  | 0    | 0    | 0    | 0.00 | 0.00 | 0.00 | 0    | 0.00 | 0.00 | 0    |\n",
       "| 출신 | 0.00 | 0.00 | 0.00 | 0.00 | 0.00 | 0.00 | 0.00 | 0.00 | 0.00 | 0.00 | ...  | 0    | 0    | 0    | 0.00 | 0.00 | 0.00 | 0    | 0.00 | 0.00 | 0    |\n",
       "\n"
      ],
      "text/plain": [
       "       1    2    3    4    5    7    8    9    10   11   ... 22 23 24 25   26  \n",
       "사고   7.85 0.00 0.00 0.00 0.00 0.00 0.00 0.00 0.00 0.00 ... 0  0  0  0.00 0.00\n",
       "병원   0.00 8.07 0.00 0.00 0.00 0.00 0.00 0.00 0.00 0.00 ... 0  0  0  0.00 0.00\n",
       "건설   0.00 0.00 7.49 0.00 0.00 0.00 0.00 0.00 0.00 0.00 ... 0  0  0  0.00 0.00\n",
       "노조   0.00 0.00 7.33 0.00 0.00 0.00 0.00 0.00 0.00 0.00 ... 0  0  0  0.00 0.00\n",
       "청년   0.00 0.00 0.00 7.07 0.00 0.00 0.00 0.00 0.00 0.00 ... 0  0  0  0.00 0.00\n",
       "도약   0.00 0.00 0.00 7.66 0.00 0.00 0.00 0.00 0.00 0.00 ... 0  0  0  0.00 0.00\n",
       "계좌   0.00 0.00 0.00 7.66 0.00 0.00 0.00 0.00 0.00 0.00 ... 0  0  0  0.00 0.00\n",
       "은행   0.00 0.00 0.00 8.33 0.00 0.00 0.00 0.00 0.00 0.00 ... 0  0  0  0.00 0.00\n",
       "대통령 0.00 0.00 0.00 0.00 7.49 0.00 0.00 0.00 0.00 0.00 ... 0  0  0  0.00 0.00\n",
       "국정원 0.00 0.00 0.00 0.00 7.85 0.00 0.00 0.00 0.00 0.00 ... 0  0  0  0.00 0.00\n",
       "체포   0.00 0.00 0.00 0.00 8.07 0.00 0.00 0.00 0.00 0.00 ... 0  0  0  0.00 0.00\n",
       "공개   0.00 0.00 0.00 0.00 0.00 6.07 0.00 0.00 0.00 0.00 ... 0  0  0  0.00 0.00\n",
       "협력   0.00 0.00 0.00 0.00 0.00 0.00 8.33 0.00 0.00 0.00 ... 0  0  0  0.00 0.00\n",
       "확인   0.00 0.00 0.00 0.00 0.00 0.00 8.66 0.00 0.00 0.00 ... 0  0  0  0.00 0.00\n",
       "대구   0.00 0.00 0.00 0.00 0.00 0.00 0.00 6.85 0.00 0.00 ... 0  0  0  6.85 0.00\n",
       "전국   0.00 0.00 0.00 0.00 0.00 0.00 0.00 8.33 0.00 0.00 ... 0  0  0  0.00 8.33\n",
       "최고   0.00 0.00 0.00 0.00 0.00 0.00 0.00 6.66 0.00 0.00 ... 0  0  0  0.00 0.00\n",
       "이재명 0.00 0.00 0.00 0.00 0.00 0.00 0.00 0.00 6.85 0.00 ... 0  0  0  0.00 0.00\n",
       "조국   0.00 0.00 0.00 0.00 0.00 0.00 0.00 0.00 7.49 0.00 ... 0  0  0  0.00 0.00\n",
       "이강인 0.00 0.00 0.00 0.00 0.00 0.00 0.00 0.00 0.00 8.33 ... 0  0  0  0.00 0.00\n",
       "감독   0.00 0.00 0.00 0.00 0.00 0.00 0.00 0.00 0.00 7.66 ... 0  0  0  0.00 0.00\n",
       "협상   0.00 0.00 0.00 0.00 0.00 0.00 0.00 0.00 0.00 8.66 ... 0  0  0  0.00 0.00\n",
       "감사   0.00 0.00 0.00 0.00 0.00 0.00 0.00 0.00 0.00 0.00 ... 0  0  0  0.00 0.00\n",
       "바이든 0.00 0.00 0.00 0.00 0.00 0.00 0.00 0.00 0.00 0.00 ... 0  0  0  0.00 0.00\n",
       "반격   0.00 0.00 0.00 0.00 0.00 0.00 0.00 0.00 0.00 0.00 ... 0  0  0  0.00 0.00\n",
       "참석   0.00 0.00 0.00 0.00 0.00 0.00 0.00 0.00 0.00 0.00 ... 0  0  0  0.00 0.00\n",
       "홍준표 0.00 0.00 0.00 0.00 0.00 0.00 0.00 0.00 0.00 0.00 ... 0  0  0  0.00 0.00\n",
       "불법   0.00 0.00 0.00 0.00 0.00 0.00 0.00 0.00 0.00 0.00 ... 0  0  0  0.00 0.00\n",
       "경찰   0.00 0.00 0.00 0.00 0.00 0.00 0.00 0.00 0.00 0.00 ... 0  0  0  6.75 0.00\n",
       "민주   0.00 0.00 0.00 0.00 0.00 0.00 0.00 0.00 0.00 0.00 ... 0  0  0  0.00 0.00\n",
       "인사   0.00 0.00 0.00 0.00 0.00 0.00 0.00 0.00 0.00 0.00 ... 0  0  0  0.00 0.00\n",
       "수능   0.00 0.00 0.00 0.00 0.00 0.00 0.00 0.00 0.00 0.00 ... 0  0  0  0.00 0.00\n",
       "혼란   0.00 0.00 0.00 0.00 0.00 0.00 0.00 0.00 0.00 0.00 ... 0  0  0  0.00 0.00\n",
       "계속   0.00 0.00 0.00 0.00 0.00 0.00 0.00 0.00 0.00 0.00 ... 0  0  0  0.00 0.00\n",
       "출신   0.00 0.00 0.00 0.00 0.00 0.00 0.00 0.00 0.00 0.00 ... 0  0  0  0.00 0.00\n",
       "       27   28 29   32   33\n",
       "사고   0.00 0  0.00 0.00 0 \n",
       "병원   0.00 0  0.00 0.00 0 \n",
       "건설   0.00 0  0.00 0.00 0 \n",
       "노조   0.00 0  0.00 0.00 0 \n",
       "청년   0.00 0  0.00 0.00 0 \n",
       "도약   0.00 0  0.00 0.00 0 \n",
       "계좌   0.00 0  0.00 0.00 0 \n",
       "은행   0.00 0  0.00 0.00 0 \n",
       "대통령 0.00 0  0.00 0.00 0 \n",
       "국정원 0.00 0  0.00 0.00 0 \n",
       "체포   0.00 0  0.00 0.00 0 \n",
       "공개   0.00 0  0.00 0.00 0 \n",
       "협력   0.00 0  0.00 0.00 0 \n",
       "확인   0.00 0  0.00 0.00 0 \n",
       "대구   0.00 0  0.00 0.00 0 \n",
       "전국   0.00 0  0.00 0.00 0 \n",
       "최고   0.00 0  0.00 0.00 0 \n",
       "이재명 0.00 0  0.00 0.00 0 \n",
       "조국   0.00 0  0.00 7.49 0 \n",
       "이강인 0.00 0  0.00 0.00 0 \n",
       "감독   0.00 0  0.00 0.00 0 \n",
       "협상   0.00 0  0.00 0.00 0 \n",
       "감사   0.00 0  0.00 0.00 0 \n",
       "바이든 8.07 0  0.00 0.00 0 \n",
       "반격   0.00 0  0.00 0.00 0 \n",
       "참석   0.00 0  0.00 0.00 0 \n",
       "홍준표 0.00 0  0.00 0.00 0 \n",
       "불법   0.00 0  0.00 0.00 0 \n",
       "경찰   0.00 0  0.00 0.00 0 \n",
       "민주   0.00 0  0.00 7.20 0 \n",
       "인사   0.00 0  0.00 0.00 0 \n",
       "수능   0.00 0  7.20 0.00 0 \n",
       "혼란   0.00 0  8.66 0.00 0 \n",
       "계속   0.00 0  0.00 0.00 0 \n",
       "출신   0.00 0  0.00 0.00 0 "
      ]
     },
     "metadata": {},
     "output_type": "display_data"
    }
   ],
   "source": [
    "library(lsa)\n",
    "m <- lw_bintf(m)*gw_idf(m)\n",
    "round(m[, 1:30], 2)"
   ]
  },
  {
   "cell_type": "code",
   "execution_count": 90,
   "id": "212e969f",
   "metadata": {},
   "outputs": [
    {
     "name": "stderr",
     "output_type": "stream",
     "text": [
      "Warning message in lsa(m, dims = 2):\n",
      "\"[lsa] - there are singular values which are zero.\""
     ]
    },
    {
     "data": {
      "text/html": [
       "<ol class=list-inline>\n",
       "\t<li>'tk'</li>\n",
       "\t<li>'dk'</li>\n",
       "\t<li>'sk'</li>\n",
       "</ol>\n"
      ],
      "text/latex": [
       "\\begin{enumerate*}\n",
       "\\item 'tk'\n",
       "\\item 'dk'\n",
       "\\item 'sk'\n",
       "\\end{enumerate*}\n"
      ],
      "text/markdown": [
       "1. 'tk'\n",
       "2. 'dk'\n",
       "3. 'sk'\n",
       "\n",
       "\n"
      ],
      "text/plain": [
       "[1] \"tk\" \"dk\" \"sk\""
      ]
     },
     "metadata": {},
     "output_type": "display_data"
    }
   ],
   "source": [
    "LSA <- lsa(m, dims=2)\n",
    "names(LSA)"
   ]
  },
  {
   "cell_type": "code",
   "execution_count": 91,
   "id": "3f089ee4",
   "metadata": {},
   "outputs": [
    {
     "data": {
      "text/html": [
       "<table>\n",
       "<thead><tr><th></th><th scope=col>1</th><th scope=col>2</th><th scope=col>3</th><th scope=col>4</th><th scope=col>5</th><th scope=col>7</th><th scope=col>8</th><th scope=col>9</th><th scope=col>10</th><th scope=col>11</th><th scope=col>...</th><th scope=col>903</th><th scope=col>904</th><th scope=col>905</th><th scope=col>906</th><th scope=col>907</th><th scope=col>908</th><th scope=col>909</th><th scope=col>911</th><th scope=col>912</th><th scope=col>913</th></tr></thead>\n",
       "<tbody>\n",
       "\t<tr><th scope=row>사고</th><td> 0.017121061398776740714034               </td><td> 0.00000000000000013221873919430483943155 </td><td> 0.17597322108038304655508                </td><td> 0.0032492309439170093121607              </td><td> 0.00000000000000033591220257500934926256 </td><td> 0.000000000000000023453723431580121858500</td><td> 0.052506951061415708947866               </td><td> 0.24438820562449750650735                </td><td> 0.00000000000000014216513111317428454464 </td><td>-0.00000000000000008180523299143623450723 </td><td>...                                       </td><td> 0.15119238554389619055840                </td><td> 0.000000000000000018653108946619155338216</td><td>0                                         </td><td>0                                         </td><td>-0.000000000000000012627238846410930650033</td><td> 0.00000000000000046783954035697100739578 </td><td> 0.000000000000000008496915180611927756460</td><td>0                                         </td><td>0                                         </td><td>0                                         </td></tr>\n",
       "\t<tr><th scope=row>병원</th><td> 0.000000000000000081397781               </td><td> 0.00000000000000000000000000000062833980 </td><td> 0.00000000000000083660342                </td><td>-0.0000000000000000387436880              </td><td> 0.00000000000000000000000000000157165537 </td><td> 0.000000000000000000000000000000076044838</td><td> 0.000000000000000249396416               </td><td> 0.00000000000000116186404                </td><td> 0.00000000000000000000000000000067541600 </td><td>-0.00000000000000000000000000000038891158 </td><td>...                                       </td><td> 0.00000000000000071880335                </td><td> 0.000000000000000000000000000000088632183</td><td>0                                         </td><td>0                                         </td><td>-0.000000000000000000000000000000060032893</td><td> 0.00000000000000000000000000000222296153 </td><td> 0.000000000000000000000000000000042260320</td><td>0                                         </td><td>0                                         </td><td>0                                         </td></tr>\n",
       "\t<tr><th scope=row>건설</th><td> 0.065580899205584575195616               </td><td> 0.00000000000000050645734005255414579907 </td><td> 0.67405203097073285167795                </td><td> 0.0132150242809274710842349              </td><td> 0.00000000000000128704550717660124500158 </td><td> 0.000000000000000090340927474838293217280</td><td> 0.201127138611341932383780               </td><td> 0.93611034599338105444133                </td><td> 0.00000000000000054455922424655131648327 </td><td>-0.00000000000000031334876063876013023695 </td><td>...                                       </td><td> 0.57913075914323186577093                </td><td> 0.000000000000000071449988790217913215731</td><td>0                                         </td><td>0                                         </td><td>-0.000000000000000048367662060715075934836</td><td> 0.00000000000000179204105063354053833762 </td><td> 0.000000000000000032520322738597180743138</td><td>0                                         </td><td>0                                         </td><td>0                                         </td></tr>\n",
       "\t<tr><th scope=row>노조</th><td> 0.121379115065782819393725               </td><td> 0.00000000000000093739447752626770295203 </td><td> 1.24755773793685897921080                </td><td> 0.0302505338593409348058039              </td><td> 0.00000000000000238481263450212593261318 </td><td> 0.000000000000000170995556181462462176299</td><td> 0.372277283109175294306681               </td><td> 1.73258333681260934255874                </td><td> 0.00000000000000100793719516665384542536 </td><td>-0.00000000000000057995653644991933648063 </td><td>...                                       </td><td> 1.07187305686954159611446                </td><td> 0.000000000000000132247076435526662581237</td><td>0                                         </td><td>0                                         </td><td>-0.000000000000000089520349149771296830627</td><td> 0.00000000000000331689895110691000961085 </td><td> 0.000000000000000059990394799196114722709</td><td>0                                         </td><td>0                                         </td><td>0                                         </td></tr>\n",
       "\t<tr><th scope=row>청년</th><td>-0.000691147583945507970778               </td><td> 0.00000000000000003431357085482617647575 </td><td>-0.00451877072369434237831                </td><td> 8.2342468669683714921347928              </td><td> 0.00000000000000383909254264840817047477 </td><td> 0.000000000000005387201736654474167921569</td><td> 0.033539991319619995302492               </td><td>-0.00709544853313587992050                </td><td> 0.00000000000000006603773240609084068005 </td><td> 0.00000000000000000165716394001694325702 </td><td>...                                       </td><td>-0.00567300950196587307206                </td><td> 0.000000000000000006743206361114627728562</td><td>0                                         </td><td>0                                         </td><td> 0.000000000000000000488587195476389029138</td><td> 0.00000000000000017316761401053053112849 </td><td>-0.000000000000000283558664300569554213641</td><td>0                                         </td><td>0                                         </td><td>0                                         </td></tr>\n",
       "\t<tr><th scope=row>도약</th><td>-0.000590689146107942620982               </td><td> 0.00000000000000003230192040180534233072 </td><td>-0.00366796335548051719716                </td><td> 7.6553928000010840193567674              </td><td> 0.00000000000000357022373692931867293979 </td><td> 0.000000000000005008554895344029746391545</td><td> 0.031341223206699013459353               </td><td>-0.00585622741875482973051                </td><td> 0.00000000000000006182602166266495995195 </td><td> 0.00000000000000000129282365427156248914 </td><td>...                                       </td><td>-0.00481613727118209832695                </td><td> 0.000000000000000006325674596122674628491</td><td>0                                         </td><td>0                                         </td><td> 0.000000000000000000415983437078064030188</td><td> 0.00000000000000016241140412748616807595 </td><td>-0.000000000000000263598872875983866910510</td><td>0                                         </td><td>0                                         </td><td>0                                         </td></tr>\n",
       "\t<tr><th scope=row>계좌</th><td>-0.000590689146107944138865               </td><td> 0.00000000000000003230192040180536082071 </td><td>-0.00366796335548053280967                </td><td> 7.6553928000010893484272856              </td><td> 0.00000000000000357022373692932103953629 </td><td> 0.000000000000005008554895344032901419867</td><td> 0.031341223206699034276035               </td><td>-0.00585622741875485228191                </td><td> 0.00000000000000006182602166266499692758 </td><td> 0.00000000000000000129282365427156980783 </td><td>...                                       </td><td>-0.00481613727118211307210                </td><td> 0.000000000000000006325674596122677711095</td><td>0                                         </td><td>0                                         </td><td> 0.000000000000000000415983437078065185774</td><td> 0.00000000000000016241140412748624201854 </td><td>-0.000000000000000263598872875984064170253</td><td>0                                         </td><td>0                                         </td><td>0                                         </td></tr>\n",
       "\t<tr><th scope=row>은행</th><td> 0.004731659305436176389537               </td><td> 0.00000000000000004316251361558982866003 </td><td> 0.04906451108125347432276                </td><td> 1.3760774302135181379469486              </td><td> 0.00000000000000073624525887405404553712 </td><td> 0.000000000000000906327665970115408169971</td><td> 0.020466395023844168032934               </td><td> 0.06800292231415459853761                </td><td> 0.00000000000000005127648468566278251030 </td><td>-0.00000000000000002288284101362864727267 </td><td>...                                       </td><td> 0.04185613163845192108425                </td><td> 0.000000000000000006406963671131466499502</td><td>0                                         </td><td>0                                         </td><td>-0.000000000000000003493257353711399343897</td><td> 0.00000000000000016136822327943103129975 </td><td>-0.000000000000000044950084599523531495198</td><td>0                                         </td><td>0                                         </td><td>0                                         </td></tr>\n",
       "\t<tr><th scope=row>대통령</th><td> 0.000000000000000238055336               </td><td> 0.00000000000000000000000000000184251247 </td><td> 0.00000000000000244704182                </td><td> 0.0000000000000008990137490              </td><td> 0.00000000000000000000000000000507009131 </td><td> 0.000000000000000000000000000000884811815</td><td> 0.000000000000000733766816               </td><td> 0.00000000000000339831934                </td><td> 0.00000000000000000000000000000198414065 </td><td>-0.00000000000000000000000000000113761013 </td><td>...                                       </td><td> 0.00000000000000210225974                </td><td> 0.000000000000000000000000000000260134584</td><td>0                                         </td><td>0                                         </td><td>-0.000000000000000000000000000000175574345</td><td> 0.00000000000000000000000000000652486728 </td><td> 0.000000000000000000000000000000088776063</td><td>0                                         </td><td>0                                         </td><td>0                                         </td></tr>\n",
       "\t<tr><th scope=row>국정원</th><td> 0.000000000000000087761200               </td><td> 0.00000000000000000000000000000068194961 </td><td> 0.00000000000000090229900                </td><td> 0.0000000000000008902999652              </td><td> 0.00000000000000000000000000000213061502 </td><td> 0.000000000000000000000000000000691889533</td><td> 0.000000000000000272929843               </td><td> 0.00000000000000125300842                </td><td> 0.00000000000000000000000000000073634247 </td><td>-0.00000000000000000000000000000041950167 </td><td>...                                       </td><td> 0.00000000000000077504581                </td><td> 0.000000000000000000000000000000096409680</td><td>0                                         </td><td>0                                         </td><td>-0.000000000000000000000000000000064728467</td><td> 0.00000000000000000000000000000241848464 </td><td> 0.000000000000000000000000000000013506116</td><td>0                                         </td><td>0                                         </td><td>0                                         </td></tr>\n",
       "\t<tr><th scope=row>체포</th><td> 0.000000000000000032597870               </td><td> 0.00000000000000000000000000000025501506 </td><td> 0.00000000000000033526007                </td><td> 0.0000000000000006864038183              </td><td> 0.00000000000000000000000000000095782061 </td><td> 0.000000000000000000000000000000489753899</td><td> 0.000000000000000102917034               </td><td> 0.00000000000000046553497                </td><td> 0.00000000000000000000000000000027660643 </td><td>-0.00000000000000000000000000000015589005 </td><td>...                                       </td><td> 0.00000000000000028790028                </td><td> 0.000000000000000000000000000000036134071</td><td>0                                         </td><td>0                                         </td><td>-0.000000000000000000000000000000024043545</td><td> 0.00000000000000000000000000000090661421 </td><td>-0.000000000000000000000000000000007217787</td><td>0                                         </td><td>0                                         </td><td>0                                         </td></tr>\n",
       "\t<tr><th scope=row>공개</th><td> 0.000000000000000010893738               </td><td> 0.00000000000000000000000000000007868180 </td><td> 0.00000000000000011161268                </td><td>-0.0000000000000011288987157              </td><td>-0.00000000000000000000000000000031541662 </td><td>-0.000000000000000000000000000000725122320</td><td> 0.000000000000000028511230               </td><td> 0.00000000000000015511813                </td><td> 0.00000000000000000000000000000008059810 </td><td>-0.00000000000000000000000000000005182483 </td><td>...                                       </td><td> 0.00000000000000009614113                </td><td> 0.000000000000000000000000000000010838965</td><td>0                                         </td><td>0                                         </td><td>-0.000000000000000000000000000000008031517</td><td> 0.00000000000000000000000000000027129760 </td><td> 0.000000000000000000000000000000044305179</td><td>0                                         </td><td>0                                         </td><td>0                                         </td></tr>\n",
       "\t<tr><th scope=row>협력</th><td> 0.044511596681981402401362               </td><td> 0.00000000000000034418261995618245007410 </td><td> 0.45752644102782236146254                </td><td> 0.0994747688094863996566275              </td><td> 0.00000000000000091589902405262216093795 </td><td> 0.000000000000000120538921638625845761221</td><td> 0.136902573600049093371922               </td><td> 0.63539480819951910106624                </td><td> 0.00000000000000037039653647791542100294 </td><td>-0.00000000000000021269667966785683716705 </td><td>...                                       </td><td> 0.39307702853916987040250                </td><td> 0.000000000000000048577504415982536351871</td><td>0                                         </td><td>0                                         </td><td>-0.000000000000000032828722069298262844963</td><td> 0.00000000000000121841944142088412224127 </td><td> 0.000000000000000018959587228524764929843</td><td>0                                         </td><td>0                                         </td><td>0                                         </td></tr>\n",
       "\t<tr><th scope=row>확인</th><td> 0.004753575896437956319063               </td><td> 0.00000000000000003673811882585375841997 </td><td> 0.04885991478182376973605                </td><td> 0.0067701380652150852657023              </td><td> 0.00000000000000009600980822348859736702 </td><td> 0.000000000000000010351524915480967378202</td><td> 0.014603700609100871143919               </td><td> 0.06785512030620428902683                </td><td> 0.00000000000000003952257760786623682400 </td><td>-0.00000000000000002271398058793571383268 </td><td>...                                       </td><td> 0.04197810601403875047088                </td><td> 0.000000000000000005184283093972724116780</td><td>0                                         </td><td>0                                         </td><td>-0.000000000000000003505903921501540180389</td><td> 0.00000000000000013003013820504363497101 </td><td> 0.000000000000000002157299485083534997020</td><td>0                                         </td><td>0                                         </td><td>0                                         </td></tr>\n",
       "\t<tr><th scope=row>대구</th><td> 0.203185145643347470079121               </td><td> 0.00000000000000156915379461160016697982 </td><td> 2.08837460540822750232337                </td><td> 0.0469866270438109440155117              </td><td> 0.00000000000000399039909358527468278069 </td><td> 0.000000000000000283852029447541377889241</td><td> 0.623165643931776425112901               </td><td> 2.90029341804679630101305                </td><td> 0.00000000000000168722602636285121772974 </td><td>-0.00000000000000097082982274562039460078 </td><td>...                                       </td><td> 1.79428446060300639253171                </td><td> 0.000000000000000221374475705798209228606</td><td>0                                         </td><td>0                                         </td><td>-0.000000000000000149854478931739320103980</td><td> 0.00000000000000555230821784427192944547 </td><td> 0.000000000000000100547798931400602772540</td><td>0                                         </td><td>0                                         </td><td>0                                         </td></tr>\n",
       "\t<tr><th scope=row>전국</th><td> 0.026569314867097636873039               </td><td> 0.00000000000000020518540555018645432216 </td><td> 0.27308411587046055313266                </td><td> 0.0054136480832387536346606              </td><td> 0.00000000000000052145900353955190703430 </td><td> 0.000000000000000036639633799134041637451</td><td> 0.081484506998401207145122               </td><td> 0.37925390094196531620696                </td><td> 0.00000000000000022062216008177973503718 </td><td>-0.00000000000000012694950463045740622929 </td><td>...                                       </td><td> 0.23462788525393482585990                </td><td> 0.000000000000000028947160514271909295680</td><td>0                                         </td><td>0                                         </td><td>-0.000000000000000019595578412427185472505</td><td> 0.00000000000000072602533483664824314439 </td><td> 0.000000000000000013173164076686511344411</td><td>0                                         </td><td>0                                         </td><td>0                                         </td></tr>\n",
       "\t<tr><th scope=row>최고</th><td> 0.045842773350144548627494               </td><td> 0.00000000000000035402591198444853652118 </td><td> 0.47118002652354507020505                </td><td> 0.0090115463548472198029859              </td><td> 0.00000000000000089957287152325236300257 </td><td> 0.000000000000000063002734154629390240371</td><td> 0.140592180461142912673012               </td><td> 0.65436567588610372592228                </td><td> 0.00000000000000038065924901068046068940 </td><td>-0.00000000000000021903897971784320615994 </td><td>...                                       </td><td> 0.40482762020835261207452                </td><td> 0.000000000000000049945215495384392527523</td><td>0                                         </td><td>0                                         </td><td>-0.000000000000000033810267289632985564501</td><td> 0.00000000000000125267855234272119132992 </td><td> 0.000000000000000022740337552823375799269</td><td>0                                         </td><td>0                                         </td><td>0                                         </td></tr>\n",
       "\t<tr><th scope=row>이재명</th><td> 0.000000000000000021590647               </td><td> 0.00000000000000000000000000000016676121 </td><td> 0.00000000000000022191407                </td><td> 0.0000000000000000094446305              </td><td> 0.00000000000000000000000000000042610648 </td><td> 0.000000000000000000000000000000033075404</td><td> 0.000000000000000066237453               </td><td> 0.00000000000000030818944                </td><td> 0.00000000000000000000000000000017932505 </td><td>-0.00000000000000000000000000000010316219 </td><td>...                                       </td><td> 0.00000000000000019066261                </td><td> 0.000000000000000000000000000000023527515</td><td>0                                         </td><td>0                                         </td><td>-0.000000000000000000000000000000015923691</td><td> 0.00000000000000000000000000000059009739 </td><td> 0.000000000000000000000000000000010531189</td><td>0                                         </td><td>0                                         </td><td>0                                         </td></tr>\n",
       "\t<tr><th scope=row>조국</th><td> 0.000000000000000129112784               </td><td> 0.00000000000000000000000000000099799274 </td><td> 0.00000000000000132710272                </td><td> 0.0000000000000002133051395              </td><td> 0.00000000000000000000000000000262150567 </td><td> 0.000000000000000000000000000000300410746</td><td> 0.000000000000000396781310               </td><td> 0.00000000000000184303579                </td><td> 0.00000000000000000000000000000107373673 </td><td>-0.00000000000000000000000000000061694465 </td><td>...                                       </td><td> 0.00000000000000114017690                </td><td> 0.000000000000000000000000000000140838087</td><td>0                                         </td><td>0                                         </td><td>-0.000000000000000000000000000000095224602</td><td> 0.00000000000000000000000000000353245962 </td><td> 0.000000000000000000000000000000057582939</td><td>0                                         </td><td>0                                         </td><td>0                                         </td></tr>\n",
       "\t<tr><th scope=row>이강인</th><td>-0.000000000000000007550255               </td><td>-0.00000000000000000000000000000005830762 </td><td>-0.00000000000000007760283                </td><td>-0.0000000000000000014716788              </td><td>-0.00000000000000000000000000000014815282 </td><td>-0.000000000000000000000000000000010368294</td><td>-0.000000000000000023155325               </td><td>-0.00000000000000010777331                </td><td>-0.00000000000000000000000000000006269406 </td><td> 0.00000000000000000000000000000003607548 </td><td>...                                       </td><td>-0.00000000000000006667467                </td><td>-0.000000000000000000000000000000008225911</td><td>0                                         </td><td>0                                         </td><td> 0.000000000000000000000000000000005568514</td><td>-0.00000000000000000000000000000020631451 </td><td>-0.000000000000000000000000000000003745739</td><td>0                                         </td><td>0                                         </td><td>0                                         </td></tr>\n",
       "\t<tr><th scope=row>감독</th><td> 0.000000000000000006871899               </td><td> 0.00000000000000000000000000000005307004 </td><td> 0.00000000000000007063065                </td><td> 0.0000000000000000015660476              </td><td> 0.00000000000000000000000000000013494799 </td><td> 0.000000000000000000000000000000009585021</td><td> 0.000000000000000021075907               </td><td> 0.00000000000000009809045                </td><td> 0.00000000000000000000000000000005706326 </td><td>-0.00000000000000000000000000000003283431 </td><td>...                                       </td><td> 0.00000000000000006068427                </td><td> 0.000000000000000000000000000000007487057</td><td>0                                         </td><td>0                                         </td><td>-0.000000000000000000000000000000005068210</td><td> 0.00000000000000000000000000000018778338 </td><td> 0.000000000000000000000000000000003401408</td><td>0                                         </td><td>0                                         </td><td>0                                         </td></tr>\n",
       "\t<tr><th scope=row>협상</th><td>-0.000000000000000010682990               </td><td>-0.00000000000000000000000000000008250104 </td><td>-0.00000000000000010980167                </td><td>-0.0000000000000000021955822              </td><td>-0.00000000000000000000000000000020967706 </td><td>-0.000000000000000000000000000000014744406</td><td>-0.000000000000000032763372               </td><td>-0.00000000000000015249041                </td><td>-0.00000000000000000000000000000008870792 </td><td> 0.00000000000000000000000000000005104386 </td><td>...                                       </td><td>-0.00000000000000009433918                </td><td>-0.000000000000000000000000000000011639091</td><td>0                                         </td><td>0                                         </td><td> 0.000000000000000000000000000000007878990</td><td>-0.00000000000000000000000000000029192070 </td><td>-0.000000000000000000000000000000005296017</td><td>0                                         </td><td>0                                         </td><td>0                                         </td></tr>\n",
       "\t<tr><th scope=row>감사</th><td> 0.000000000000000039670336               </td><td> 0.00000000000000000000000000000030653152 </td><td> 0.00000000000000040774991                </td><td> 0.0000000000000000437124756              </td><td> 0.00000000000000000000000000000079525448 </td><td> 0.000000000000000000000000000000078020251</td><td> 0.000000000000000121817869               </td><td> 0.00000000000000056627159                </td><td> 0.00000000000000000000000000000032971896 </td><td>-0.00000000000000000000000000000018955395 </td><td>...                                       </td><td> 0.00000000000000035032204                </td><td> 0.000000000000000000000000000000043253105</td><td>0                                         </td><td>0                                         </td><td>-0.000000000000000000000000000000029258023</td><td> 0.00000000000000000000000000000108485101 </td><td> 0.000000000000000000000000000000018443250</td><td>0                                         </td><td>0                                         </td><td>0                                         </td></tr>\n",
       "\t<tr><th scope=row>바이든</th><td> 0.000000000000000053236318               </td><td> 0.00000000000000000000000000000041112388 </td><td> 0.00000000000000054717220                </td><td> 0.0000000000000000105683744              </td><td> 0.00000000000000000000000000000104470481 </td><td> 0.000000000000000000000000000000073231532</td><td> 0.000000000000000163267402               </td><td> 0.00000000000000075990212                </td><td> 0.00000000000000000000000000000044205306 </td><td>-0.00000000000000000000000000000025436571 </td><td>...                                       </td><td> 0.00000000000000047011842                </td><td> 0.000000000000000000000000000000058000498</td><td>0                                         </td><td>0                                         </td><td>-0.000000000000000000000000000000039263204</td><td> 0.00000000000000000000000000000145471356 </td><td> 0.000000000000000000000000000000026404352</td><td>0                                         </td><td>0                                         </td><td>0                                         </td></tr>\n",
       "\t<tr><th scope=row>반격</th><td>-0.000000000000000002622780               </td><td>-0.00000000000000000000000000000002025301 </td><td>-0.00000000000000002695728                </td><td>-0.0000000000000000001621352              </td><td>-0.00000000000000000000000000000005130146 </td><td>-0.000000000000000000000000000000003373274</td><td>-0.000000000000000008042102               </td><td>-0.00000000000000003743779                </td><td>-0.00000000000000000000000000000002177539 </td><td> 0.00000000000000000000000000000001253170 </td><td>...                                       </td><td>-0.00000000000000002316119                </td><td>-0.000000000000000000000000000000002857170</td><td>0                                         </td><td>0                                         </td><td> 0.000000000000000000000000000000001934370</td><td>-0.00000000000000000000000000000007166065 </td><td>-0.000000000000000000000000000000001313188</td><td>0                                         </td><td>0                                         </td><td>0                                         </td></tr>\n",
       "\t<tr><th scope=row>참석</th><td>-0.000000000000000013373731               </td><td>-0.00000000000000000000000000000010327983 </td><td>-0.00000000000000013745753                </td><td>-0.0000000000000000025668911              </td><td>-0.00000000000000000000000000000026240374 </td><td>-0.000000000000000000000000000000018339211</td><td>-0.000000000000000041014747               </td><td>-0.00000000000000019089835                </td><td>-0.00000000000000000000000000000011104934 </td><td> 0.00000000000000000000000000000006390032 </td><td>...                                       </td><td>-0.00000000000000011810053                </td><td>-0.000000000000000000000000000000014570482</td><td>0                                         </td><td>0                                         </td><td> 0.000000000000000000000000000000009863483</td><td>-0.00000000000000000000000000000036544299 </td><td>-0.000000000000000000000000000000006636182</td><td>0                                         </td><td>0                                         </td><td>0                                         </td></tr>\n",
       "\t<tr><th scope=row>홍준표</th><td> 0.114527235134269586569467               </td><td> 0.00000000000000088448178482187333531925 </td><td> 1.17713303156040027808160                </td><td> 0.0292590666078687451634455              </td><td> 0.00000000000000225052447706947927560418 </td><td> 0.000000000000000161811448958757909000888</td><td> 0.351265243365992019253241               </td><td> 1.63477883605269092015533                </td><td> 0.00000000000000095104514338505068840948 </td><td>-0.00000000000000054721799503638927754737 </td><td>...                                       </td><td> 1.01136560515359619216724                </td><td> 0.000000000000000124782349478084891110288</td><td>0                                         </td><td>0                                         </td><td>-0.000000000000000084466905975768589035294</td><td> 0.00000000000000312967591974941512951436 </td><td> 0.000000000000000056579290138350663702527</td><td>0                                         </td><td>0                                         </td><td>0                                         </td></tr>\n",
       "\t<tr><th scope=row>불법</th><td> 0.157823888653868205089736               </td><td> 0.00000000000000121881864563863299554414 </td><td> 1.62214187568935264138759                </td><td> 0.0322963480142327979960370              </td><td> 0.00000000000000309757380045862920387063 </td><td> 0.000000000000000217733249938907477303782</td><td> 0.484025192169792561891484               </td><td> 2.25279902677792476239915                </td><td> 0.00000000000000131051476321866747036787 </td><td>-0.00000000000000075409039791532019919237 </td><td>...                                       </td><td> 1.39370870552862480273859                </td><td> 0.000000000000000171948611353349226386553</td><td>0                                         </td><td>0                                         </td><td>-0.000000000000000116399327962228117932381</td><td> 0.00000000000000431265270537359021035817 </td><td> 0.000000000000000078244889472912685941114</td><td>0                                         </td><td>0                                         </td><td>0                                         </td></tr>\n",
       "\t<tr><th scope=row>경찰</th><td> 0.175822443690439117469637               </td><td> 0.00000000000000135780957804904555904797 </td><td> 1.80713384603006788076129                </td><td> 0.0348149257544983492529411              </td><td> 0.00000000000000345028250422864398794590 </td><td> 0.000000000000000241801960097922336262281</td><td> 0.539219359494895966733452               </td><td> 2.50971238625678694234011                </td><td> 0.00000000000000145995836264961285607192 </td><td>-0.00000000000000084008815734233021907743 </td><td>...                                       </td><td> 1.55265000047055856668976                </td><td> 0.000000000000000191556918131089649621340</td><td>0                                         </td><td>0                                         </td><td>-0.000000000000000129673739436184063702345</td><td> 0.00000000000000480444916909946987109564 </td><td> 0.000000000000000087208149036804462391620</td><td>0                                         </td><td>0                                         </td><td>0                                         </td></tr>\n",
       "\t<tr><th scope=row>민주</th><td> 0.000000000000000370758644               </td><td> 0.00000000000000000000000000000286524090 </td><td> 0.00000000000000381085349                </td><td> 0.0000000000000004915622278              </td><td> 0.00000000000000000000000000000747128762 </td><td> 0.000000000000000000000000000000783504396</td><td> 0.000000000000001138868378               </td><td> 0.00000000000000529239768                </td><td> 0.00000000000000000000000000000308227449 </td><td>-0.00000000000000000000000000000177158631 </td><td>...                                       </td><td> 0.00000000000000327411131                </td><td> 0.000000000000000000000000000000404318759</td><td>0                                         </td><td>0                                         </td><td>-0.000000000000000000000000000000273445458</td><td> 0.00000000000000000000000000001014094531 </td><td> 0.000000000000000000000000000000169514850</td><td>0                                         </td><td>0                                         </td><td>0                                         </td></tr>\n",
       "\t<tr><th scope=row>인사</th><td> 0.000000000000000054052802               </td><td> 0.00000000000000000000000000000041859814 </td><td> 0.00000000000000055564036                </td><td> 0.0000000000000002534707168              </td><td> 0.00000000000000000000000000000117429931 </td><td> 0.000000000000000000000000000000233191275</td><td> 0.000000000000000166822635               </td><td> 0.00000000000000077163838                </td><td> 0.00000000000000000000000000000045094871 </td><td>-0.00000000000000000000000000000025831541 </td><td>...                                       </td><td> 0.00000000000000047734130                </td><td> 0.000000000000000000000000000000059111029</td><td>0                                         </td><td>0                                         </td><td>-0.000000000000000000000000000000039866006</td><td> 0.00000000000000000000000000000148268598 </td><td> 0.000000000000000000000000000000018460434</td><td>0                                         </td><td>0                                         </td><td>0                                         </td></tr>\n",
       "\t<tr><th scope=row>수능</th><td> 0.000000000000000387358445               </td><td> 0.00000000000000000000000000000299352833 </td><td> 0.00000000000000398147525                </td><td> 0.0000000000000005142666565              </td><td> 0.00000000000000000000000000000780612166 </td><td> 0.000000000000000000000000000000819039258</td><td> 0.000000000000001189861407               </td><td> 0.00000000000000552935193                </td><td> 0.00000000000000000000000000000322028177 </td><td>-0.00000000000000000000000000000185090485 </td><td>...                                       </td><td> 0.00000000000000342070158                </td><td> 0.000000000000000000000000000000422421764</td><td>0                                         </td><td>0                                         </td><td>-0.000000000000000000000000000000285688304</td><td> 0.00000000000000000000000000001059499729 </td><td> 0.000000000000000000000000000000177080522</td><td>0                                         </td><td>0                                         </td><td>0                                         </td></tr>\n",
       "\t<tr><th scope=row>혼란</th><td> 0.000000000000000361392283               </td><td> 0.00000000000000000000000000000279203489 </td><td> 0.00000000000000371452747                </td><td> 0.0000000000000003083732677              </td><td> 0.00000000000000000000000000000720264356 </td><td> 0.000000000000000000000000000000651967457</td><td> 0.000000000000001109357962               </td><td> 0.00000000000000515864002                </td><td> 0.00000000000000000000000000000300291938 </td><td>-0.00000000000000000000000000000172679716 </td><td>...                                       </td><td> 0.00000000000000319138952                </td><td> 0.000000000000000000000000000000393949117</td><td>0                                         </td><td>0                                         </td><td>-0.000000000000000000000000000000266537051</td><td> 0.00000000000000000000000000000988077479 </td><td> 0.000000000000000000000000000000171105990</td><td>0                                         </td><td>0                                         </td><td>0                                         </td></tr>\n",
       "\t<tr><th scope=row>계속</th><td> 0.000000000000000034300755               </td><td> 0.00000000000000000000000000000026489080 </td><td> 0.00000000000000035254911                </td><td> 0.0000000000000000066206359              </td><td> 0.00000000000000000000000000000067302671 </td><td> 0.000000000000000000000000000000047060429</td><td> 0.000000000000000105194195               </td><td> 0.00000000000000048961337                </td><td> 0.00000000000000000000000000000028481808 </td><td>-0.00000000000000000000000000000016389063 </td><td>...                                       </td><td> 0.00000000000000030290254                </td><td> 0.000000000000000000000000000000037370197</td><td>0                                         </td><td>0                                         </td><td>-0.000000000000000000000000000000025297721</td><td> 0.00000000000000000000000000000093728381 </td><td> 0.000000000000000000000000000000017019109</td><td>0                                         </td><td>0                                         </td><td>0                                         </td></tr>\n",
       "\t<tr><th scope=row>출신</th><td>-0.000000000000000002206288               </td><td>-0.00000000000000000000000000000001703968 </td><td>-0.00000000000000002267671                </td><td>-0.0000000000000000007189466              </td><td>-0.00000000000000000000000000000004342746 </td><td>-0.000000000000000000000000000000003218800</td><td>-0.000000000000000006767556               </td><td>-0.00000000000000003149294                </td><td>-0.00000000000000000000000000000001832258 </td><td> 0.00000000000000000000000000000001054181 </td><td>...                                       </td><td>-0.00000000000000001948327                </td><td>-0.000000000000000000000000000000002403987</td><td>0                                         </td><td>0                                         </td><td> 0.000000000000000000000000000000001627197</td><td>-0.00000000000000000000000000000006029468 </td><td>-0.000000000000000000000000000000001084620</td><td>0                                         </td><td>0                                         </td><td>0                                         </td></tr>\n",
       "</tbody>\n",
       "</table>\n"
      ],
      "text/latex": [
       "\\begin{tabular}{r|lllllllllllllllllllllllllllllllllllllllllllllllllllllllllllllllllllllllllllllllllllllllllllllllllllllllllllllllllllllllllllllllllllllllllllllllllllllllllllllllllllllllllllllllllllllllllllllllllllllllllllllllllllllllllllllllllllllllllllllllllllllllllllllllllllllllllllllllllllllllllllllllllllllllllllllllllllllllllllllllllllllllllllllllllllllllllllllllllllllllllllllllllllllllllllllllllllllllllllllllllllllllllllllllllllllllllllllllllllllllllllllllllllllllllllllllllllllllllllllllllllllllllllllllllllllllllllllllllllllllllllllllllllllllllllllllllllllllllllllllllllllllllllllllllllllllllllllllllllllllllllllllllllllllllllllllllllllllllllllllllllllllllllllllllllllllllllllllllllllllllllllllllllllllllllllllllllllllllllllllllllllllllllllllllllllllllllllllllllllllllllllllllllllllllllllllllllllllllllllllllllllll}\n",
       "  & 1 & 2 & 3 & 4 & 5 & 7 & 8 & 9 & 10 & 11 & ... & 903 & 904 & 905 & 906 & 907 & 908 & 909 & 911 & 912 & 913\\\\\n",
       "\\hline\n",
       "\t사고 &  0.017121061398776740714034                &  0.00000000000000013221873919430483943155  &  0.17597322108038304655508                 &  0.0032492309439170093121607               &  0.00000000000000033591220257500934926256  &  0.000000000000000023453723431580121858500 &  0.052506951061415708947866                &  0.24438820562449750650735                 &  0.00000000000000014216513111317428454464  & -0.00000000000000008180523299143623450723  & ...                                        &  0.15119238554389619055840                 &  0.000000000000000018653108946619155338216 & 0                                          & 0                                          & -0.000000000000000012627238846410930650033 &  0.00000000000000046783954035697100739578  &  0.000000000000000008496915180611927756460 & 0                                          & 0                                          & 0                                         \\\\\n",
       "\t병원 &  0.000000000000000081397781                &  0.00000000000000000000000000000062833980  &  0.00000000000000083660342                 & -0.0000000000000000387436880               &  0.00000000000000000000000000000157165537  &  0.000000000000000000000000000000076044838 &  0.000000000000000249396416                &  0.00000000000000116186404                 &  0.00000000000000000000000000000067541600  & -0.00000000000000000000000000000038891158  & ...                                        &  0.00000000000000071880335                 &  0.000000000000000000000000000000088632183 & 0                                          & 0                                          & -0.000000000000000000000000000000060032893 &  0.00000000000000000000000000000222296153  &  0.000000000000000000000000000000042260320 & 0                                          & 0                                          & 0                                         \\\\\n",
       "\t건설 &  0.065580899205584575195616                &  0.00000000000000050645734005255414579907  &  0.67405203097073285167795                 &  0.0132150242809274710842349               &  0.00000000000000128704550717660124500158  &  0.000000000000000090340927474838293217280 &  0.201127138611341932383780                &  0.93611034599338105444133                 &  0.00000000000000054455922424655131648327  & -0.00000000000000031334876063876013023695  & ...                                        &  0.57913075914323186577093                 &  0.000000000000000071449988790217913215731 & 0                                          & 0                                          & -0.000000000000000048367662060715075934836 &  0.00000000000000179204105063354053833762  &  0.000000000000000032520322738597180743138 & 0                                          & 0                                          & 0                                         \\\\\n",
       "\t노조 &  0.121379115065782819393725                &  0.00000000000000093739447752626770295203  &  1.24755773793685897921080                 &  0.0302505338593409348058039               &  0.00000000000000238481263450212593261318  &  0.000000000000000170995556181462462176299 &  0.372277283109175294306681                &  1.73258333681260934255874                 &  0.00000000000000100793719516665384542536  & -0.00000000000000057995653644991933648063  & ...                                        &  1.07187305686954159611446                 &  0.000000000000000132247076435526662581237 & 0                                          & 0                                          & -0.000000000000000089520349149771296830627 &  0.00000000000000331689895110691000961085  &  0.000000000000000059990394799196114722709 & 0                                          & 0                                          & 0                                         \\\\\n",
       "\t청년 & -0.000691147583945507970778                &  0.00000000000000003431357085482617647575  & -0.00451877072369434237831                 &  8.2342468669683714921347928               &  0.00000000000000383909254264840817047477  &  0.000000000000005387201736654474167921569 &  0.033539991319619995302492                & -0.00709544853313587992050                 &  0.00000000000000006603773240609084068005  &  0.00000000000000000165716394001694325702  & ...                                        & -0.00567300950196587307206                 &  0.000000000000000006743206361114627728562 & 0                                          & 0                                          &  0.000000000000000000488587195476389029138 &  0.00000000000000017316761401053053112849  & -0.000000000000000283558664300569554213641 & 0                                          & 0                                          & 0                                         \\\\\n",
       "\t도약 & -0.000590689146107942620982                &  0.00000000000000003230192040180534233072  & -0.00366796335548051719716                 &  7.6553928000010840193567674               &  0.00000000000000357022373692931867293979  &  0.000000000000005008554895344029746391545 &  0.031341223206699013459353                & -0.00585622741875482973051                 &  0.00000000000000006182602166266495995195  &  0.00000000000000000129282365427156248914  & ...                                        & -0.00481613727118209832695                 &  0.000000000000000006325674596122674628491 & 0                                          & 0                                          &  0.000000000000000000415983437078064030188 &  0.00000000000000016241140412748616807595  & -0.000000000000000263598872875983866910510 & 0                                          & 0                                          & 0                                         \\\\\n",
       "\t계좌 & -0.000590689146107944138865                &  0.00000000000000003230192040180536082071  & -0.00366796335548053280967                 &  7.6553928000010893484272856               &  0.00000000000000357022373692932103953629  &  0.000000000000005008554895344032901419867 &  0.031341223206699034276035                & -0.00585622741875485228191                 &  0.00000000000000006182602166266499692758  &  0.00000000000000000129282365427156980783  & ...                                        & -0.00481613727118211307210                 &  0.000000000000000006325674596122677711095 & 0                                          & 0                                          &  0.000000000000000000415983437078065185774 &  0.00000000000000016241140412748624201854  & -0.000000000000000263598872875984064170253 & 0                                          & 0                                          & 0                                         \\\\\n",
       "\t은행 &  0.004731659305436176389537                &  0.00000000000000004316251361558982866003  &  0.04906451108125347432276                 &  1.3760774302135181379469486               &  0.00000000000000073624525887405404553712  &  0.000000000000000906327665970115408169971 &  0.020466395023844168032934                &  0.06800292231415459853761                 &  0.00000000000000005127648468566278251030  & -0.00000000000000002288284101362864727267  & ...                                        &  0.04185613163845192108425                 &  0.000000000000000006406963671131466499502 & 0                                          & 0                                          & -0.000000000000000003493257353711399343897 &  0.00000000000000016136822327943103129975  & -0.000000000000000044950084599523531495198 & 0                                          & 0                                          & 0                                         \\\\\n",
       "\t대통령 &  0.000000000000000238055336                &  0.00000000000000000000000000000184251247  &  0.00000000000000244704182                 &  0.0000000000000008990137490               &  0.00000000000000000000000000000507009131  &  0.000000000000000000000000000000884811815 &  0.000000000000000733766816                &  0.00000000000000339831934                 &  0.00000000000000000000000000000198414065  & -0.00000000000000000000000000000113761013  & ...                                        &  0.00000000000000210225974                 &  0.000000000000000000000000000000260134584 & 0                                          & 0                                          & -0.000000000000000000000000000000175574345 &  0.00000000000000000000000000000652486728  &  0.000000000000000000000000000000088776063 & 0                                          & 0                                          & 0                                         \\\\\n",
       "\t국정원 &  0.000000000000000087761200                &  0.00000000000000000000000000000068194961  &  0.00000000000000090229900                 &  0.0000000000000008902999652               &  0.00000000000000000000000000000213061502  &  0.000000000000000000000000000000691889533 &  0.000000000000000272929843                &  0.00000000000000125300842                 &  0.00000000000000000000000000000073634247  & -0.00000000000000000000000000000041950167  & ...                                        &  0.00000000000000077504581                 &  0.000000000000000000000000000000096409680 & 0                                          & 0                                          & -0.000000000000000000000000000000064728467 &  0.00000000000000000000000000000241848464  &  0.000000000000000000000000000000013506116 & 0                                          & 0                                          & 0                                         \\\\\n",
       "\t체포 &  0.000000000000000032597870                &  0.00000000000000000000000000000025501506  &  0.00000000000000033526007                 &  0.0000000000000006864038183               &  0.00000000000000000000000000000095782061  &  0.000000000000000000000000000000489753899 &  0.000000000000000102917034                &  0.00000000000000046553497                 &  0.00000000000000000000000000000027660643  & -0.00000000000000000000000000000015589005  & ...                                        &  0.00000000000000028790028                 &  0.000000000000000000000000000000036134071 & 0                                          & 0                                          & -0.000000000000000000000000000000024043545 &  0.00000000000000000000000000000090661421  & -0.000000000000000000000000000000007217787 & 0                                          & 0                                          & 0                                         \\\\\n",
       "\t공개 &  0.000000000000000010893738                &  0.00000000000000000000000000000007868180  &  0.00000000000000011161268                 & -0.0000000000000011288987157               & -0.00000000000000000000000000000031541662  & -0.000000000000000000000000000000725122320 &  0.000000000000000028511230                &  0.00000000000000015511813                 &  0.00000000000000000000000000000008059810  & -0.00000000000000000000000000000005182483  & ...                                        &  0.00000000000000009614113                 &  0.000000000000000000000000000000010838965 & 0                                          & 0                                          & -0.000000000000000000000000000000008031517 &  0.00000000000000000000000000000027129760  &  0.000000000000000000000000000000044305179 & 0                                          & 0                                          & 0                                         \\\\\n",
       "\t협력 &  0.044511596681981402401362                &  0.00000000000000034418261995618245007410  &  0.45752644102782236146254                 &  0.0994747688094863996566275               &  0.00000000000000091589902405262216093795  &  0.000000000000000120538921638625845761221 &  0.136902573600049093371922                &  0.63539480819951910106624                 &  0.00000000000000037039653647791542100294  & -0.00000000000000021269667966785683716705  & ...                                        &  0.39307702853916987040250                 &  0.000000000000000048577504415982536351871 & 0                                          & 0                                          & -0.000000000000000032828722069298262844963 &  0.00000000000000121841944142088412224127  &  0.000000000000000018959587228524764929843 & 0                                          & 0                                          & 0                                         \\\\\n",
       "\t확인 &  0.004753575896437956319063                &  0.00000000000000003673811882585375841997  &  0.04885991478182376973605                 &  0.0067701380652150852657023               &  0.00000000000000009600980822348859736702  &  0.000000000000000010351524915480967378202 &  0.014603700609100871143919                &  0.06785512030620428902683                 &  0.00000000000000003952257760786623682400  & -0.00000000000000002271398058793571383268  & ...                                        &  0.04197810601403875047088                 &  0.000000000000000005184283093972724116780 & 0                                          & 0                                          & -0.000000000000000003505903921501540180389 &  0.00000000000000013003013820504363497101  &  0.000000000000000002157299485083534997020 & 0                                          & 0                                          & 0                                         \\\\\n",
       "\t대구 &  0.203185145643347470079121                &  0.00000000000000156915379461160016697982  &  2.08837460540822750232337                 &  0.0469866270438109440155117               &  0.00000000000000399039909358527468278069  &  0.000000000000000283852029447541377889241 &  0.623165643931776425112901                &  2.90029341804679630101305                 &  0.00000000000000168722602636285121772974  & -0.00000000000000097082982274562039460078  & ...                                        &  1.79428446060300639253171                 &  0.000000000000000221374475705798209228606 & 0                                          & 0                                          & -0.000000000000000149854478931739320103980 &  0.00000000000000555230821784427192944547  &  0.000000000000000100547798931400602772540 & 0                                          & 0                                          & 0                                         \\\\\n",
       "\t전국 &  0.026569314867097636873039                &  0.00000000000000020518540555018645432216  &  0.27308411587046055313266                 &  0.0054136480832387536346606               &  0.00000000000000052145900353955190703430  &  0.000000000000000036639633799134041637451 &  0.081484506998401207145122                &  0.37925390094196531620696                 &  0.00000000000000022062216008177973503718  & -0.00000000000000012694950463045740622929  & ...                                        &  0.23462788525393482585990                 &  0.000000000000000028947160514271909295680 & 0                                          & 0                                          & -0.000000000000000019595578412427185472505 &  0.00000000000000072602533483664824314439  &  0.000000000000000013173164076686511344411 & 0                                          & 0                                          & 0                                         \\\\\n",
       "\t최고 &  0.045842773350144548627494                &  0.00000000000000035402591198444853652118  &  0.47118002652354507020505                 &  0.0090115463548472198029859               &  0.00000000000000089957287152325236300257  &  0.000000000000000063002734154629390240371 &  0.140592180461142912673012                &  0.65436567588610372592228                 &  0.00000000000000038065924901068046068940  & -0.00000000000000021903897971784320615994  & ...                                        &  0.40482762020835261207452                 &  0.000000000000000049945215495384392527523 & 0                                          & 0                                          & -0.000000000000000033810267289632985564501 &  0.00000000000000125267855234272119132992  &  0.000000000000000022740337552823375799269 & 0                                          & 0                                          & 0                                         \\\\\n",
       "\t이재명 &  0.000000000000000021590647                &  0.00000000000000000000000000000016676121  &  0.00000000000000022191407                 &  0.0000000000000000094446305               &  0.00000000000000000000000000000042610648  &  0.000000000000000000000000000000033075404 &  0.000000000000000066237453                &  0.00000000000000030818944                 &  0.00000000000000000000000000000017932505  & -0.00000000000000000000000000000010316219  & ...                                        &  0.00000000000000019066261                 &  0.000000000000000000000000000000023527515 & 0                                          & 0                                          & -0.000000000000000000000000000000015923691 &  0.00000000000000000000000000000059009739  &  0.000000000000000000000000000000010531189 & 0                                          & 0                                          & 0                                         \\\\\n",
       "\t조국 &  0.000000000000000129112784                &  0.00000000000000000000000000000099799274  &  0.00000000000000132710272                 &  0.0000000000000002133051395               &  0.00000000000000000000000000000262150567  &  0.000000000000000000000000000000300410746 &  0.000000000000000396781310                &  0.00000000000000184303579                 &  0.00000000000000000000000000000107373673  & -0.00000000000000000000000000000061694465  & ...                                        &  0.00000000000000114017690                 &  0.000000000000000000000000000000140838087 & 0                                          & 0                                          & -0.000000000000000000000000000000095224602 &  0.00000000000000000000000000000353245962  &  0.000000000000000000000000000000057582939 & 0                                          & 0                                          & 0                                         \\\\\n",
       "\t이강인 & -0.000000000000000007550255                & -0.00000000000000000000000000000005830762  & -0.00000000000000007760283                 & -0.0000000000000000014716788               & -0.00000000000000000000000000000014815282  & -0.000000000000000000000000000000010368294 & -0.000000000000000023155325                & -0.00000000000000010777331                 & -0.00000000000000000000000000000006269406  &  0.00000000000000000000000000000003607548  & ...                                        & -0.00000000000000006667467                 & -0.000000000000000000000000000000008225911 & 0                                          & 0                                          &  0.000000000000000000000000000000005568514 & -0.00000000000000000000000000000020631451  & -0.000000000000000000000000000000003745739 & 0                                          & 0                                          & 0                                         \\\\\n",
       "\t감독 &  0.000000000000000006871899                &  0.00000000000000000000000000000005307004  &  0.00000000000000007063065                 &  0.0000000000000000015660476               &  0.00000000000000000000000000000013494799  &  0.000000000000000000000000000000009585021 &  0.000000000000000021075907                &  0.00000000000000009809045                 &  0.00000000000000000000000000000005706326  & -0.00000000000000000000000000000003283431  & ...                                        &  0.00000000000000006068427                 &  0.000000000000000000000000000000007487057 & 0                                          & 0                                          & -0.000000000000000000000000000000005068210 &  0.00000000000000000000000000000018778338  &  0.000000000000000000000000000000003401408 & 0                                          & 0                                          & 0                                         \\\\\n",
       "\t협상 & -0.000000000000000010682990                & -0.00000000000000000000000000000008250104  & -0.00000000000000010980167                 & -0.0000000000000000021955822               & -0.00000000000000000000000000000020967706  & -0.000000000000000000000000000000014744406 & -0.000000000000000032763372                & -0.00000000000000015249041                 & -0.00000000000000000000000000000008870792  &  0.00000000000000000000000000000005104386  & ...                                        & -0.00000000000000009433918                 & -0.000000000000000000000000000000011639091 & 0                                          & 0                                          &  0.000000000000000000000000000000007878990 & -0.00000000000000000000000000000029192070  & -0.000000000000000000000000000000005296017 & 0                                          & 0                                          & 0                                         \\\\\n",
       "\t감사 &  0.000000000000000039670336                &  0.00000000000000000000000000000030653152  &  0.00000000000000040774991                 &  0.0000000000000000437124756               &  0.00000000000000000000000000000079525448  &  0.000000000000000000000000000000078020251 &  0.000000000000000121817869                &  0.00000000000000056627159                 &  0.00000000000000000000000000000032971896  & -0.00000000000000000000000000000018955395  & ...                                        &  0.00000000000000035032204                 &  0.000000000000000000000000000000043253105 & 0                                          & 0                                          & -0.000000000000000000000000000000029258023 &  0.00000000000000000000000000000108485101  &  0.000000000000000000000000000000018443250 & 0                                          & 0                                          & 0                                         \\\\\n",
       "\t바이든 &  0.000000000000000053236318                &  0.00000000000000000000000000000041112388  &  0.00000000000000054717220                 &  0.0000000000000000105683744               &  0.00000000000000000000000000000104470481  &  0.000000000000000000000000000000073231532 &  0.000000000000000163267402                &  0.00000000000000075990212                 &  0.00000000000000000000000000000044205306  & -0.00000000000000000000000000000025436571  & ...                                        &  0.00000000000000047011842                 &  0.000000000000000000000000000000058000498 & 0                                          & 0                                          & -0.000000000000000000000000000000039263204 &  0.00000000000000000000000000000145471356  &  0.000000000000000000000000000000026404352 & 0                                          & 0                                          & 0                                         \\\\\n",
       "\t반격 & -0.000000000000000002622780                & -0.00000000000000000000000000000002025301  & -0.00000000000000002695728                 & -0.0000000000000000001621352               & -0.00000000000000000000000000000005130146  & -0.000000000000000000000000000000003373274 & -0.000000000000000008042102                & -0.00000000000000003743779                 & -0.00000000000000000000000000000002177539  &  0.00000000000000000000000000000001253170  & ...                                        & -0.00000000000000002316119                 & -0.000000000000000000000000000000002857170 & 0                                          & 0                                          &  0.000000000000000000000000000000001934370 & -0.00000000000000000000000000000007166065  & -0.000000000000000000000000000000001313188 & 0                                          & 0                                          & 0                                         \\\\\n",
       "\t참석 & -0.000000000000000013373731                & -0.00000000000000000000000000000010327983  & -0.00000000000000013745753                 & -0.0000000000000000025668911               & -0.00000000000000000000000000000026240374  & -0.000000000000000000000000000000018339211 & -0.000000000000000041014747                & -0.00000000000000019089835                 & -0.00000000000000000000000000000011104934  &  0.00000000000000000000000000000006390032  & ...                                        & -0.00000000000000011810053                 & -0.000000000000000000000000000000014570482 & 0                                          & 0                                          &  0.000000000000000000000000000000009863483 & -0.00000000000000000000000000000036544299  & -0.000000000000000000000000000000006636182 & 0                                          & 0                                          & 0                                         \\\\\n",
       "\t홍준표 &  0.114527235134269586569467                &  0.00000000000000088448178482187333531925  &  1.17713303156040027808160                 &  0.0292590666078687451634455               &  0.00000000000000225052447706947927560418  &  0.000000000000000161811448958757909000888 &  0.351265243365992019253241                &  1.63477883605269092015533                 &  0.00000000000000095104514338505068840948  & -0.00000000000000054721799503638927754737  & ...                                        &  1.01136560515359619216724                 &  0.000000000000000124782349478084891110288 & 0                                          & 0                                          & -0.000000000000000084466905975768589035294 &  0.00000000000000312967591974941512951436  &  0.000000000000000056579290138350663702527 & 0                                          & 0                                          & 0                                         \\\\\n",
       "\t불법 &  0.157823888653868205089736                &  0.00000000000000121881864563863299554414  &  1.62214187568935264138759                 &  0.0322963480142327979960370               &  0.00000000000000309757380045862920387063  &  0.000000000000000217733249938907477303782 &  0.484025192169792561891484                &  2.25279902677792476239915                 &  0.00000000000000131051476321866747036787  & -0.00000000000000075409039791532019919237  & ...                                        &  1.39370870552862480273859                 &  0.000000000000000171948611353349226386553 & 0                                          & 0                                          & -0.000000000000000116399327962228117932381 &  0.00000000000000431265270537359021035817  &  0.000000000000000078244889472912685941114 & 0                                          & 0                                          & 0                                         \\\\\n",
       "\t경찰 &  0.175822443690439117469637                &  0.00000000000000135780957804904555904797  &  1.80713384603006788076129                 &  0.0348149257544983492529411               &  0.00000000000000345028250422864398794590  &  0.000000000000000241801960097922336262281 &  0.539219359494895966733452                &  2.50971238625678694234011                 &  0.00000000000000145995836264961285607192  & -0.00000000000000084008815734233021907743  & ...                                        &  1.55265000047055856668976                 &  0.000000000000000191556918131089649621340 & 0                                          & 0                                          & -0.000000000000000129673739436184063702345 &  0.00000000000000480444916909946987109564  &  0.000000000000000087208149036804462391620 & 0                                          & 0                                          & 0                                         \\\\\n",
       "\t민주 &  0.000000000000000370758644                &  0.00000000000000000000000000000286524090  &  0.00000000000000381085349                 &  0.0000000000000004915622278               &  0.00000000000000000000000000000747128762  &  0.000000000000000000000000000000783504396 &  0.000000000000001138868378                &  0.00000000000000529239768                 &  0.00000000000000000000000000000308227449  & -0.00000000000000000000000000000177158631  & ...                                        &  0.00000000000000327411131                 &  0.000000000000000000000000000000404318759 & 0                                          & 0                                          & -0.000000000000000000000000000000273445458 &  0.00000000000000000000000000001014094531  &  0.000000000000000000000000000000169514850 & 0                                          & 0                                          & 0                                         \\\\\n",
       "\t인사 &  0.000000000000000054052802                &  0.00000000000000000000000000000041859814  &  0.00000000000000055564036                 &  0.0000000000000002534707168               &  0.00000000000000000000000000000117429931  &  0.000000000000000000000000000000233191275 &  0.000000000000000166822635                &  0.00000000000000077163838                 &  0.00000000000000000000000000000045094871  & -0.00000000000000000000000000000025831541  & ...                                        &  0.00000000000000047734130                 &  0.000000000000000000000000000000059111029 & 0                                          & 0                                          & -0.000000000000000000000000000000039866006 &  0.00000000000000000000000000000148268598  &  0.000000000000000000000000000000018460434 & 0                                          & 0                                          & 0                                         \\\\\n",
       "\t수능 &  0.000000000000000387358445                &  0.00000000000000000000000000000299352833  &  0.00000000000000398147525                 &  0.0000000000000005142666565               &  0.00000000000000000000000000000780612166  &  0.000000000000000000000000000000819039258 &  0.000000000000001189861407                &  0.00000000000000552935193                 &  0.00000000000000000000000000000322028177  & -0.00000000000000000000000000000185090485  & ...                                        &  0.00000000000000342070158                 &  0.000000000000000000000000000000422421764 & 0                                          & 0                                          & -0.000000000000000000000000000000285688304 &  0.00000000000000000000000000001059499729  &  0.000000000000000000000000000000177080522 & 0                                          & 0                                          & 0                                         \\\\\n",
       "\t혼란 &  0.000000000000000361392283                &  0.00000000000000000000000000000279203489  &  0.00000000000000371452747                 &  0.0000000000000003083732677               &  0.00000000000000000000000000000720264356  &  0.000000000000000000000000000000651967457 &  0.000000000000001109357962                &  0.00000000000000515864002                 &  0.00000000000000000000000000000300291938  & -0.00000000000000000000000000000172679716  & ...                                        &  0.00000000000000319138952                 &  0.000000000000000000000000000000393949117 & 0                                          & 0                                          & -0.000000000000000000000000000000266537051 &  0.00000000000000000000000000000988077479  &  0.000000000000000000000000000000171105990 & 0                                          & 0                                          & 0                                         \\\\\n",
       "\t계속 &  0.000000000000000034300755                &  0.00000000000000000000000000000026489080  &  0.00000000000000035254911                 &  0.0000000000000000066206359               &  0.00000000000000000000000000000067302671  &  0.000000000000000000000000000000047060429 &  0.000000000000000105194195                &  0.00000000000000048961337                 &  0.00000000000000000000000000000028481808  & -0.00000000000000000000000000000016389063  & ...                                        &  0.00000000000000030290254                 &  0.000000000000000000000000000000037370197 & 0                                          & 0                                          & -0.000000000000000000000000000000025297721 &  0.00000000000000000000000000000093728381  &  0.000000000000000000000000000000017019109 & 0                                          & 0                                          & 0                                         \\\\\n",
       "\t출신 & -0.000000000000000002206288                & -0.00000000000000000000000000000001703968  & -0.00000000000000002267671                 & -0.0000000000000000007189466               & -0.00000000000000000000000000000004342746  & -0.000000000000000000000000000000003218800 & -0.000000000000000006767556                & -0.00000000000000003149294                 & -0.00000000000000000000000000000001832258  &  0.00000000000000000000000000000001054181  & ...                                        & -0.00000000000000001948327                 & -0.000000000000000000000000000000002403987 & 0                                          & 0                                          &  0.000000000000000000000000000000001627197 & -0.00000000000000000000000000000006029468  & -0.000000000000000000000000000000001084620 & 0                                          & 0                                          & 0                                         \\\\\n",
       "\\end{tabular}\n"
      ],
      "text/markdown": [
       "\n",
       "| <!--/--> | 1 | 2 | 3 | 4 | 5 | 7 | 8 | 9 | 10 | 11 | ... | 903 | 904 | 905 | 906 | 907 | 908 | 909 | 911 | 912 | 913 |\n",
       "|---|---|---|---|---|---|---|---|---|---|---|---|---|---|---|---|---|---|---|---|---|---|\n",
       "| 사고 |  0.017121061398776740714034                |  0.00000000000000013221873919430483943155  |  0.17597322108038304655508                 |  0.0032492309439170093121607               |  0.00000000000000033591220257500934926256  |  0.000000000000000023453723431580121858500 |  0.052506951061415708947866                |  0.24438820562449750650735                 |  0.00000000000000014216513111317428454464  | -0.00000000000000008180523299143623450723  | ...                                        |  0.15119238554389619055840                 |  0.000000000000000018653108946619155338216 | 0                                          | 0                                          | -0.000000000000000012627238846410930650033 |  0.00000000000000046783954035697100739578  |  0.000000000000000008496915180611927756460 | 0                                          | 0                                          | 0                                          |\n",
       "| 병원 |  0.000000000000000081397781                |  0.00000000000000000000000000000062833980  |  0.00000000000000083660342                 | -0.0000000000000000387436880               |  0.00000000000000000000000000000157165537  |  0.000000000000000000000000000000076044838 |  0.000000000000000249396416                |  0.00000000000000116186404                 |  0.00000000000000000000000000000067541600  | -0.00000000000000000000000000000038891158  | ...                                        |  0.00000000000000071880335                 |  0.000000000000000000000000000000088632183 | 0                                          | 0                                          | -0.000000000000000000000000000000060032893 |  0.00000000000000000000000000000222296153  |  0.000000000000000000000000000000042260320 | 0                                          | 0                                          | 0                                          |\n",
       "| 건설 |  0.065580899205584575195616                |  0.00000000000000050645734005255414579907  |  0.67405203097073285167795                 |  0.0132150242809274710842349               |  0.00000000000000128704550717660124500158  |  0.000000000000000090340927474838293217280 |  0.201127138611341932383780                |  0.93611034599338105444133                 |  0.00000000000000054455922424655131648327  | -0.00000000000000031334876063876013023695  | ...                                        |  0.57913075914323186577093                 |  0.000000000000000071449988790217913215731 | 0                                          | 0                                          | -0.000000000000000048367662060715075934836 |  0.00000000000000179204105063354053833762  |  0.000000000000000032520322738597180743138 | 0                                          | 0                                          | 0                                          |\n",
       "| 노조 |  0.121379115065782819393725                |  0.00000000000000093739447752626770295203  |  1.24755773793685897921080                 |  0.0302505338593409348058039               |  0.00000000000000238481263450212593261318  |  0.000000000000000170995556181462462176299 |  0.372277283109175294306681                |  1.73258333681260934255874                 |  0.00000000000000100793719516665384542536  | -0.00000000000000057995653644991933648063  | ...                                        |  1.07187305686954159611446                 |  0.000000000000000132247076435526662581237 | 0                                          | 0                                          | -0.000000000000000089520349149771296830627 |  0.00000000000000331689895110691000961085  |  0.000000000000000059990394799196114722709 | 0                                          | 0                                          | 0                                          |\n",
       "| 청년 | -0.000691147583945507970778                |  0.00000000000000003431357085482617647575  | -0.00451877072369434237831                 |  8.2342468669683714921347928               |  0.00000000000000383909254264840817047477  |  0.000000000000005387201736654474167921569 |  0.033539991319619995302492                | -0.00709544853313587992050                 |  0.00000000000000006603773240609084068005  |  0.00000000000000000165716394001694325702  | ...                                        | -0.00567300950196587307206                 |  0.000000000000000006743206361114627728562 | 0                                          | 0                                          |  0.000000000000000000488587195476389029138 |  0.00000000000000017316761401053053112849  | -0.000000000000000283558664300569554213641 | 0                                          | 0                                          | 0                                          |\n",
       "| 도약 | -0.000590689146107942620982                |  0.00000000000000003230192040180534233072  | -0.00366796335548051719716                 |  7.6553928000010840193567674               |  0.00000000000000357022373692931867293979  |  0.000000000000005008554895344029746391545 |  0.031341223206699013459353                | -0.00585622741875482973051                 |  0.00000000000000006182602166266495995195  |  0.00000000000000000129282365427156248914  | ...                                        | -0.00481613727118209832695                 |  0.000000000000000006325674596122674628491 | 0                                          | 0                                          |  0.000000000000000000415983437078064030188 |  0.00000000000000016241140412748616807595  | -0.000000000000000263598872875983866910510 | 0                                          | 0                                          | 0                                          |\n",
       "| 계좌 | -0.000590689146107944138865                |  0.00000000000000003230192040180536082071  | -0.00366796335548053280967                 |  7.6553928000010893484272856               |  0.00000000000000357022373692932103953629  |  0.000000000000005008554895344032901419867 |  0.031341223206699034276035                | -0.00585622741875485228191                 |  0.00000000000000006182602166266499692758  |  0.00000000000000000129282365427156980783  | ...                                        | -0.00481613727118211307210                 |  0.000000000000000006325674596122677711095 | 0                                          | 0                                          |  0.000000000000000000415983437078065185774 |  0.00000000000000016241140412748624201854  | -0.000000000000000263598872875984064170253 | 0                                          | 0                                          | 0                                          |\n",
       "| 은행 |  0.004731659305436176389537                |  0.00000000000000004316251361558982866003  |  0.04906451108125347432276                 |  1.3760774302135181379469486               |  0.00000000000000073624525887405404553712  |  0.000000000000000906327665970115408169971 |  0.020466395023844168032934                |  0.06800292231415459853761                 |  0.00000000000000005127648468566278251030  | -0.00000000000000002288284101362864727267  | ...                                        |  0.04185613163845192108425                 |  0.000000000000000006406963671131466499502 | 0                                          | 0                                          | -0.000000000000000003493257353711399343897 |  0.00000000000000016136822327943103129975  | -0.000000000000000044950084599523531495198 | 0                                          | 0                                          | 0                                          |\n",
       "| 대통령 |  0.000000000000000238055336                |  0.00000000000000000000000000000184251247  |  0.00000000000000244704182                 |  0.0000000000000008990137490               |  0.00000000000000000000000000000507009131  |  0.000000000000000000000000000000884811815 |  0.000000000000000733766816                |  0.00000000000000339831934                 |  0.00000000000000000000000000000198414065  | -0.00000000000000000000000000000113761013  | ...                                        |  0.00000000000000210225974                 |  0.000000000000000000000000000000260134584 | 0                                          | 0                                          | -0.000000000000000000000000000000175574345 |  0.00000000000000000000000000000652486728  |  0.000000000000000000000000000000088776063 | 0                                          | 0                                          | 0                                          |\n",
       "| 국정원 |  0.000000000000000087761200                |  0.00000000000000000000000000000068194961  |  0.00000000000000090229900                 |  0.0000000000000008902999652               |  0.00000000000000000000000000000213061502  |  0.000000000000000000000000000000691889533 |  0.000000000000000272929843                |  0.00000000000000125300842                 |  0.00000000000000000000000000000073634247  | -0.00000000000000000000000000000041950167  | ...                                        |  0.00000000000000077504581                 |  0.000000000000000000000000000000096409680 | 0                                          | 0                                          | -0.000000000000000000000000000000064728467 |  0.00000000000000000000000000000241848464  |  0.000000000000000000000000000000013506116 | 0                                          | 0                                          | 0                                          |\n",
       "| 체포 |  0.000000000000000032597870                |  0.00000000000000000000000000000025501506  |  0.00000000000000033526007                 |  0.0000000000000006864038183               |  0.00000000000000000000000000000095782061  |  0.000000000000000000000000000000489753899 |  0.000000000000000102917034                |  0.00000000000000046553497                 |  0.00000000000000000000000000000027660643  | -0.00000000000000000000000000000015589005  | ...                                        |  0.00000000000000028790028                 |  0.000000000000000000000000000000036134071 | 0                                          | 0                                          | -0.000000000000000000000000000000024043545 |  0.00000000000000000000000000000090661421  | -0.000000000000000000000000000000007217787 | 0                                          | 0                                          | 0                                          |\n",
       "| 공개 |  0.000000000000000010893738                |  0.00000000000000000000000000000007868180  |  0.00000000000000011161268                 | -0.0000000000000011288987157               | -0.00000000000000000000000000000031541662  | -0.000000000000000000000000000000725122320 |  0.000000000000000028511230                |  0.00000000000000015511813                 |  0.00000000000000000000000000000008059810  | -0.00000000000000000000000000000005182483  | ...                                        |  0.00000000000000009614113                 |  0.000000000000000000000000000000010838965 | 0                                          | 0                                          | -0.000000000000000000000000000000008031517 |  0.00000000000000000000000000000027129760  |  0.000000000000000000000000000000044305179 | 0                                          | 0                                          | 0                                          |\n",
       "| 협력 |  0.044511596681981402401362                |  0.00000000000000034418261995618245007410  |  0.45752644102782236146254                 |  0.0994747688094863996566275               |  0.00000000000000091589902405262216093795  |  0.000000000000000120538921638625845761221 |  0.136902573600049093371922                |  0.63539480819951910106624                 |  0.00000000000000037039653647791542100294  | -0.00000000000000021269667966785683716705  | ...                                        |  0.39307702853916987040250                 |  0.000000000000000048577504415982536351871 | 0                                          | 0                                          | -0.000000000000000032828722069298262844963 |  0.00000000000000121841944142088412224127  |  0.000000000000000018959587228524764929843 | 0                                          | 0                                          | 0                                          |\n",
       "| 확인 |  0.004753575896437956319063                |  0.00000000000000003673811882585375841997  |  0.04885991478182376973605                 |  0.0067701380652150852657023               |  0.00000000000000009600980822348859736702  |  0.000000000000000010351524915480967378202 |  0.014603700609100871143919                |  0.06785512030620428902683                 |  0.00000000000000003952257760786623682400  | -0.00000000000000002271398058793571383268  | ...                                        |  0.04197810601403875047088                 |  0.000000000000000005184283093972724116780 | 0                                          | 0                                          | -0.000000000000000003505903921501540180389 |  0.00000000000000013003013820504363497101  |  0.000000000000000002157299485083534997020 | 0                                          | 0                                          | 0                                          |\n",
       "| 대구 |  0.203185145643347470079121                |  0.00000000000000156915379461160016697982  |  2.08837460540822750232337                 |  0.0469866270438109440155117               |  0.00000000000000399039909358527468278069  |  0.000000000000000283852029447541377889241 |  0.623165643931776425112901                |  2.90029341804679630101305                 |  0.00000000000000168722602636285121772974  | -0.00000000000000097082982274562039460078  | ...                                        |  1.79428446060300639253171                 |  0.000000000000000221374475705798209228606 | 0                                          | 0                                          | -0.000000000000000149854478931739320103980 |  0.00000000000000555230821784427192944547  |  0.000000000000000100547798931400602772540 | 0                                          | 0                                          | 0                                          |\n",
       "| 전국 |  0.026569314867097636873039                |  0.00000000000000020518540555018645432216  |  0.27308411587046055313266                 |  0.0054136480832387536346606               |  0.00000000000000052145900353955190703430  |  0.000000000000000036639633799134041637451 |  0.081484506998401207145122                |  0.37925390094196531620696                 |  0.00000000000000022062216008177973503718  | -0.00000000000000012694950463045740622929  | ...                                        |  0.23462788525393482585990                 |  0.000000000000000028947160514271909295680 | 0                                          | 0                                          | -0.000000000000000019595578412427185472505 |  0.00000000000000072602533483664824314439  |  0.000000000000000013173164076686511344411 | 0                                          | 0                                          | 0                                          |\n",
       "| 최고 |  0.045842773350144548627494                |  0.00000000000000035402591198444853652118  |  0.47118002652354507020505                 |  0.0090115463548472198029859               |  0.00000000000000089957287152325236300257  |  0.000000000000000063002734154629390240371 |  0.140592180461142912673012                |  0.65436567588610372592228                 |  0.00000000000000038065924901068046068940  | -0.00000000000000021903897971784320615994  | ...                                        |  0.40482762020835261207452                 |  0.000000000000000049945215495384392527523 | 0                                          | 0                                          | -0.000000000000000033810267289632985564501 |  0.00000000000000125267855234272119132992  |  0.000000000000000022740337552823375799269 | 0                                          | 0                                          | 0                                          |\n",
       "| 이재명 |  0.000000000000000021590647                |  0.00000000000000000000000000000016676121  |  0.00000000000000022191407                 |  0.0000000000000000094446305               |  0.00000000000000000000000000000042610648  |  0.000000000000000000000000000000033075404 |  0.000000000000000066237453                |  0.00000000000000030818944                 |  0.00000000000000000000000000000017932505  | -0.00000000000000000000000000000010316219  | ...                                        |  0.00000000000000019066261                 |  0.000000000000000000000000000000023527515 | 0                                          | 0                                          | -0.000000000000000000000000000000015923691 |  0.00000000000000000000000000000059009739  |  0.000000000000000000000000000000010531189 | 0                                          | 0                                          | 0                                          |\n",
       "| 조국 |  0.000000000000000129112784                |  0.00000000000000000000000000000099799274  |  0.00000000000000132710272                 |  0.0000000000000002133051395               |  0.00000000000000000000000000000262150567  |  0.000000000000000000000000000000300410746 |  0.000000000000000396781310                |  0.00000000000000184303579                 |  0.00000000000000000000000000000107373673  | -0.00000000000000000000000000000061694465  | ...                                        |  0.00000000000000114017690                 |  0.000000000000000000000000000000140838087 | 0                                          | 0                                          | -0.000000000000000000000000000000095224602 |  0.00000000000000000000000000000353245962  |  0.000000000000000000000000000000057582939 | 0                                          | 0                                          | 0                                          |\n",
       "| 이강인 | -0.000000000000000007550255                | -0.00000000000000000000000000000005830762  | -0.00000000000000007760283                 | -0.0000000000000000014716788               | -0.00000000000000000000000000000014815282  | -0.000000000000000000000000000000010368294 | -0.000000000000000023155325                | -0.00000000000000010777331                 | -0.00000000000000000000000000000006269406  |  0.00000000000000000000000000000003607548  | ...                                        | -0.00000000000000006667467                 | -0.000000000000000000000000000000008225911 | 0                                          | 0                                          |  0.000000000000000000000000000000005568514 | -0.00000000000000000000000000000020631451  | -0.000000000000000000000000000000003745739 | 0                                          | 0                                          | 0                                          |\n",
       "| 감독 |  0.000000000000000006871899                |  0.00000000000000000000000000000005307004  |  0.00000000000000007063065                 |  0.0000000000000000015660476               |  0.00000000000000000000000000000013494799  |  0.000000000000000000000000000000009585021 |  0.000000000000000021075907                |  0.00000000000000009809045                 |  0.00000000000000000000000000000005706326  | -0.00000000000000000000000000000003283431  | ...                                        |  0.00000000000000006068427                 |  0.000000000000000000000000000000007487057 | 0                                          | 0                                          | -0.000000000000000000000000000000005068210 |  0.00000000000000000000000000000018778338  |  0.000000000000000000000000000000003401408 | 0                                          | 0                                          | 0                                          |\n",
       "| 협상 | -0.000000000000000010682990                | -0.00000000000000000000000000000008250104  | -0.00000000000000010980167                 | -0.0000000000000000021955822               | -0.00000000000000000000000000000020967706  | -0.000000000000000000000000000000014744406 | -0.000000000000000032763372                | -0.00000000000000015249041                 | -0.00000000000000000000000000000008870792  |  0.00000000000000000000000000000005104386  | ...                                        | -0.00000000000000009433918                 | -0.000000000000000000000000000000011639091 | 0                                          | 0                                          |  0.000000000000000000000000000000007878990 | -0.00000000000000000000000000000029192070  | -0.000000000000000000000000000000005296017 | 0                                          | 0                                          | 0                                          |\n",
       "| 감사 |  0.000000000000000039670336                |  0.00000000000000000000000000000030653152  |  0.00000000000000040774991                 |  0.0000000000000000437124756               |  0.00000000000000000000000000000079525448  |  0.000000000000000000000000000000078020251 |  0.000000000000000121817869                |  0.00000000000000056627159                 |  0.00000000000000000000000000000032971896  | -0.00000000000000000000000000000018955395  | ...                                        |  0.00000000000000035032204                 |  0.000000000000000000000000000000043253105 | 0                                          | 0                                          | -0.000000000000000000000000000000029258023 |  0.00000000000000000000000000000108485101  |  0.000000000000000000000000000000018443250 | 0                                          | 0                                          | 0                                          |\n",
       "| 바이든 |  0.000000000000000053236318                |  0.00000000000000000000000000000041112388  |  0.00000000000000054717220                 |  0.0000000000000000105683744               |  0.00000000000000000000000000000104470481  |  0.000000000000000000000000000000073231532 |  0.000000000000000163267402                |  0.00000000000000075990212                 |  0.00000000000000000000000000000044205306  | -0.00000000000000000000000000000025436571  | ...                                        |  0.00000000000000047011842                 |  0.000000000000000000000000000000058000498 | 0                                          | 0                                          | -0.000000000000000000000000000000039263204 |  0.00000000000000000000000000000145471356  |  0.000000000000000000000000000000026404352 | 0                                          | 0                                          | 0                                          |\n",
       "| 반격 | -0.000000000000000002622780                | -0.00000000000000000000000000000002025301  | -0.00000000000000002695728                 | -0.0000000000000000001621352               | -0.00000000000000000000000000000005130146  | -0.000000000000000000000000000000003373274 | -0.000000000000000008042102                | -0.00000000000000003743779                 | -0.00000000000000000000000000000002177539  |  0.00000000000000000000000000000001253170  | ...                                        | -0.00000000000000002316119                 | -0.000000000000000000000000000000002857170 | 0                                          | 0                                          |  0.000000000000000000000000000000001934370 | -0.00000000000000000000000000000007166065  | -0.000000000000000000000000000000001313188 | 0                                          | 0                                          | 0                                          |\n",
       "| 참석 | -0.000000000000000013373731                | -0.00000000000000000000000000000010327983  | -0.00000000000000013745753                 | -0.0000000000000000025668911               | -0.00000000000000000000000000000026240374  | -0.000000000000000000000000000000018339211 | -0.000000000000000041014747                | -0.00000000000000019089835                 | -0.00000000000000000000000000000011104934  |  0.00000000000000000000000000000006390032  | ...                                        | -0.00000000000000011810053                 | -0.000000000000000000000000000000014570482 | 0                                          | 0                                          |  0.000000000000000000000000000000009863483 | -0.00000000000000000000000000000036544299  | -0.000000000000000000000000000000006636182 | 0                                          | 0                                          | 0                                          |\n",
       "| 홍준표 |  0.114527235134269586569467                |  0.00000000000000088448178482187333531925  |  1.17713303156040027808160                 |  0.0292590666078687451634455               |  0.00000000000000225052447706947927560418  |  0.000000000000000161811448958757909000888 |  0.351265243365992019253241                |  1.63477883605269092015533                 |  0.00000000000000095104514338505068840948  | -0.00000000000000054721799503638927754737  | ...                                        |  1.01136560515359619216724                 |  0.000000000000000124782349478084891110288 | 0                                          | 0                                          | -0.000000000000000084466905975768589035294 |  0.00000000000000312967591974941512951436  |  0.000000000000000056579290138350663702527 | 0                                          | 0                                          | 0                                          |\n",
       "| 불법 |  0.157823888653868205089736                |  0.00000000000000121881864563863299554414  |  1.62214187568935264138759                 |  0.0322963480142327979960370               |  0.00000000000000309757380045862920387063  |  0.000000000000000217733249938907477303782 |  0.484025192169792561891484                |  2.25279902677792476239915                 |  0.00000000000000131051476321866747036787  | -0.00000000000000075409039791532019919237  | ...                                        |  1.39370870552862480273859                 |  0.000000000000000171948611353349226386553 | 0                                          | 0                                          | -0.000000000000000116399327962228117932381 |  0.00000000000000431265270537359021035817  |  0.000000000000000078244889472912685941114 | 0                                          | 0                                          | 0                                          |\n",
       "| 경찰 |  0.175822443690439117469637                |  0.00000000000000135780957804904555904797  |  1.80713384603006788076129                 |  0.0348149257544983492529411               |  0.00000000000000345028250422864398794590  |  0.000000000000000241801960097922336262281 |  0.539219359494895966733452                |  2.50971238625678694234011                 |  0.00000000000000145995836264961285607192  | -0.00000000000000084008815734233021907743  | ...                                        |  1.55265000047055856668976                 |  0.000000000000000191556918131089649621340 | 0                                          | 0                                          | -0.000000000000000129673739436184063702345 |  0.00000000000000480444916909946987109564  |  0.000000000000000087208149036804462391620 | 0                                          | 0                                          | 0                                          |\n",
       "| 민주 |  0.000000000000000370758644                |  0.00000000000000000000000000000286524090  |  0.00000000000000381085349                 |  0.0000000000000004915622278               |  0.00000000000000000000000000000747128762  |  0.000000000000000000000000000000783504396 |  0.000000000000001138868378                |  0.00000000000000529239768                 |  0.00000000000000000000000000000308227449  | -0.00000000000000000000000000000177158631  | ...                                        |  0.00000000000000327411131                 |  0.000000000000000000000000000000404318759 | 0                                          | 0                                          | -0.000000000000000000000000000000273445458 |  0.00000000000000000000000000001014094531  |  0.000000000000000000000000000000169514850 | 0                                          | 0                                          | 0                                          |\n",
       "| 인사 |  0.000000000000000054052802                |  0.00000000000000000000000000000041859814  |  0.00000000000000055564036                 |  0.0000000000000002534707168               |  0.00000000000000000000000000000117429931  |  0.000000000000000000000000000000233191275 |  0.000000000000000166822635                |  0.00000000000000077163838                 |  0.00000000000000000000000000000045094871  | -0.00000000000000000000000000000025831541  | ...                                        |  0.00000000000000047734130                 |  0.000000000000000000000000000000059111029 | 0                                          | 0                                          | -0.000000000000000000000000000000039866006 |  0.00000000000000000000000000000148268598  |  0.000000000000000000000000000000018460434 | 0                                          | 0                                          | 0                                          |\n",
       "| 수능 |  0.000000000000000387358445                |  0.00000000000000000000000000000299352833  |  0.00000000000000398147525                 |  0.0000000000000005142666565               |  0.00000000000000000000000000000780612166  |  0.000000000000000000000000000000819039258 |  0.000000000000001189861407                |  0.00000000000000552935193                 |  0.00000000000000000000000000000322028177  | -0.00000000000000000000000000000185090485  | ...                                        |  0.00000000000000342070158                 |  0.000000000000000000000000000000422421764 | 0                                          | 0                                          | -0.000000000000000000000000000000285688304 |  0.00000000000000000000000000001059499729  |  0.000000000000000000000000000000177080522 | 0                                          | 0                                          | 0                                          |\n",
       "| 혼란 |  0.000000000000000361392283                |  0.00000000000000000000000000000279203489  |  0.00000000000000371452747                 |  0.0000000000000003083732677               |  0.00000000000000000000000000000720264356  |  0.000000000000000000000000000000651967457 |  0.000000000000001109357962                |  0.00000000000000515864002                 |  0.00000000000000000000000000000300291938  | -0.00000000000000000000000000000172679716  | ...                                        |  0.00000000000000319138952                 |  0.000000000000000000000000000000393949117 | 0                                          | 0                                          | -0.000000000000000000000000000000266537051 |  0.00000000000000000000000000000988077479  |  0.000000000000000000000000000000171105990 | 0                                          | 0                                          | 0                                          |\n",
       "| 계속 |  0.000000000000000034300755                |  0.00000000000000000000000000000026489080  |  0.00000000000000035254911                 |  0.0000000000000000066206359               |  0.00000000000000000000000000000067302671  |  0.000000000000000000000000000000047060429 |  0.000000000000000105194195                |  0.00000000000000048961337                 |  0.00000000000000000000000000000028481808  | -0.00000000000000000000000000000016389063  | ...                                        |  0.00000000000000030290254                 |  0.000000000000000000000000000000037370197 | 0                                          | 0                                          | -0.000000000000000000000000000000025297721 |  0.00000000000000000000000000000093728381  |  0.000000000000000000000000000000017019109 | 0                                          | 0                                          | 0                                          |\n",
       "| 출신 | -0.000000000000000002206288                | -0.00000000000000000000000000000001703968  | -0.00000000000000002267671                 | -0.0000000000000000007189466               | -0.00000000000000000000000000000004342746  | -0.000000000000000000000000000000003218800 | -0.000000000000000006767556                | -0.00000000000000003149294                 | -0.00000000000000000000000000000001832258  |  0.00000000000000000000000000000001054181  | ...                                        | -0.00000000000000001948327                 | -0.000000000000000000000000000000002403987 | 0                                          | 0                                          |  0.000000000000000000000000000000001627197 | -0.00000000000000000000000000000006029468  | -0.000000000000000000000000000000001084620 | 0                                          | 0                                          | 0                                          |\n",
       "\n"
      ],
      "text/plain": [
       "       1                           2                                        \n",
       "사고    0.017121061398776740714034  0.00000000000000013221873919430483943155\n",
       "병원    0.000000000000000081397781  0.00000000000000000000000000000062833980\n",
       "건설    0.065580899205584575195616  0.00000000000000050645734005255414579907\n",
       "노조    0.121379115065782819393725  0.00000000000000093739447752626770295203\n",
       "청년   -0.000691147583945507970778  0.00000000000000003431357085482617647575\n",
       "도약   -0.000590689146107942620982  0.00000000000000003230192040180534233072\n",
       "계좌   -0.000590689146107944138865  0.00000000000000003230192040180536082071\n",
       "은행    0.004731659305436176389537  0.00000000000000004316251361558982866003\n",
       "대통령  0.000000000000000238055336  0.00000000000000000000000000000184251247\n",
       "국정원  0.000000000000000087761200  0.00000000000000000000000000000068194961\n",
       "체포    0.000000000000000032597870  0.00000000000000000000000000000025501506\n",
       "공개    0.000000000000000010893738  0.00000000000000000000000000000007868180\n",
       "협력    0.044511596681981402401362  0.00000000000000034418261995618245007410\n",
       "확인    0.004753575896437956319063  0.00000000000000003673811882585375841997\n",
       "대구    0.203185145643347470079121  0.00000000000000156915379461160016697982\n",
       "전국    0.026569314867097636873039  0.00000000000000020518540555018645432216\n",
       "최고    0.045842773350144548627494  0.00000000000000035402591198444853652118\n",
       "이재명  0.000000000000000021590647  0.00000000000000000000000000000016676121\n",
       "조국    0.000000000000000129112784  0.00000000000000000000000000000099799274\n",
       "이강인 -0.000000000000000007550255 -0.00000000000000000000000000000005830762\n",
       "감독    0.000000000000000006871899  0.00000000000000000000000000000005307004\n",
       "협상   -0.000000000000000010682990 -0.00000000000000000000000000000008250104\n",
       "감사    0.000000000000000039670336  0.00000000000000000000000000000030653152\n",
       "바이든  0.000000000000000053236318  0.00000000000000000000000000000041112388\n",
       "반격   -0.000000000000000002622780 -0.00000000000000000000000000000002025301\n",
       "참석   -0.000000000000000013373731 -0.00000000000000000000000000000010327983\n",
       "홍준표  0.114527235134269586569467  0.00000000000000088448178482187333531925\n",
       "불법    0.157823888653868205089736  0.00000000000000121881864563863299554414\n",
       "경찰    0.175822443690439117469637  0.00000000000000135780957804904555904797\n",
       "민주    0.000000000000000370758644  0.00000000000000000000000000000286524090\n",
       "인사    0.000000000000000054052802  0.00000000000000000000000000000041859814\n",
       "수능    0.000000000000000387358445  0.00000000000000000000000000000299352833\n",
       "혼란    0.000000000000000361392283  0.00000000000000000000000000000279203489\n",
       "계속    0.000000000000000034300755  0.00000000000000000000000000000026489080\n",
       "출신   -0.000000000000000002206288 -0.00000000000000000000000000000001703968\n",
       "       3                          4                           \n",
       "사고    0.17597322108038304655508  0.0032492309439170093121607\n",
       "병원    0.00000000000000083660342 -0.0000000000000000387436880\n",
       "건설    0.67405203097073285167795  0.0132150242809274710842349\n",
       "노조    1.24755773793685897921080  0.0302505338593409348058039\n",
       "청년   -0.00451877072369434237831  8.2342468669683714921347928\n",
       "도약   -0.00366796335548051719716  7.6553928000010840193567674\n",
       "계좌   -0.00366796335548053280967  7.6553928000010893484272856\n",
       "은행    0.04906451108125347432276  1.3760774302135181379469486\n",
       "대통령  0.00000000000000244704182  0.0000000000000008990137490\n",
       "국정원  0.00000000000000090229900  0.0000000000000008902999652\n",
       "체포    0.00000000000000033526007  0.0000000000000006864038183\n",
       "공개    0.00000000000000011161268 -0.0000000000000011288987157\n",
       "협력    0.45752644102782236146254  0.0994747688094863996566275\n",
       "확인    0.04885991478182376973605  0.0067701380652150852657023\n",
       "대구    2.08837460540822750232337  0.0469866270438109440155117\n",
       "전국    0.27308411587046055313266  0.0054136480832387536346606\n",
       "최고    0.47118002652354507020505  0.0090115463548472198029859\n",
       "이재명  0.00000000000000022191407  0.0000000000000000094446305\n",
       "조국    0.00000000000000132710272  0.0000000000000002133051395\n",
       "이강인 -0.00000000000000007760283 -0.0000000000000000014716788\n",
       "감독    0.00000000000000007063065  0.0000000000000000015660476\n",
       "협상   -0.00000000000000010980167 -0.0000000000000000021955822\n",
       "감사    0.00000000000000040774991  0.0000000000000000437124756\n",
       "바이든  0.00000000000000054717220  0.0000000000000000105683744\n",
       "반격   -0.00000000000000002695728 -0.0000000000000000001621352\n",
       "참석   -0.00000000000000013745753 -0.0000000000000000025668911\n",
       "홍준표  1.17713303156040027808160  0.0292590666078687451634455\n",
       "불법    1.62214187568935264138759  0.0322963480142327979960370\n",
       "경찰    1.80713384603006788076129  0.0348149257544983492529411\n",
       "민주    0.00000000000000381085349  0.0000000000000004915622278\n",
       "인사    0.00000000000000055564036  0.0000000000000002534707168\n",
       "수능    0.00000000000000398147525  0.0000000000000005142666565\n",
       "혼란    0.00000000000000371452747  0.0000000000000003083732677\n",
       "계속    0.00000000000000035254911  0.0000000000000000066206359\n",
       "출신   -0.00000000000000002267671 -0.0000000000000000007189466\n",
       "       5                                        \n",
       "사고    0.00000000000000033591220257500934926256\n",
       "병원    0.00000000000000000000000000000157165537\n",
       "건설    0.00000000000000128704550717660124500158\n",
       "노조    0.00000000000000238481263450212593261318\n",
       "청년    0.00000000000000383909254264840817047477\n",
       "도약    0.00000000000000357022373692931867293979\n",
       "계좌    0.00000000000000357022373692932103953629\n",
       "은행    0.00000000000000073624525887405404553712\n",
       "대통령  0.00000000000000000000000000000507009131\n",
       "국정원  0.00000000000000000000000000000213061502\n",
       "체포    0.00000000000000000000000000000095782061\n",
       "공개   -0.00000000000000000000000000000031541662\n",
       "협력    0.00000000000000091589902405262216093795\n",
       "확인    0.00000000000000009600980822348859736702\n",
       "대구    0.00000000000000399039909358527468278069\n",
       "전국    0.00000000000000052145900353955190703430\n",
       "최고    0.00000000000000089957287152325236300257\n",
       "이재명  0.00000000000000000000000000000042610648\n",
       "조국    0.00000000000000000000000000000262150567\n",
       "이강인 -0.00000000000000000000000000000014815282\n",
       "감독    0.00000000000000000000000000000013494799\n",
       "협상   -0.00000000000000000000000000000020967706\n",
       "감사    0.00000000000000000000000000000079525448\n",
       "바이든  0.00000000000000000000000000000104470481\n",
       "반격   -0.00000000000000000000000000000005130146\n",
       "참석   -0.00000000000000000000000000000026240374\n",
       "홍준표  0.00000000000000225052447706947927560418\n",
       "불법    0.00000000000000309757380045862920387063\n",
       "경찰    0.00000000000000345028250422864398794590\n",
       "민주    0.00000000000000000000000000000747128762\n",
       "인사    0.00000000000000000000000000000117429931\n",
       "수능    0.00000000000000000000000000000780612166\n",
       "혼란    0.00000000000000000000000000000720264356\n",
       "계속    0.00000000000000000000000000000067302671\n",
       "출신   -0.00000000000000000000000000000004342746\n",
       "       7                                          8                          \n",
       "사고    0.000000000000000023453723431580121858500  0.052506951061415708947866\n",
       "병원    0.000000000000000000000000000000076044838  0.000000000000000249396416\n",
       "건설    0.000000000000000090340927474838293217280  0.201127138611341932383780\n",
       "노조    0.000000000000000170995556181462462176299  0.372277283109175294306681\n",
       "청년    0.000000000000005387201736654474167921569  0.033539991319619995302492\n",
       "도약    0.000000000000005008554895344029746391545  0.031341223206699013459353\n",
       "계좌    0.000000000000005008554895344032901419867  0.031341223206699034276035\n",
       "은행    0.000000000000000906327665970115408169971  0.020466395023844168032934\n",
       "대통령  0.000000000000000000000000000000884811815  0.000000000000000733766816\n",
       "국정원  0.000000000000000000000000000000691889533  0.000000000000000272929843\n",
       "체포    0.000000000000000000000000000000489753899  0.000000000000000102917034\n",
       "공개   -0.000000000000000000000000000000725122320  0.000000000000000028511230\n",
       "협력    0.000000000000000120538921638625845761221  0.136902573600049093371922\n",
       "확인    0.000000000000000010351524915480967378202  0.014603700609100871143919\n",
       "대구    0.000000000000000283852029447541377889241  0.623165643931776425112901\n",
       "전국    0.000000000000000036639633799134041637451  0.081484506998401207145122\n",
       "최고    0.000000000000000063002734154629390240371  0.140592180461142912673012\n",
       "이재명  0.000000000000000000000000000000033075404  0.000000000000000066237453\n",
       "조국    0.000000000000000000000000000000300410746  0.000000000000000396781310\n",
       "이강인 -0.000000000000000000000000000000010368294 -0.000000000000000023155325\n",
       "감독    0.000000000000000000000000000000009585021  0.000000000000000021075907\n",
       "협상   -0.000000000000000000000000000000014744406 -0.000000000000000032763372\n",
       "감사    0.000000000000000000000000000000078020251  0.000000000000000121817869\n",
       "바이든  0.000000000000000000000000000000073231532  0.000000000000000163267402\n",
       "반격   -0.000000000000000000000000000000003373274 -0.000000000000000008042102\n",
       "참석   -0.000000000000000000000000000000018339211 -0.000000000000000041014747\n",
       "홍준표  0.000000000000000161811448958757909000888  0.351265243365992019253241\n",
       "불법    0.000000000000000217733249938907477303782  0.484025192169792561891484\n",
       "경찰    0.000000000000000241801960097922336262281  0.539219359494895966733452\n",
       "민주    0.000000000000000000000000000000783504396  0.000000000000001138868378\n",
       "인사    0.000000000000000000000000000000233191275  0.000000000000000166822635\n",
       "수능    0.000000000000000000000000000000819039258  0.000000000000001189861407\n",
       "혼란    0.000000000000000000000000000000651967457  0.000000000000001109357962\n",
       "계속    0.000000000000000000000000000000047060429  0.000000000000000105194195\n",
       "출신   -0.000000000000000000000000000000003218800 -0.000000000000000006767556\n",
       "       9                          10                                       \n",
       "사고    0.24438820562449750650735  0.00000000000000014216513111317428454464\n",
       "병원    0.00000000000000116186404  0.00000000000000000000000000000067541600\n",
       "건설    0.93611034599338105444133  0.00000000000000054455922424655131648327\n",
       "노조    1.73258333681260934255874  0.00000000000000100793719516665384542536\n",
       "청년   -0.00709544853313587992050  0.00000000000000006603773240609084068005\n",
       "도약   -0.00585622741875482973051  0.00000000000000006182602166266495995195\n",
       "계좌   -0.00585622741875485228191  0.00000000000000006182602166266499692758\n",
       "은행    0.06800292231415459853761  0.00000000000000005127648468566278251030\n",
       "대통령  0.00000000000000339831934  0.00000000000000000000000000000198414065\n",
       "국정원  0.00000000000000125300842  0.00000000000000000000000000000073634247\n",
       "체포    0.00000000000000046553497  0.00000000000000000000000000000027660643\n",
       "공개    0.00000000000000015511813  0.00000000000000000000000000000008059810\n",
       "협력    0.63539480819951910106624  0.00000000000000037039653647791542100294\n",
       "확인    0.06785512030620428902683  0.00000000000000003952257760786623682400\n",
       "대구    2.90029341804679630101305  0.00000000000000168722602636285121772974\n",
       "전국    0.37925390094196531620696  0.00000000000000022062216008177973503718\n",
       "최고    0.65436567588610372592228  0.00000000000000038065924901068046068940\n",
       "이재명  0.00000000000000030818944  0.00000000000000000000000000000017932505\n",
       "조국    0.00000000000000184303579  0.00000000000000000000000000000107373673\n",
       "이강인 -0.00000000000000010777331 -0.00000000000000000000000000000006269406\n",
       "감독    0.00000000000000009809045  0.00000000000000000000000000000005706326\n",
       "협상   -0.00000000000000015249041 -0.00000000000000000000000000000008870792\n",
       "감사    0.00000000000000056627159  0.00000000000000000000000000000032971896\n",
       "바이든  0.00000000000000075990212  0.00000000000000000000000000000044205306\n",
       "반격   -0.00000000000000003743779 -0.00000000000000000000000000000002177539\n",
       "참석   -0.00000000000000019089835 -0.00000000000000000000000000000011104934\n",
       "홍준표  1.63477883605269092015533  0.00000000000000095104514338505068840948\n",
       "불법    2.25279902677792476239915  0.00000000000000131051476321866747036787\n",
       "경찰    2.50971238625678694234011  0.00000000000000145995836264961285607192\n",
       "민주    0.00000000000000529239768  0.00000000000000000000000000000308227449\n",
       "인사    0.00000000000000077163838  0.00000000000000000000000000000045094871\n",
       "수능    0.00000000000000552935193  0.00000000000000000000000000000322028177\n",
       "혼란    0.00000000000000515864002  0.00000000000000000000000000000300291938\n",
       "계속    0.00000000000000048961337  0.00000000000000000000000000000028481808\n",
       "출신   -0.00000000000000003149294 -0.00000000000000000000000000000001832258\n",
       "       11                                        ... 903                       \n",
       "사고   -0.00000000000000008180523299143623450723 ...  0.15119238554389619055840\n",
       "병원   -0.00000000000000000000000000000038891158 ...  0.00000000000000071880335\n",
       "건설   -0.00000000000000031334876063876013023695 ...  0.57913075914323186577093\n",
       "노조   -0.00000000000000057995653644991933648063 ...  1.07187305686954159611446\n",
       "청년    0.00000000000000000165716394001694325702 ... -0.00567300950196587307206\n",
       "도약    0.00000000000000000129282365427156248914 ... -0.00481613727118209832695\n",
       "계좌    0.00000000000000000129282365427156980783 ... -0.00481613727118211307210\n",
       "은행   -0.00000000000000002288284101362864727267 ...  0.04185613163845192108425\n",
       "대통령 -0.00000000000000000000000000000113761013 ...  0.00000000000000210225974\n",
       "국정원 -0.00000000000000000000000000000041950167 ...  0.00000000000000077504581\n",
       "체포   -0.00000000000000000000000000000015589005 ...  0.00000000000000028790028\n",
       "공개   -0.00000000000000000000000000000005182483 ...  0.00000000000000009614113\n",
       "협력   -0.00000000000000021269667966785683716705 ...  0.39307702853916987040250\n",
       "확인   -0.00000000000000002271398058793571383268 ...  0.04197810601403875047088\n",
       "대구   -0.00000000000000097082982274562039460078 ...  1.79428446060300639253171\n",
       "전국   -0.00000000000000012694950463045740622929 ...  0.23462788525393482585990\n",
       "최고   -0.00000000000000021903897971784320615994 ...  0.40482762020835261207452\n",
       "이재명 -0.00000000000000000000000000000010316219 ...  0.00000000000000019066261\n",
       "조국   -0.00000000000000000000000000000061694465 ...  0.00000000000000114017690\n",
       "이강인  0.00000000000000000000000000000003607548 ... -0.00000000000000006667467\n",
       "감독   -0.00000000000000000000000000000003283431 ...  0.00000000000000006068427\n",
       "협상    0.00000000000000000000000000000005104386 ... -0.00000000000000009433918\n",
       "감사   -0.00000000000000000000000000000018955395 ...  0.00000000000000035032204\n",
       "바이든 -0.00000000000000000000000000000025436571 ...  0.00000000000000047011842\n",
       "반격    0.00000000000000000000000000000001253170 ... -0.00000000000000002316119\n",
       "참석    0.00000000000000000000000000000006390032 ... -0.00000000000000011810053\n",
       "홍준표 -0.00000000000000054721799503638927754737 ...  1.01136560515359619216724\n",
       "불법   -0.00000000000000075409039791532019919237 ...  1.39370870552862480273859\n",
       "경찰   -0.00000000000000084008815734233021907743 ...  1.55265000047055856668976\n",
       "민주   -0.00000000000000000000000000000177158631 ...  0.00000000000000327411131\n",
       "인사   -0.00000000000000000000000000000025831541 ...  0.00000000000000047734130\n",
       "수능   -0.00000000000000000000000000000185090485 ...  0.00000000000000342070158\n",
       "혼란   -0.00000000000000000000000000000172679716 ...  0.00000000000000319138952\n",
       "계속   -0.00000000000000000000000000000016389063 ...  0.00000000000000030290254\n",
       "출신    0.00000000000000000000000000000001054181 ... -0.00000000000000001948327\n",
       "       904                                        905 906\n",
       "사고    0.000000000000000018653108946619155338216 0   0  \n",
       "병원    0.000000000000000000000000000000088632183 0   0  \n",
       "건설    0.000000000000000071449988790217913215731 0   0  \n",
       "노조    0.000000000000000132247076435526662581237 0   0  \n",
       "청년    0.000000000000000006743206361114627728562 0   0  \n",
       "도약    0.000000000000000006325674596122674628491 0   0  \n",
       "계좌    0.000000000000000006325674596122677711095 0   0  \n",
       "은행    0.000000000000000006406963671131466499502 0   0  \n",
       "대통령  0.000000000000000000000000000000260134584 0   0  \n",
       "국정원  0.000000000000000000000000000000096409680 0   0  \n",
       "체포    0.000000000000000000000000000000036134071 0   0  \n",
       "공개    0.000000000000000000000000000000010838965 0   0  \n",
       "협력    0.000000000000000048577504415982536351871 0   0  \n",
       "확인    0.000000000000000005184283093972724116780 0   0  \n",
       "대구    0.000000000000000221374475705798209228606 0   0  \n",
       "전국    0.000000000000000028947160514271909295680 0   0  \n",
       "최고    0.000000000000000049945215495384392527523 0   0  \n",
       "이재명  0.000000000000000000000000000000023527515 0   0  \n",
       "조국    0.000000000000000000000000000000140838087 0   0  \n",
       "이강인 -0.000000000000000000000000000000008225911 0   0  \n",
       "감독    0.000000000000000000000000000000007487057 0   0  \n",
       "협상   -0.000000000000000000000000000000011639091 0   0  \n",
       "감사    0.000000000000000000000000000000043253105 0   0  \n",
       "바이든  0.000000000000000000000000000000058000498 0   0  \n",
       "반격   -0.000000000000000000000000000000002857170 0   0  \n",
       "참석   -0.000000000000000000000000000000014570482 0   0  \n",
       "홍준표  0.000000000000000124782349478084891110288 0   0  \n",
       "불법    0.000000000000000171948611353349226386553 0   0  \n",
       "경찰    0.000000000000000191556918131089649621340 0   0  \n",
       "민주    0.000000000000000000000000000000404318759 0   0  \n",
       "인사    0.000000000000000000000000000000059111029 0   0  \n",
       "수능    0.000000000000000000000000000000422421764 0   0  \n",
       "혼란    0.000000000000000000000000000000393949117 0   0  \n",
       "계속    0.000000000000000000000000000000037370197 0   0  \n",
       "출신   -0.000000000000000000000000000000002403987 0   0  \n",
       "       907                                       \n",
       "사고   -0.000000000000000012627238846410930650033\n",
       "병원   -0.000000000000000000000000000000060032893\n",
       "건설   -0.000000000000000048367662060715075934836\n",
       "노조   -0.000000000000000089520349149771296830627\n",
       "청년    0.000000000000000000488587195476389029138\n",
       "도약    0.000000000000000000415983437078064030188\n",
       "계좌    0.000000000000000000415983437078065185774\n",
       "은행   -0.000000000000000003493257353711399343897\n",
       "대통령 -0.000000000000000000000000000000175574345\n",
       "국정원 -0.000000000000000000000000000000064728467\n",
       "체포   -0.000000000000000000000000000000024043545\n",
       "공개   -0.000000000000000000000000000000008031517\n",
       "협력   -0.000000000000000032828722069298262844963\n",
       "확인   -0.000000000000000003505903921501540180389\n",
       "대구   -0.000000000000000149854478931739320103980\n",
       "전국   -0.000000000000000019595578412427185472505\n",
       "최고   -0.000000000000000033810267289632985564501\n",
       "이재명 -0.000000000000000000000000000000015923691\n",
       "조국   -0.000000000000000000000000000000095224602\n",
       "이강인  0.000000000000000000000000000000005568514\n",
       "감독   -0.000000000000000000000000000000005068210\n",
       "협상    0.000000000000000000000000000000007878990\n",
       "감사   -0.000000000000000000000000000000029258023\n",
       "바이든 -0.000000000000000000000000000000039263204\n",
       "반격    0.000000000000000000000000000000001934370\n",
       "참석    0.000000000000000000000000000000009863483\n",
       "홍준표 -0.000000000000000084466905975768589035294\n",
       "불법   -0.000000000000000116399327962228117932381\n",
       "경찰   -0.000000000000000129673739436184063702345\n",
       "민주   -0.000000000000000000000000000000273445458\n",
       "인사   -0.000000000000000000000000000000039866006\n",
       "수능   -0.000000000000000000000000000000285688304\n",
       "혼란   -0.000000000000000000000000000000266537051\n",
       "계속   -0.000000000000000000000000000000025297721\n",
       "출신    0.000000000000000000000000000000001627197\n",
       "       908                                      \n",
       "사고    0.00000000000000046783954035697100739578\n",
       "병원    0.00000000000000000000000000000222296153\n",
       "건설    0.00000000000000179204105063354053833762\n",
       "노조    0.00000000000000331689895110691000961085\n",
       "청년    0.00000000000000017316761401053053112849\n",
       "도약    0.00000000000000016241140412748616807595\n",
       "계좌    0.00000000000000016241140412748624201854\n",
       "은행    0.00000000000000016136822327943103129975\n",
       "대통령  0.00000000000000000000000000000652486728\n",
       "국정원  0.00000000000000000000000000000241848464\n",
       "체포    0.00000000000000000000000000000090661421\n",
       "공개    0.00000000000000000000000000000027129760\n",
       "협력    0.00000000000000121841944142088412224127\n",
       "확인    0.00000000000000013003013820504363497101\n",
       "대구    0.00000000000000555230821784427192944547\n",
       "전국    0.00000000000000072602533483664824314439\n",
       "최고    0.00000000000000125267855234272119132992\n",
       "이재명  0.00000000000000000000000000000059009739\n",
       "조국    0.00000000000000000000000000000353245962\n",
       "이강인 -0.00000000000000000000000000000020631451\n",
       "감독    0.00000000000000000000000000000018778338\n",
       "협상   -0.00000000000000000000000000000029192070\n",
       "감사    0.00000000000000000000000000000108485101\n",
       "바이든  0.00000000000000000000000000000145471356\n",
       "반격   -0.00000000000000000000000000000007166065\n",
       "참석   -0.00000000000000000000000000000036544299\n",
       "홍준표  0.00000000000000312967591974941512951436\n",
       "불법    0.00000000000000431265270537359021035817\n",
       "경찰    0.00000000000000480444916909946987109564\n",
       "민주    0.00000000000000000000000000001014094531\n",
       "인사    0.00000000000000000000000000000148268598\n",
       "수능    0.00000000000000000000000000001059499729\n",
       "혼란    0.00000000000000000000000000000988077479\n",
       "계속    0.00000000000000000000000000000093728381\n",
       "출신   -0.00000000000000000000000000000006029468\n",
       "       909                                        911 912 913\n",
       "사고    0.000000000000000008496915180611927756460 0   0   0  \n",
       "병원    0.000000000000000000000000000000042260320 0   0   0  \n",
       "건설    0.000000000000000032520322738597180743138 0   0   0  \n",
       "노조    0.000000000000000059990394799196114722709 0   0   0  \n",
       "청년   -0.000000000000000283558664300569554213641 0   0   0  \n",
       "도약   -0.000000000000000263598872875983866910510 0   0   0  \n",
       "계좌   -0.000000000000000263598872875984064170253 0   0   0  \n",
       "은행   -0.000000000000000044950084599523531495198 0   0   0  \n",
       "대통령  0.000000000000000000000000000000088776063 0   0   0  \n",
       "국정원  0.000000000000000000000000000000013506116 0   0   0  \n",
       "체포   -0.000000000000000000000000000000007217787 0   0   0  \n",
       "공개    0.000000000000000000000000000000044305179 0   0   0  \n",
       "협력    0.000000000000000018959587228524764929843 0   0   0  \n",
       "확인    0.000000000000000002157299485083534997020 0   0   0  \n",
       "대구    0.000000000000000100547798931400602772540 0   0   0  \n",
       "전국    0.000000000000000013173164076686511344411 0   0   0  \n",
       "최고    0.000000000000000022740337552823375799269 0   0   0  \n",
       "이재명  0.000000000000000000000000000000010531189 0   0   0  \n",
       "조국    0.000000000000000000000000000000057582939 0   0   0  \n",
       "이강인 -0.000000000000000000000000000000003745739 0   0   0  \n",
       "감독    0.000000000000000000000000000000003401408 0   0   0  \n",
       "협상   -0.000000000000000000000000000000005296017 0   0   0  \n",
       "감사    0.000000000000000000000000000000018443250 0   0   0  \n",
       "바이든  0.000000000000000000000000000000026404352 0   0   0  \n",
       "반격   -0.000000000000000000000000000000001313188 0   0   0  \n",
       "참석   -0.000000000000000000000000000000006636182 0   0   0  \n",
       "홍준표  0.000000000000000056579290138350663702527 0   0   0  \n",
       "불법    0.000000000000000078244889472912685941114 0   0   0  \n",
       "경찰    0.000000000000000087208149036804462391620 0   0   0  \n",
       "민주    0.000000000000000000000000000000169514850 0   0   0  \n",
       "인사    0.000000000000000000000000000000018460434 0   0   0  \n",
       "수능    0.000000000000000000000000000000177080522 0   0   0  \n",
       "혼란    0.000000000000000000000000000000171105990 0   0   0  \n",
       "계속    0.000000000000000000000000000000017019109 0   0   0  \n",
       "출신   -0.000000000000000000000000000000001084620 0   0   0  "
      ]
     },
     "metadata": {},
     "output_type": "display_data"
    }
   ],
   "source": [
    "Mk <- LSA$tk%*%diag(LSA$sk)%*%t(LSA$dk)\n",
    "Mk"
   ]
  },
  {
   "cell_type": "code",
   "execution_count": 92,
   "id": "f8933e29",
   "metadata": {
    "scrolled": true
   },
   "outputs": [
    {
     "data": {
      "text/html": [
       "<table>\n",
       "<thead><tr><th scope=col>사고</th><th scope=col>병원</th><th scope=col>건설</th><th scope=col>노조</th><th scope=col>청년</th><th scope=col>도약</th><th scope=col>계좌</th><th scope=col>은행</th><th scope=col>대통령</th><th scope=col>국정원</th><th scope=col>...</th><th scope=col>참석</th><th scope=col>홍준표</th><th scope=col>불법</th><th scope=col>경찰</th><th scope=col>민주</th><th scope=col>인사</th><th scope=col>수능</th><th scope=col>혼란</th><th scope=col>계속</th><th scope=col>출신</th></tr></thead>\n",
       "<tbody>\n",
       "\t<tr><td>-0.0004795515              </td><td> 0.0000000000000001468368  </td><td>-0.003953185               </td><td> -0.0232537                </td><td>-22.65826875               </td><td>-21.06540394               </td><td>-21.06540394               </td><td>-3.7841721                 </td><td>-0.000000000000002356141   </td><td>-0.000000000000002406440   </td><td>...                        </td><td>0.0000000000000000004539147</td><td>-0.02391172                </td><td> -0.01087204               </td><td> -0.008907413              </td><td>-0.000000000000001169387   </td><td>-0.0000000000000006707547  </td><td>-0.000000000000001223659   </td><td>-0.0000000000000006699407  </td><td>-0.00000000000000000126631 </td><td>0.000000000000000000887952 </td></tr>\n",
       "\t<tr><td>-1.4585644441              </td><td>-0.0000000000000069344117  </td><td>-5.586917619               </td><td>-10.3404328                </td><td>  0.06401343               </td><td>  0.05509435               </td><td>  0.05509435               </td><td>-0.4022386                 </td><td>-0.000000000000020279697   </td><td>-0.000000000000007475941   </td><td>...                        </td><td>0.0000000000000011393247379</td><td>-9.75671244                </td><td>-13.44521125               </td><td>-14.978531027              </td><td>-0.000000000000031585126   </td><td>-0.0000000000000046046735  </td><td>-0.000000000000032999271   </td><td>-0.0000000000000307873071  </td><td>-0.00000000000000292212374 </td><td>0.000000000000000187956255 </td></tr>\n",
       "</tbody>\n",
       "</table>\n"
      ],
      "text/latex": [
       "\\begin{tabular}{lllllllllllllllllllllllllllllllllll}\n",
       " 사고 & 병원 & 건설 & 노조 & 청년 & 도약 & 계좌 & 은행 & 대통령 & 국정원 & ... & 참석 & 홍준표 & 불법 & 경찰 & 민주 & 인사 & 수능 & 혼란 & 계속 & 출신\\\\\n",
       "\\hline\n",
       "\t -0.0004795515               &  0.0000000000000001468368   & -0.003953185                &  -0.0232537                 & -22.65826875                & -21.06540394                & -21.06540394                & -3.7841721                  & -0.000000000000002356141    & -0.000000000000002406440    & ...                         & 0.0000000000000000004539147 & -0.02391172                 &  -0.01087204                &  -0.008907413               & -0.000000000000001169387    & -0.0000000000000006707547   & -0.000000000000001223659    & -0.0000000000000006699407   & -0.00000000000000000126631  & 0.000000000000000000887952 \\\\\n",
       "\t -1.4585644441               & -0.0000000000000069344117   & -5.586917619                & -10.3404328                 &   0.06401343                &   0.05509435                &   0.05509435                & -0.4022386                  & -0.000000000000020279697    & -0.000000000000007475941    & ...                         & 0.0000000000000011393247379 & -9.75671244                 & -13.44521125                & -14.978531027               & -0.000000000000031585126    & -0.0000000000000046046735   & -0.000000000000032999271    & -0.0000000000000307873071   & -0.00000000000000292212374  & 0.000000000000000187956255 \\\\\n",
       "\\end{tabular}\n"
      ],
      "text/markdown": [
       "\n",
       "| 사고 | 병원 | 건설 | 노조 | 청년 | 도약 | 계좌 | 은행 | 대통령 | 국정원 | ... | 참석 | 홍준표 | 불법 | 경찰 | 민주 | 인사 | 수능 | 혼란 | 계속 | 출신 |\n",
       "|---|---|---|---|---|---|---|---|---|---|---|---|---|---|---|---|---|---|---|---|---|\n",
       "| -0.0004795515               |  0.0000000000000001468368   | -0.003953185                |  -0.0232537                 | -22.65826875                | -21.06540394                | -21.06540394                | -3.7841721                  | -0.000000000000002356141    | -0.000000000000002406440    | ...                         | 0.0000000000000000004539147 | -0.02391172                 |  -0.01087204                |  -0.008907413               | -0.000000000000001169387    | -0.0000000000000006707547   | -0.000000000000001223659    | -0.0000000000000006699407   | -0.00000000000000000126631  | 0.000000000000000000887952  |\n",
       "| -1.4585644441               | -0.0000000000000069344117   | -5.586917619                | -10.3404328                 |   0.06401343                |   0.05509435                |   0.05509435                | -0.4022386                  | -0.000000000000020279697    | -0.000000000000007475941    | ...                         | 0.0000000000000011393247379 | -9.75671244                 | -13.44521125                | -14.978531027               | -0.000000000000031585126    | -0.0000000000000046046735   | -0.000000000000032999271    | -0.0000000000000307873071   | -0.00000000000000292212374  | 0.000000000000000187956255  |\n",
       "\n"
      ],
      "text/plain": [
       "     사고          병원                      건설         노조       \n",
       "[1,] -0.0004795515  0.0000000000000001468368 -0.003953185  -0.0232537\n",
       "[2,] -1.4585644441 -0.0000000000000069344117 -5.586917619 -10.3404328\n",
       "     청년         도약         계좌         은행       대통령                  \n",
       "[1,] -22.65826875 -21.06540394 -21.06540394 -3.7841721 -0.000000000000002356141\n",
       "[2,]   0.06401343   0.05509435   0.05509435 -0.4022386 -0.000000000000020279697\n",
       "     국정원                   ... 참석                        홍준표     \n",
       "[1,] -0.000000000000002406440 ... 0.0000000000000000004539147 -0.02391172\n",
       "[2,] -0.000000000000007475941 ... 0.0000000000000011393247379 -9.75671244\n",
       "     불법         경찰          민주                    \n",
       "[1,]  -0.01087204  -0.008907413 -0.000000000000001169387\n",
       "[2,] -13.44521125 -14.978531027 -0.000000000000031585126\n",
       "     인사                      수능                    \n",
       "[1,] -0.0000000000000006707547 -0.000000000000001223659\n",
       "[2,] -0.0000000000000046046735 -0.000000000000032999271\n",
       "     혼란                      계속                      \n",
       "[1,] -0.0000000000000006699407 -0.00000000000000000126631\n",
       "[2,] -0.0000000000000307873071 -0.00000000000000292212374\n",
       "     출신                      \n",
       "[1,] 0.000000000000000000887952\n",
       "[2,] 0.000000000000000187956255"
      ]
     },
     "metadata": {},
     "output_type": "display_data"
    }
   ],
   "source": [
    "w2 <- diag(LSA$sk) %*% t(LSA$tk) #의미공간으로 투영\n",
    "w2"
   ]
  },
  {
   "cell_type": "code",
   "execution_count": 93,
   "id": "0f9f76dd",
   "metadata": {
    "scrolled": true
   },
   "outputs": [
    {
     "data": {
      "image/png": "[encoded data removed]",
      "text/plain": [
       "Plot with title \"Cluster Dendrogram\""
      ]
     },
     "metadata": {},
     "output_type": "display_data"
    }
   ],
   "source": [
    "s2 <- lsa::cosine(w2); d2 <- as.dist(1-s2)\n",
    "hc2 <- hclust(d2, \"ave\") # 계층적 군집분석\n",
    "plot(hc2)\n"
   ]
  },
  {
   "cell_type": "code",
   "execution_count": 94,
   "id": "ae8c8878",
   "metadata": {
    "scrolled": true
   },
   "outputs": [
    {
     "data": {
      "image/png": "[encoded data removed]",
      "text/plain": [
       "Plot with title \"원데이터 공간\""
      ]
     },
     "metadata": {},
     "output_type": "display_data"
    }
   ],
   "source": [
    "s_m <- lsa::cosine(t(m))\n",
    "d_m <- as.dist(1-s_m)\n",
    "hc_m <- hclust(d_m, \"ave\") # 계층적 군집분석\n",
    "plot(hc_m, main=\"원데이터 공간\")\n",
    "# 높이는 서로 간의 거리"
   ]
  },
  {
   "cell_type": "markdown",
   "id": "fa5794bd",
   "metadata": {},
   "source": [
    "### 1. 실시간 뉴스의 카테고리의 개수는 사회, 경제, 정치 순으로 다른 카테고리보다 많은 비율을 차지 했다.\n",
    "### 2. 최대 개수 단어는 공개, 징역, 정부, 민주당, 서울 순으로 사회, 정치 분야에 대한 단어 개수가 많았다.\n",
    "### 3. 토픽 분석 + 계층적 군집분석\n",
    "#### 3-1. 토픽 1 : 이태원 압사 참사에 대한 내용의 기사이며 카테고리는 사회에 가깝다.\n",
    "#### 3-2. 토픽 2 : 한미 사이버안보 회의에 대한 기사이며, 정치\n",
    "#### 3-3. 토픽 3 : 6/17 대구,경북 폭염주의보 발령에 대한 기사이며, 사회\n",
    "#### 3-4. 토픽 4,6 : 단어 나열로 기사를 파악불가하다.\n",
    "#### 3-5. 토픽 5 : 계충적 군집분석에서 유사도가 높은 '이재명','공개' 두 단어로 예상 가능하다.\n",
    "#### 3-6. 토픽 7 : 노조 감사에 대한 기사이며, 정치,사회면 모두 적합하다. 계층적 군집분석에서  '노조','건설'의 유사도와 연결조합이 높기 때문에 건설 노조에 대한 기사일 확률이 높다.\n",
    "#### 3-7. 토픽 8 : 민주당의 조국 출마에 대한 기사일 확률이 크다. 계층적 군집분석에서 '조국','민주'와의 유사도가 높고 정치면의 기사일 확률이 매우 높다.\n",
    "#### 3-8. 토픽 9 : 법원의 체포동의안 또는 체포동의요구서 등등 법원의 결정에 대한 기사일 확률이 높다.\n",
    "#### 3-9. 토픽 10 : 日오염수 방류에 대한 기사 일 것이며 정부의 의사표현이 담겨 있을 확률이 있다. 사회,정치면의 확률이 높다.\n",
    "#### 3-10. 토픽 11 : 수능, 마약, 대통령 등 여러 토픽의 주제단어가 섞여 있어 판단하기 어렵다.\n",
    "#### 3-11. 토픽 12 : 토픽11과 같이 단어의 개연성을 찾기 힘들다.\n",
    "#### 3-12. 토픽 13 : 서울,아파트,규모,세계,지원 등등 경제 카테고리의 주제어가 많이 섞여있고 서울 아파트가 메인이 되는 경제 기사 일 확률이 매우 높다.\n",
    "#### 3-13. 토픽 14 : 청년도약계좌에 대한 기사이며, 경제토픽의 확률이 매우 높다.\n"
   ]
  },
  {
   "cell_type": "markdown",
   "id": "6999ca33",
   "metadata": {},
   "source": [
    "# 결론\n",
    "## 동아일보의 최근 뉴스 동향으로 보았을 때 경제, 사회, 정치 기사가 문화,연예,스포츠 등등 기사 보다 훨씬 많은 비중을 차지 한다고 할 수 있다.\n",
    "## 제목 최대 단어인 '공개' 는 기사에 대한 호기심을 불러 일으키는 단어 이므로 제목과 첫 문단에 가장 많이 들어갔다고 생각된다.\n",
    "## 정치면에서는 여당인 '정부', 야당인 '민주당'의 개수가 최대이다. 제목과 첫 문단에 서로의 입장이나 반응에 대한 기사가 정치면의 대다수를 차지 한다고 보아도 된다.\n",
    "## 토픽 모델링 또한 정치면과 사회면의 기사가 많았고, 스포츠, 문화, 연예에 대한 토픽은 아예 없다.\n",
    "## 계층적 군집 분석에서 서로 같은 높이를 가지고 연결되어 있는 단어는 유사도가 높고 같은 토픽에 출현할 확률이 매우 높다. (대구,홍준표),(청년,도약,계좌),(조국,민주,대통령) 등등 같은 기사 안에서 추출되었다 볼 수 있다.\n",
    "## 동아일보는 사회, 정치 카테고리를 보기에 적합하지만 문화, 연예, 스포츠 카테고리를 보기에 적합하지 않은 채널이며,  교차표에서 확인해보면 모든 형태어 3400여개가 있었지만 3개 이상 겹치는 형태어를 확인 해 보았을 때 300여개로 줄어 든다. 제목과 첫 문단에 자주 사용하던 어휘를 계속 반복 하는 것으로 보인다."
   ]
  }
 ],
 "metadata": {
  "kernelspec": {
   "display_name": "R",
   "language": "R",
   "name": "ir"
  },
  "language_info": {
   "codemirror_mode": "r",
   "file_extension": ".r",
   "mimetype": "text/x-r-source",
   "name": "R",
   "pygments_lexer": "r",
   "version": "3.6.1"
  }
 },
 "nbformat": 4,
 "nbformat_minor": 5
}
